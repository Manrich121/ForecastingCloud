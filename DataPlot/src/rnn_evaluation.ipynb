{
 "metadata": {
  "name": "",
  "signature": "sha256:912b8a5f81a9b92349c42ce1967e8b74040922cd4fd820ed86722787becddacd"
 },
 "nbformat": 3,
 "nbformat_minor": 0,
 "worksheets": [
  {
   "cells": [
    {
     "cell_type": "code",
     "collapsed": false,
     "input": [
      "# %matplotlib inline\n",
      "import fileutils\n",
      "import tsutils\n",
      "import numpy as np\n",
      "import matplotlib.pyplot as plt\n",
      "import evaluation as eval\n",
      "\n",
      "overload_dur = 5 #samples\n",
      "train_window = 3000\n",
      "\n",
      "forecasts = np.genfromtxt(\"d:\\data\\cpu_rnn\\cpu_1095481.csv\",delimiter=',', usecols=range(30)).ravel()\n",
      "truevals = np.genfromtxt(\"d:\\data\\cpu\\cpu_1095481.csv\", delimiter=',')[:,1]\n",
      "# truevals = truevals/np.max(truevals)\n",
      "\n",
      "threshold =  np.percentile(truevals, 70)\n",
      "\n",
      "plt.figure(figsize=(12,8))\n",
      "plt.plot(truevals)\n",
      "plt.plot(range(3000,3000+len(forecasts)),forecasts)\n",
      "# plt.hlines(threshold,0,len(truevals))\n",
      "plt.title(\"Plot showing RNN transient behaviour reduced\")\n",
      "plt.xlabel(\"Samples\")\n",
      "plt.ylabel(\"Example data\")\n",
      "plt.show()"
     ],
     "language": "python",
     "metadata": {},
     "outputs": [],
     "prompt_number": 2
    },
    {
     "cell_type": "code",
     "collapsed": false,
     "input": [
      "print truevals.shape"
     ],
     "language": "python",
     "metadata": {},
     "outputs": [
      {
       "output_type": "stream",
       "stream": "stdout",
       "text": [
        "(8355, 2)\n"
       ]
      }
     ],
     "prompt_number": 2
    },
    {
     "cell_type": "code",
     "collapsed": false,
     "input": [
      "rmse = eval.calc_RMSE(truevals[train_window:],forecasts, print_=True)"
     ],
     "language": "python",
     "metadata": {},
     "outputs": [
      {
       "output_type": "stream",
       "stream": "stdout",
       "text": [
        "RMSE =  0.080082680374\n"
       ]
      }
     ],
     "prompt_number": 2
    },
    {
     "cell_type": "code",
     "collapsed": false,
     "input": [
      "correct, overest, underest = eval.calc_upper_lower_acc(truevals[train_window:], forecasts, print_=True)"
     ],
     "language": "python",
     "metadata": {},
     "outputs": [
      {
       "output_type": "stream",
       "stream": "stdout",
       "text": [
        "Correct prediction rate = 0.207677902622\n",
        "Over-estimation rate = 0.452808988764\n",
        "Under-estimation rate = 0.339513108614\n"
       ]
      }
     ],
     "prompt_number": 3
    },
    {
     "cell_type": "code",
     "collapsed": false,
     "input": [
      "TPR, FPR = eval.calc_persample_accuracy(truevals[train_window:], forecasts, threshold, print_=True)"
     ],
     "language": "python",
     "metadata": {},
     "outputs": [
      {
       "output_type": "stream",
       "stream": "stdout",
       "text": [
        " ------------\n",
        "| 1606 | 516 |\n",
        "-----------\n",
        "| 381 | 2837 |\n",
        " ------------\n",
        "TPR =  0.808253648717\n",
        "FPR =  0.153892036982\n"
       ]
      }
     ],
     "prompt_number": 4
    },
    {
     "cell_type": "code",
     "collapsed": false,
     "input": [
      "TPR, FPR = eval.calc_overload_states_acc(truevals[train_window:], forecasts, threshold, print_=True)"
     ],
     "language": "python",
     "metadata": {},
     "outputs": [
      {
       "output_type": "stream",
       "stream": "stdout",
       "text": [
        " ------------\n",
        "| 5 | 55 |\n",
        "-----------\n",
        "| 53 | 7 |\n",
        " ------------\n",
        "TPR =  0.0862068965517\n",
        "FPR =  0.887096774194\n"
       ]
      }
     ],
     "prompt_number": 5
    },
    {
     "cell_type": "code",
     "collapsed": false,
     "input": [],
     "language": "python",
     "metadata": {},
     "outputs": [],
     "prompt_number": 5
    }
   ],
   "metadata": {}
  }
 ]
}