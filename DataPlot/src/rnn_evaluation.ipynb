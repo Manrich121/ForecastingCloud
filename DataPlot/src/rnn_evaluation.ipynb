{
 "metadata": {
  "name": "",
  "signature": "sha256:8ebbfbe1b07d3585941a6474d92f8365329d68a3c75384055a2afedbf5695af2"
 },
 "nbformat": 3,
 "nbformat_minor": 0,
 "worksheets": [
  {
   "cells": [
    {
     "cell_type": "code",
     "collapsed": false,
     "input": [
      "# %matplotlib inline\n",
      "import fileutils\n",
      "import tsutils\n",
      "import numpy as np\n",
      "import matplotlib.pyplot as plt\n",
      "import evaluation as eval\n",
      "\n",
      "overload_dur = 5 #samples\n",
      "train_window = 3000\n",
      "\n",
      "forecasts = np.genfromtxt(\"d:/data/cpu_rnn_forecasts/cpu_317488701.csv\",delimiter=',')\n",
      "truevals = np.genfromtxt(\"d:/data/cpuRate/cpu_317488701.csv\", delimiter=',',skip_header=1)[:train_window+len(forecasts),1]\n",
      "\n",
      "threshold =  np.percentile(truevals, 70)\n",
      "\n",
      "plt.figure(figsize=(12,8))\n",
      "plt.plot(truevals)\n",
      "plt.plot(range(3000,3000+len(forecasts)),forecasts)\n",
      "plt.hlines(threshold,0,len(truevals))\n",
      "plt.show()"
     ],
     "language": "python",
     "metadata": {},
     "outputs": []
    },
    {
     "cell_type": "code",
     "collapsed": false,
     "input": [
      "rmse = eval.calc_RMSE(truevals[train_window:],forecasts, print_=True)"
     ],
     "language": "python",
     "metadata": {},
     "outputs": [
      {
       "ename": "AttributeError",
       "evalue": "'builtin_function_or_method' object has no attribute 'calc_RMSE'",
       "output_type": "pyerr",
       "traceback": [
        "\u001b[1;31m---------------------------------------------------------------------------\u001b[0m\n\u001b[1;31mAttributeError\u001b[0m                            Traceback (most recent call last)",
        "\u001b[1;32m<ipython-input-1-d601fb928239>\u001b[0m in \u001b[0;36m<module>\u001b[1;34m()\u001b[0m\n\u001b[1;32m----> 1\u001b[1;33m \u001b[0mrmse\u001b[0m \u001b[1;33m=\u001b[0m \u001b[0meval\u001b[0m\u001b[1;33m.\u001b[0m\u001b[0mcalc_RMSE\u001b[0m\u001b[1;33m(\u001b[0m\u001b[0mtruevals\u001b[0m\u001b[1;33m[\u001b[0m\u001b[0mtrain_window\u001b[0m\u001b[1;33m:\u001b[0m\u001b[1;33m]\u001b[0m\u001b[1;33m,\u001b[0m\u001b[0mforecasts\u001b[0m\u001b[1;33m,\u001b[0m \u001b[0mprint_\u001b[0m\u001b[1;33m=\u001b[0m\u001b[0mTrue\u001b[0m\u001b[1;33m)\u001b[0m\u001b[1;33m\u001b[0m\u001b[0m\n\u001b[0m",
        "\u001b[1;31mAttributeError\u001b[0m: 'builtin_function_or_method' object has no attribute 'calc_RMSE'"
       ]
      }
     ],
     "prompt_number": 1
    },
    {
     "cell_type": "code",
     "collapsed": false,
     "input": [
      "correct, overest, underest = eval.calc_upper_lower_acc(truevals[train_window:], forecasts, print_=True)"
     ],
     "language": "python",
     "metadata": {},
     "outputs": [
      {
       "output_type": "stream",
       "stream": "stdout",
       "text": [
        "Correct prediction rate = 0.307677902622\n",
        "Over-estimation rate = 0.430524344569\n",
        "Under-estimation rate = 0.261797752809\n"
       ]
      }
     ],
     "prompt_number": 3
    },
    {
     "cell_type": "code",
     "collapsed": false,
     "input": [
      "TPR, FPR = eval.calc_persample_accuracy(truevals[train_window:], forecasts, threshold, print_=True)"
     ],
     "language": "python",
     "metadata": {},
     "outputs": [
      {
       "output_type": "stream",
       "stream": "stdout",
       "text": [
        " ------------\n",
        "| 1646 | 1053 |\n",
        "-----------\n",
        "| 626 | 2015 |\n",
        " ------------\n",
        "TPR =  0.724471830986\n",
        "FPR =  0.343220338983\n"
       ]
      }
     ],
     "prompt_number": 4
    },
    {
     "cell_type": "code",
     "collapsed": false,
     "input": [
      "TPR, FPR = eval.calc_overload_states_acc(truevals[train_window:], forecasts, threshold, print_=True)"
     ],
     "language": "python",
     "metadata": {},
     "outputs": [
      {
       "output_type": "stream",
       "stream": "stdout",
       "text": [
        " ------------\n",
        "| 11 | 65 |\n",
        "-----------\n",
        "| 60 | 16 |\n",
        " ------------\n",
        "TPR =  0.154929577465\n",
        "FPR =  0.802469135802\n"
       ]
      }
     ],
     "prompt_number": 5
    }
   ],
   "metadata": {}
  }
 ]
}