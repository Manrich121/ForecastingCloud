{
 "metadata": {
  "name": "",
  "signature": "sha256:2a272677c37a3dfa1831a5825e8f10ebcd3b61fa60d29671689c02f68420b159"
 },
 "nbformat": 3,
 "nbformat_minor": 0,
 "worksheets": [
  {
   "cells": [
    {
     "cell_type": "code",
     "collapsed": false,
     "input": [
      "# %matplotlib inline\n",
      "import numpy as np\n",
      "import scipy\n",
      "import matplotlib.pyplot as plt\n",
      "from pybrain.datasets import SupervisedDataSet\n",
      "from pybrain.supervised.trainers import BackpropTrainer\n",
      "from pybrain.tools.customxml.networkreader import NetworkReader\n",
      "from pybrain.tools.shortcuts import buildNetwork\n",
      "from pybrain.structure import FeedForwardNetwork, FullConnection\n",
      "\n",
      "from pybrain.structure import LinearLayer, SigmoidLayer\n",
      "\n",
      "import evaluation as eval\n",
      "import Fnn_model"
     ],
     "language": "python",
     "metadata": {},
     "outputs": [],
     "prompt_number": 1
    },
    {
     "cell_type": "code",
     "collapsed": false,
     "input": [
      "n = FeedForwardNetwork()\n",
      "in1Layer = LinearLayer(30, name=\"cpuIn\")\n",
      "in2Layer = LinearLayer(30, name=\"memIn\")\n",
      "hidden1Layer = SigmoidLayer(4, name=\"cpuHidden\")\n",
      "hidden2Layer = SigmoidLayer(4, name=\"memHidden\")\n",
      "hidden3Layer = SigmoidLayer(2, name=\"comboHidden\")\n",
      "outLayer = LinearLayer(1, name=\"output\")\n",
      "\n",
      "n.addInputModule(in1Layer)\n",
      "n.addInputModule(in2Layer)\n",
      "n.addModule(hidden1Layer)\n",
      "n.addModule(hidden2Layer)\n",
      "n.addModule(hidden3Layer)\n",
      "n.addOutputModule(outLayer)\n",
      "\n",
      "in1_to_hidden1 = FullConnection(in1Layer, hidden1Layer)\n",
      "in2_to_hidden2 = FullConnection(in2Layer, hidden2Layer)\n",
      "hidden1_to_hidden3 = FullConnection(hidden1Layer, hidden3Layer)\n",
      "hidden2_to_hidden3 = FullConnection(hidden2Layer, hidden3Layer)\n",
      "hidden3_to_out = FullConnection(hidden3Layer, outLayer)\n",
      "\n",
      "n.addConnection(in1_to_hidden1)\n",
      "n.addConnection(in2_to_hidden2)\n",
      "n.addConnection(hidden1_to_hidden3)\n",
      "n.addConnection(hidden2_to_hidden3)\n",
      "n.addConnection(hidden3_to_out)\n",
      "n.sortModules()\n",
      "\n",
      "print n.connections"
     ],
     "language": "python",
     "metadata": {},
     "outputs": [
      {
       "output_type": "stream",
       "stream": "stdout",
       "text": [
        "{<LinearLayer 'cpuIn'>: [<FullConnection 'FullConnection-6': 'cpuIn' -> 'cpuHidden'>], <LinearLayer 'memIn'>: [<FullConnection 'FullConnection-7': 'memIn' -> 'memHidden'>], <SigmoidLayer 'cpuHidden'>: [<FullConnection 'FullConnection-8': 'cpuHidden' -> 'comboHidden'>], <SigmoidLayer 'memHidden'>: [<FullConnection 'FullConnection-9': 'memHidden' -> 'comboHidden'>], <SigmoidLayer 'comboHidden'>: [<FullConnection 'FullConnection-10': 'comboHidden' -> 'output'>], <LinearLayer 'output'>: []}\n"
       ]
      }
     ],
     "prompt_number": 2
    },
    {
     "cell_type": "code",
     "collapsed": false,
     "input": [
      "curMachine = 'cpu_1095481'\n",
      "str_train = 30\n",
      "end_train = 1000\n",
      "lookback = 30\n",
      "\n",
      "cpuData = np.genfromtxt(\"d:/data/cpu/\"+curMachine+\".csv\",delimiter=',',skip_header=1,usecols=(1))\n",
      "memData = np.genfromtxt(\"d:/data/memory/\"+curMachine.replace('cpu','memory')+\".csv\",delimiter=',',skip_header=1,usecols=(1))\n",
      "hyperparms =  np.genfromtxt(\"../data/cpu_networks/hyperparams.csv\", delimiter=',', dtype=None,skip_header=1)\n",
      "for row in hyperparms:\n",
      "    if  row[0].strip(\"'\") == curMachine:\n",
      "        eta, lmda = row[3], row[4]"
     ],
     "language": "python",
     "metadata": {},
     "outputs": [],
     "prompt_number": 3
    },
    {
     "cell_type": "code",
     "collapsed": false,
     "input": [
      "# plt.figure(figsize=(8,6))\n",
      "# plt.plot(cpuData/np.max(cpuData))\n",
      "# plt.figure(figsize=(8,6))\n",
      "# plt.plot(memData/np.max(memData))\n",
      "# plt.show()"
     ],
     "language": "python",
     "metadata": {},
     "outputs": [],
     "prompt_number": 4
    },
    {
     "cell_type": "code",
     "collapsed": false,
     "input": [
      "trainds = SupervisedDataSet(2*lookback, 1)\n",
      "for i in range(str_train, end_train):\n",
      "    trainds.appendLinked(np.append(cpuData[i-lookback:i], memData[i-lookback:i]).ravel(),cpuData[i])"
     ],
     "language": "python",
     "metadata": {},
     "outputs": [],
     "prompt_number": 5
    },
    {
     "cell_type": "code",
     "collapsed": false,
     "input": [
      "trainer = BackpropTrainer(n, trainds, learningrate=eta, weightdecay=lmda, momentum=0.1, shuffle=False)\n",
      "trainer.trainEpochs(20)"
     ],
     "language": "python",
     "metadata": {},
     "outputs": [],
     "prompt_number": 6
    },
    {
     "cell_type": "code",
     "collapsed": false,
     "input": [
      "pred = np.nan_to_num(n.activateOnDataset(trainds))\n",
      "validerr = eval.calc_RMSE(trainds['target'], pred)\n",
      "plt.figure(figsize=(12,8))\n",
      "plt.plot(trainds['target'])\n",
      "plt.plot(pred)\n",
      "plt.show()"
     ],
     "language": "python",
     "metadata": {},
     "outputs": [],
     "prompt_number": 7
    },
    {
     "cell_type": "heading",
     "level": 2,
     "metadata": {},
     "source": [
      "Forecasting using pre-trained network + hyperparams"
     ]
    },
    {
     "cell_type": "code",
     "collapsed": false,
     "input": [
      "curMachine = 'cpu_1095481'\n",
      "net = NetworkReader.readFrom(\"../data/entwine_networks/\"+curMachine+\".xml\")\n",
      "hyperparms =  np.genfromtxt(\"../data/entwine_networks/hyperparams.csv\", delimiter=',', dtype=None)\n",
      "for row in hyperparms:\n",
      "    if  row[0].__contains__(curMachine):\n",
      "        eta, lmda = row[3], row[4]"
     ],
     "language": "python",
     "metadata": {},
     "outputs": [],
     "prompt_number": 10
    },
    {
     "cell_type": "code",
     "collapsed": false,
     "input": [
      "cpuData = np.genfromtxt(\"d:/data/cpu/\"+curMachine+\".csv\",delimiter=',',skip_header=1,usecols=(1))\n",
      "memData = np.genfromtxt(\"d:/data/memory/\"+curMachine.replace('cpu','memory')+\".csv\",delimiter=',',skip_header=1,usecols=(1))"
     ],
     "language": "python",
     "metadata": {},
     "outputs": [],
     "prompt_number": 11
    },
    {
     "cell_type": "code",
     "collapsed": false,
     "input": [
      "str_train = 1000\n",
      "end_train = 3000\n",
      "lookback = 30\n",
      "\n",
      "trainds = SupervisedDataSet(2*lookback, 1)\n",
      "for i in range(str_train, end_train):\n",
      "    trainds.appendLinked(np.append(cpuData[i-lookback:i], memData[i-lookback:i]).ravel(),cpuData[i])"
     ],
     "language": "python",
     "metadata": {},
     "outputs": [],
     "prompt_number": 12
    },
    {
     "cell_type": "code",
     "collapsed": false,
     "input": [
      "trainer = BackpropTrainer(net, trainds, learningrate=eta, weightdecay=lmda, momentum=0.1, shuffle=False)\n",
      "trainer.trainEpochs(20)"
     ],
     "language": "python",
     "metadata": {},
     "outputs": [],
     "prompt_number": 13
    },
    {
     "cell_type": "code",
     "collapsed": false,
     "input": [
      "pred = net.activateOnDataset(trainds)\n",
      "plt.plot(trainds['target'])\n",
      "plt.plot(pred)\n",
      "plt.show()"
     ],
     "language": "python",
     "metadata": {},
     "outputs": [],
     "prompt_number": 14
    },
    {
     "cell_type": "code",
     "collapsed": false,
     "input": [
      "notSeen = np.append(cpuData[end_train-lookback:end_train], memData[end_train-lookback:end_train]).ravel()"
     ],
     "language": "python",
     "metadata": {},
     "outputs": [],
     "prompt_number": 15
    },
    {
     "cell_type": "code",
     "collapsed": false,
     "input": [
      "forecasts1 = []\n",
      "for i in range(lookback):\n",
      "    fc = net.activate(notSeen)\n",
      "    forecasts1.append(fc)\n",
      "    notSeen = np.append(np.append(cpuData[end_train+i+1-lookback:end_train], forecasts1), memData[end_train-lookback:end_train]).ravel()"
     ],
     "language": "python",
     "metadata": {},
     "outputs": [],
     "prompt_number": 16
    },
    {
     "cell_type": "code",
     "collapsed": false,
     "input": [
      "# Only CPU net\n",
      "model = Fnn_model.Fnn_model(cpuData, curMachine, \"../data/cpu_networks/\"+curMachine+\".xml\", eta, lmda)\n",
      "model.fit()"
     ],
     "language": "python",
     "metadata": {},
     "outputs": [],
     "prompt_number": 18
    },
    {
     "cell_type": "code",
     "collapsed": false,
     "input": [
      "forecast2 = model.predict(30)"
     ],
     "language": "python",
     "metadata": {},
     "outputs": [],
     "prompt_number": 19
    },
    {
     "cell_type": "code",
     "collapsed": false,
     "input": [
      "plt.plot(cpuData[end_train:end_train+lookback])\n",
      "plt.plot(np.array(forecasts1))\n",
      "plt.plot(forecast2)\n",
      "plt.show()"
     ],
     "language": "python",
     "metadata": {},
     "outputs": [],
     "prompt_number": 20
    }
   ],
   "metadata": {}
  }
 ]
}