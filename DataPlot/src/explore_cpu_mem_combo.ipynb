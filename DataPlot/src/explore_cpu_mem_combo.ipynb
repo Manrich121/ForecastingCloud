{
 "metadata": {
  "name": "",
  "signature": "sha256:39b28018ef53b8d78a984a920e047f1d6f71fe8b3a74000903d1f6b3741cb248"
 },
 "nbformat": 3,
 "nbformat_minor": 0,
 "worksheets": [
  {
   "cells": [
    {
     "cell_type": "code",
     "collapsed": false,
     "input": [
      "# %matplotlib inline\n",
      "import numpy as np\n",
      "import scipy\n",
      "import matplotlib.pyplot as plt\n",
      "from pybrain.datasets import SupervisedDataSet\n",
      "from pybrain.supervised.trainers import BackpropTrainer\n",
      "from pybrain.tools.customxml.networkreader import NetworkReader\n",
      "from pybrain.tools.shortcuts import buildNetwork"
     ],
     "language": "python",
     "metadata": {},
     "outputs": [],
     "prompt_number": 1
    },
    {
     "cell_type": "code",
     "collapsed": false,
     "input": [
      "cpuData = np.genfromtxt(\"d:/data/cpu/cpu_660404.csv\",delimiter=',',skip_header=1,usecols=(1))\n",
      "memData = np.genfromtxt(\"d:/data/memory/memory_660404.csv\",delimiter=',',skip_header=1,usecols=(1))"
     ],
     "language": "python",
     "metadata": {},
     "outputs": [],
     "prompt_number": 2
    },
    {
     "cell_type": "code",
     "collapsed": false,
     "input": [
      "plt.figure(figsize=(8,6))\n",
      "plt.plot(cpuData/np.max(cpuData))\n",
      "\n",
      "plt.plot(memData/np.max(memData))\n",
      "plt.show()"
     ],
     "language": "python",
     "metadata": {},
     "outputs": [],
     "prompt_number": 3
    },
    {
     "cell_type": "code",
     "collapsed": false,
     "input": [],
     "language": "python",
     "metadata": {},
     "outputs": []
    }
   ],
   "metadata": {}
  }
 ]
}