{
 "metadata": {
  "name": "",
  "signature": "sha256:1aade24d858ef1213dbe7da15b7948b71b52b4c62c3927da170b9c281c4dedb9"
 },
 "nbformat": 3,
 "nbformat_minor": 0,
 "worksheets": [
  {
   "cells": [
    {
     "cell_type": "code",
     "collapsed": false,
     "input": [
      "%matplotlib inline\n",
      "import numpy as np\n",
      "import scipy\n",
      "from matplotlib import pyplot as plt\n",
      "import evaluation as eval\n",
      "from sklearn.metrics import explained_variance_score\n",
      "\n",
      "from pybrain.datasets import SupervisedDataSet\n",
      "from pybrain.tools.shortcuts import buildNetwork\n",
      "from pybrain.supervised.trainers import BackpropTrainer\n",
      "from pybrain.structure.modules import SigmoidLayer, SoftmaxLayer"
     ],
     "language": "python",
     "metadata": {},
     "outputs": [],
     "prompt_number": 1
    },
    {
     "cell_type": "code",
     "collapsed": false,
     "input": [
      "def sampleGeometrically(A, B):\n",
      "    if A<B:\n",
      "        logA, logB = scipy.log(A), scipy.log(B)\n",
      "    else:\n",
      "        logA, logB = scipy.log(B), scipy.log(A)\n",
      "    return scipy.exp(scipy.random.uniform(low=logA, high=logB))"
     ],
     "language": "python",
     "metadata": {},
     "outputs": [],
     "prompt_number": 2
    },
    {
     "cell_type": "code",
     "collapsed": false,
     "input": [
      "def trainFunc(params):\n",
      "    trainds, validds, input_size, hidden, func, eta, lmda, epochs = params\n",
      "    print('Epochs:', epochs, 'Hidden_size:', hidden, 'Eta:', eta, 'Lamda:', lmda, 'Activation:', func)\n",
      "    \n",
      "    net = buildNetwork(input_size, hidden, 1,  bias=True)\n",
      "    \n",
      "    trainer = BackpropTrainer(net, trainds, learningrate=eta, weightdecay=lmda, momentum=0.1, shuffle=False)\n",
      "    trainer.trainEpochs(epochs)\n",
      "    \n",
      "    pred = np.nan_to_num(net.activateOnDataset(validds))\n",
      "    validerr = eval.calc_RMSE(validds['target'], pred)\n",
      "    varscore = explained_variance_score(validds['target'], pred)\n",
      "    return validerr, varscore, net"
     ],
     "language": "python",
     "metadata": {},
     "outputs": [],
     "prompt_number": 3
    },
    {
     "cell_type": "code",
     "collapsed": false,
     "input": [
      "TYPE = \"cpu\"\n",
      "FILENAME = TYPE+\"_5782232\"\n",
      "\n",
      "TRAIN = 3000\n",
      "VALID = 100\n",
      "TEST = 100\n",
      "INPUT_SIZE = 3\n",
      "epochs = 10\n",
      "\n",
      "hidden_range=[4, 32]\n",
      "eta_range=[0.0001, 10.0]\n",
      "activation_func=[SigmoidLayer, SoftmaxLayer]\n",
      "lamda_range=[1e-7, 1e-5]\n",
      "epochs_factor=1\n",
      "miniters=100\n",
      "maxiters=1000\n",
      "\n",
      "truevals = np.genfromtxt(\"d:/data/\"+TYPE+\"/\"+FILENAME+\".csv\", delimiter=',',skip_header=1, usecols=(1))[:TRAIN+5340]\n",
      "ar_fc = np.genfromtxt(\"d:/data/\"+TYPE+\"_ar_forecasts/\"+FILENAME+\".csv\", delimiter=',', usecols=range(0,30)).ravel()\n",
      "wavelet_fc = np.genfromtxt(\"d:/data/\"+TYPE+\"_wavelet_forecasts/\"+FILENAME+\".csv\", delimiter=',', usecols=range(0,30)).ravel()\n",
      "fnn_fc = np.genfromtxt(\"d:/data/\"+TYPE+\"_fnn_forecasts/\"+FILENAME+\".csv\", delimiter=',')"
     ],
     "language": "python",
     "metadata": {},
     "outputs": [],
     "prompt_number": 4
    },
    {
     "cell_type": "code",
     "collapsed": false,
     "input": [
      "trainds = SupervisedDataSet(INPUT_SIZE, 1)\n",
      "validds = trainds\n",
      "\n",
      "for i in range(30):\n",
      "    trainds.appendLinked([ar_fc[i], wavelet_fc[i], fnn_fc[i]], truevals[i+TRAIN])\n",
      "    \n",
      "besthparams = []\n",
      "besterr = np.inf\n",
      "bestvarscore = 0.0\n",
      "bestnet = None\n",
      "bestiter = maxiters\n",
      "\n",
      "for iter in range(1, maxiters+1):\n",
      "    hyperparams = []\n",
      "    hidden = np.int(sampleGeometrically(hidden_range[0], hidden_range[1])) \n",
      "    eta = sampleGeometrically(eta_range[0], eta_range[1])\n",
      "    lmda = 0.0\n",
      "    if scipy.random.randint(0,2):\n",
      "        lmda = sampleGeometrically(lamda_range[0], lamda_range[1])\n",
      "    func = activation_func[scipy.random.randint(low=0, high=len(activation_func))]\n",
      "    hyperparams = [trainds, validds, INPUT_SIZE, hidden, func, eta, lmda, epochs]\n",
      "\n",
      "    errors_var_net = trainFunc(hyperparams)\n",
      "    \n",
      "    error = errors_var_net[0]\n",
      "    varscore = errors_var_net[1]\n",
      "\n",
      "    if varscore > bestvarscore:\n",
      "        if error < besterr:             \n",
      "            besterr = error\n",
      "            bestvarscore = varscore\n",
      "            besthparams = hyperparams[3:]\n",
      "            bestnet = errors_var_net[2]\n",
      "            bestiter = iter+i\n",
      "    if iter>miniters and bestiter<iter/2:\n",
      "        break "
     ],
     "language": "python",
     "metadata": {},
     "outputs": [
      {
       "output_type": "stream",
       "stream": "stdout",
       "text": [
        "('Epochs:', 10, 'Hidden_size:', 22, 'Eta:', 3.6526051315129693, 'Lamda:', 9.3352660880065527e-06, 'Activation:', <class 'pybrain.structure.modules.sigmoidlayer.SigmoidLayer'>)\n",
        "('Epochs:', 10, 'Hidden_size:', 5, 'Eta:', 0.025113244061857044, 'Lamda:', 1.0130556547877021e-07, 'Activation:', <class 'pybrain.structure.modules.softmax.SoftmaxLayer'>)"
       ]
      },
      {
       "output_type": "stream",
       "stream": "stdout",
       "text": [
        "\n",
        "('Epochs:', 10, 'Hidden_size:', 15, 'Eta:', 6.354705996811326, 'Lamda:', 0.0, 'Activation:', <class 'pybrain.structure.modules.sigmoidlayer.SigmoidLayer'>)"
       ]
      },
      {
       "output_type": "stream",
       "stream": "stdout",
       "text": [
        "\n",
        "('Epochs:', 10, 'Hidden_size:', 29, 'Eta:', 0.00037286646808130968, 'Lamda:', 0.0, 'Activation:', <class 'pybrain.structure.modules.sigmoidlayer.SigmoidLayer'>)"
       ]
      },
      {
       "output_type": "stream",
       "stream": "stdout",
       "text": [
        "\n",
        "('Epochs:', 10, 'Hidden_size:', 9, 'Eta:', 1.1832023003469991, 'Lamda:', 2.7455831076409751e-06, 'Activation:', <class 'pybrain.structure.modules.sigmoidlayer.SigmoidLayer'>)"
       ]
      },
      {
       "output_type": "stream",
       "stream": "stdout",
       "text": [
        "\n",
        "('Epochs:', 10, 'Hidden_size:', 4, 'Eta:', 0.00012374103039889181, 'Lamda:', 0.0, 'Activation:', <class 'pybrain.structure.modules.sigmoidlayer.SigmoidLayer'>)"
       ]
      },
      {
       "output_type": "stream",
       "stream": "stdout",
       "text": [
        "\n",
        "('Epochs:', 10, 'Hidden_size:', 10, 'Eta:', 0.8757445283930213, 'Lamda:', 0.0, 'Activation:', <class 'pybrain.structure.modules.softmax.SoftmaxLayer'>)"
       ]
      },
      {
       "output_type": "stream",
       "stream": "stdout",
       "text": [
        "\n",
        "('Epochs:', 10, 'Hidden_size:', 17, 'Eta:', 0.020537393021712664, 'Lamda:', 0.0, 'Activation:', <class 'pybrain.structure.modules.softmax.SoftmaxLayer'>)"
       ]
      },
      {
       "output_type": "stream",
       "stream": "stdout",
       "text": [
        "\n",
        "('Epochs:', 10, 'Hidden_size:', 16, 'Eta:', 1.6061790273923695, 'Lamda:', 1.6739527261228261e-06, 'Activation:', <class 'pybrain.structure.modules.softmax.SoftmaxLayer'>)"
       ]
      },
      {
       "output_type": "stream",
       "stream": "stdout",
       "text": [
        "\n",
        "('Epochs:', 10, 'Hidden_size:', 12, 'Eta:', 2.3037421319203402, 'Lamda:', 0.0, 'Activation:', <class 'pybrain.structure.modules.softmax.SoftmaxLayer'>)"
       ]
      },
      {
       "output_type": "stream",
       "stream": "stdout",
       "text": [
        "\n",
        "('Epochs:', 10, 'Hidden_size:', 30, 'Eta:', 1.2027353381439159, 'Lamda:', 1.7716239981129232e-06, 'Activation:', <class 'pybrain.structure.modules.sigmoidlayer.SigmoidLayer'>)"
       ]
      },
      {
       "output_type": "stream",
       "stream": "stdout",
       "text": [
        "\n",
        "('Epochs:', 10, 'Hidden_size:', 16, 'Eta:', 0.0012394082829227306, 'Lamda:', 3.6275032569897351e-06, 'Activation:', <class 'pybrain.structure.modules.sigmoidlayer.SigmoidLayer'>)"
       ]
      },
      {
       "output_type": "stream",
       "stream": "stdout",
       "text": [
        "\n",
        "('Epochs:', 10, 'Hidden_size:', 14, 'Eta:', 0.00061758045192343125, 'Lamda:', 0.0, 'Activation:', <class 'pybrain.structure.modules.sigmoidlayer.SigmoidLayer'>)"
       ]
      },
      {
       "output_type": "stream",
       "stream": "stdout",
       "text": [
        "\n",
        "('Epochs:', 10, 'Hidden_size:', 10, 'Eta:', 0.0027802969640258477, 'Lamda:', 4.3203102660318619e-07, 'Activation:', <class 'pybrain.structure.modules.sigmoidlayer.SigmoidLayer'>)"
       ]
      },
      {
       "output_type": "stream",
       "stream": "stdout",
       "text": [
        "\n",
        "('Epochs:', 10, 'Hidden_size:', 6, 'Eta:', 0.090973206363963041, 'Lamda:', 0.0, 'Activation:', <class 'pybrain.structure.modules.softmax.SoftmaxLayer'>)"
       ]
      },
      {
       "output_type": "stream",
       "stream": "stdout",
       "text": [
        "\n",
        "('Epochs:', 10, 'Hidden_size:', 7, 'Eta:', 0.0005256575068856216, 'Lamda:', 7.4301135816383209e-06, 'Activation:', <class 'pybrain.structure.modules.sigmoidlayer.SigmoidLayer'>)"
       ]
      },
      {
       "output_type": "stream",
       "stream": "stdout",
       "text": [
        "\n",
        "('Epochs:', 10, 'Hidden_size:', 5, 'Eta:', 0.25029901150175388, 'Lamda:', 2.2731870282330612e-06, 'Activation:', <class 'pybrain.structure.modules.sigmoidlayer.SigmoidLayer'>)"
       ]
      },
      {
       "output_type": "stream",
       "stream": "stdout",
       "text": [
        "\n",
        "('Epochs:', 10, 'Hidden_size:', 10, 'Eta:', 0.0001489364767773441, 'Lamda:', 0.0, 'Activation:', <class 'pybrain.structure.modules.softmax.SoftmaxLayer'>)"
       ]
      },
      {
       "output_type": "stream",
       "stream": "stdout",
       "text": [
        "\n",
        "('Epochs:', 10, 'Hidden_size:', 12, 'Eta:', 0.0063114857836902545, 'Lamda:', 0.0, 'Activation:', <class 'pybrain.structure.modules.softmax.SoftmaxLayer'>)"
       ]
      },
      {
       "output_type": "stream",
       "stream": "stdout",
       "text": [
        "\n",
        "('Epochs:', 10, 'Hidden_size:', 12, 'Eta:', 0.0017340947701686214, 'Lamda:', 1.7075149224313952e-06, 'Activation:', <class 'pybrain.structure.modules.sigmoidlayer.SigmoidLayer'>)"
       ]
      },
      {
       "output_type": "stream",
       "stream": "stdout",
       "text": [
        "\n",
        "('Epochs:', 10, 'Hidden_size:', 8, 'Eta:', 0.067280287955267151, 'Lamda:', 0.0, 'Activation:', <class 'pybrain.structure.modules.softmax.SoftmaxLayer'>)"
       ]
      },
      {
       "output_type": "stream",
       "stream": "stdout",
       "text": [
        "\n",
        "('Epochs:', 10, 'Hidden_size:', 11, 'Eta:', 0.0082092995511225588, 'Lamda:', 7.2416479668482764e-06, 'Activation:', <class 'pybrain.structure.modules.sigmoidlayer.SigmoidLayer'>)"
       ]
      },
      {
       "output_type": "stream",
       "stream": "stdout",
       "text": [
        "\n",
        "('Epochs:', 10, 'Hidden_size:', 6, 'Eta:', 0.00026597922753908573, 'Lamda:', 0.0, 'Activation:', <class 'pybrain.structure.modules.sigmoidlayer.SigmoidLayer'>)"
       ]
      },
      {
       "output_type": "stream",
       "stream": "stdout",
       "text": [
        "\n",
        "('Epochs:', 10, 'Hidden_size:', 6, 'Eta:', 0.20791798639604175, 'Lamda:', 0.0, 'Activation:', <class 'pybrain.structure.modules.sigmoidlayer.SigmoidLayer'>)"
       ]
      },
      {
       "output_type": "stream",
       "stream": "stdout",
       "text": [
        "\n",
        "('Epochs:', 10, 'Hidden_size:', 7, 'Eta:', 5.9841302032740069, 'Lamda:', 0.0, 'Activation:', <class 'pybrain.structure.modules.softmax.SoftmaxLayer'>)"
       ]
      },
      {
       "output_type": "stream",
       "stream": "stdout",
       "text": [
        "\n",
        "('Epochs:', 10, 'Hidden_size:', 12, 'Eta:', 0.0013025916198003507, 'Lamda:', 0.0, 'Activation:', <class 'pybrain.structure.modules.softmax.SoftmaxLayer'>)"
       ]
      },
      {
       "output_type": "stream",
       "stream": "stdout",
       "text": [
        "\n",
        "('Epochs:', 10, 'Hidden_size:', 7, 'Eta:', 0.66013344834548249, 'Lamda:', 0.0, 'Activation:', <class 'pybrain.structure.modules.softmax.SoftmaxLayer'>)"
       ]
      },
      {
       "output_type": "stream",
       "stream": "stdout",
       "text": [
        "\n",
        "('Epochs:', 10, 'Hidden_size:', 13, 'Eta:', 0.0095976682575910181, 'Lamda:', 1.8931646923724285e-06, 'Activation:', <class 'pybrain.structure.modules.softmax.SoftmaxLayer'>)"
       ]
      },
      {
       "output_type": "stream",
       "stream": "stdout",
       "text": [
        "\n",
        "('Epochs:', 10, 'Hidden_size:', 26, 'Eta:', 0.0025269311409712126, 'Lamda:', 1.0648240123339012e-07, 'Activation:', <class 'pybrain.structure.modules.sigmoidlayer.SigmoidLayer'>)"
       ]
      },
      {
       "output_type": "stream",
       "stream": "stdout",
       "text": [
        "\n",
        "('Epochs:', 10, 'Hidden_size:', 11, 'Eta:', 0.0084504841051511077, 'Lamda:', 1.2904308903178171e-07, 'Activation:', <class 'pybrain.structure.modules.sigmoidlayer.SigmoidLayer'>)"
       ]
      },
      {
       "output_type": "stream",
       "stream": "stdout",
       "text": [
        "\n",
        "('Epochs:', 10, 'Hidden_size:', 19, 'Eta:', 0.14167926086004501, 'Lamda:', 0.0, 'Activation:', <class 'pybrain.structure.modules.softmax.SoftmaxLayer'>)"
       ]
      },
      {
       "output_type": "stream",
       "stream": "stdout",
       "text": [
        "\n",
        "('Epochs:', 10, 'Hidden_size:', 21, 'Eta:', 0.00037088313333594452, 'Lamda:', 0.0, 'Activation:', <class 'pybrain.structure.modules.softmax.SoftmaxLayer'>)"
       ]
      },
      {
       "output_type": "stream",
       "stream": "stdout",
       "text": [
        "\n",
        "('Epochs:', 10, 'Hidden_size:', 8, 'Eta:', 0.00030591654472694355, 'Lamda:', 0.0, 'Activation:', <class 'pybrain.structure.modules.sigmoidlayer.SigmoidLayer'>)"
       ]
      },
      {
       "output_type": "stream",
       "stream": "stdout",
       "text": [
        "\n",
        "('Epochs:', 10, 'Hidden_size:', 17, 'Eta:', 0.073984992335403246, 'Lamda:', 0.0, 'Activation:', <class 'pybrain.structure.modules.softmax.SoftmaxLayer'>)"
       ]
      },
      {
       "output_type": "stream",
       "stream": "stdout",
       "text": [
        "\n",
        "('Epochs:', 10, 'Hidden_size:', 13, 'Eta:', 0.031018940981072978, 'Lamda:', 1.0782029267446069e-07, 'Activation:', <class 'pybrain.structure.modules.sigmoidlayer.SigmoidLayer'>)"
       ]
      },
      {
       "output_type": "stream",
       "stream": "stdout",
       "text": [
        "\n",
        "('Epochs:', 10, 'Hidden_size:', 18, 'Eta:', 0.00012927993981367851, 'Lamda:', 1.935455623847866e-06, 'Activation:', <class 'pybrain.structure.modules.softmax.SoftmaxLayer'>)"
       ]
      },
      {
       "output_type": "stream",
       "stream": "stdout",
       "text": [
        "\n",
        "('Epochs:', 10, 'Hidden_size:', 22, 'Eta:', 0.33359104708917153, 'Lamda:', 1.3255703948544498e-07, 'Activation:', <class 'pybrain.structure.modules.sigmoidlayer.SigmoidLayer'>)"
       ]
      },
      {
       "output_type": "stream",
       "stream": "stdout",
       "text": [
        "\n",
        "('Epochs:', 10, 'Hidden_size:', 7, 'Eta:', 0.31197968290898787, 'Lamda:', 0.0, 'Activation:', <class 'pybrain.structure.modules.sigmoidlayer.SigmoidLayer'>)"
       ]
      },
      {
       "output_type": "stream",
       "stream": "stdout",
       "text": [
        "\n",
        "('Epochs:', 10, 'Hidden_size:', 21, 'Eta:', 0.00016452865299106364, 'Lamda:', 0.0, 'Activation:', <class 'pybrain.structure.modules.softmax.SoftmaxLayer'>)"
       ]
      },
      {
       "output_type": "stream",
       "stream": "stdout",
       "text": [
        "\n",
        "('Epochs:', 10, 'Hidden_size:', 19, 'Eta:', 1.06863409942173, 'Lamda:', 0.0, 'Activation:', <class 'pybrain.structure.modules.softmax.SoftmaxLayer'>)"
       ]
      },
      {
       "output_type": "stream",
       "stream": "stdout",
       "text": [
        "\n",
        "('Epochs:', 10, 'Hidden_size:', 18, 'Eta:', 5.9320891927703174, 'Lamda:', 0.0, 'Activation:', <class 'pybrain.structure.modules.sigmoidlayer.SigmoidLayer'>)"
       ]
      },
      {
       "output_type": "stream",
       "stream": "stdout",
       "text": [
        "\n",
        "('Epochs:', 10, 'Hidden_size:', 17, 'Eta:', 0.0011747404708098963, 'Lamda:', 6.2327049927493353e-06, 'Activation:', <class 'pybrain.structure.modules.softmax.SoftmaxLayer'>)"
       ]
      },
      {
       "output_type": "stream",
       "stream": "stdout",
       "text": [
        "\n",
        "('Epochs:', 10, 'Hidden_size:', 17, 'Eta:', 0.00011811039406260344, 'Lamda:', 2.7226230213284337e-07, 'Activation:', <class 'pybrain.structure.modules.softmax.SoftmaxLayer'>)"
       ]
      },
      {
       "output_type": "stream",
       "stream": "stdout",
       "text": [
        "\n",
        "('Epochs:', 10, 'Hidden_size:', 22, 'Eta:', 0.84715036990090609, 'Lamda:', 1.5533568431667986e-06, 'Activation:', <class 'pybrain.structure.modules.sigmoidlayer.SigmoidLayer'>)"
       ]
      },
      {
       "output_type": "stream",
       "stream": "stdout",
       "text": [
        "\n",
        "('Epochs:', 10, 'Hidden_size:', 5, 'Eta:', 0.0002076525272298486, 'Lamda:', 0.0, 'Activation:', <class 'pybrain.structure.modules.softmax.SoftmaxLayer'>)"
       ]
      },
      {
       "output_type": "stream",
       "stream": "stdout",
       "text": [
        "\n",
        "('Epochs:', 10, 'Hidden_size:', 7, 'Eta:', 0.0015139639783675819, 'Lamda:', 1.0215757671590992e-07, 'Activation:', <class 'pybrain.structure.modules.sigmoidlayer.SigmoidLayer'>)"
       ]
      },
      {
       "output_type": "stream",
       "stream": "stdout",
       "text": [
        "\n",
        "('Epochs:', 10, 'Hidden_size:', 31, 'Eta:', 0.00019505363796159842, 'Lamda:', 0.0, 'Activation:', <class 'pybrain.structure.modules.sigmoidlayer.SigmoidLayer'>)"
       ]
      },
      {
       "output_type": "stream",
       "stream": "stdout",
       "text": [
        "\n",
        "('Epochs:', 10, 'Hidden_size:', 29, 'Eta:', 0.86895351012217981, 'Lamda:', 0.0, 'Activation:', <class 'pybrain.structure.modules.sigmoidlayer.SigmoidLayer'>)"
       ]
      },
      {
       "output_type": "stream",
       "stream": "stdout",
       "text": [
        "\n",
        "('Epochs:', 10, 'Hidden_size:', 28, 'Eta:', 0.065423618846259954, 'Lamda:', 1.8631007055743235e-07, 'Activation:', <class 'pybrain.structure.modules.sigmoidlayer.SigmoidLayer'>)"
       ]
      },
      {
       "output_type": "stream",
       "stream": "stdout",
       "text": [
        "\n",
        "('Epochs:', 10, 'Hidden_size:', 14, 'Eta:', 0.0016448501737281727, 'Lamda:', 2.9104175571787154e-07, 'Activation:', <class 'pybrain.structure.modules.softmax.SoftmaxLayer'>)"
       ]
      },
      {
       "output_type": "stream",
       "stream": "stdout",
       "text": [
        "\n",
        "('Epochs:', 10, 'Hidden_size:', 23, 'Eta:', 0.014167497763827367, 'Lamda:', 9.0219542716385756e-06, 'Activation:', <class 'pybrain.structure.modules.softmax.SoftmaxLayer'>)"
       ]
      },
      {
       "output_type": "stream",
       "stream": "stdout",
       "text": [
        "\n",
        "('Epochs:', 10, 'Hidden_size:', 5, 'Eta:', 0.00015223263830446628, 'Lamda:', 3.1779535815899046e-06, 'Activation:', <class 'pybrain.structure.modules.softmax.SoftmaxLayer'>)"
       ]
      },
      {
       "output_type": "stream",
       "stream": "stdout",
       "text": [
        "\n",
        "('Epochs:', 10, 'Hidden_size:', 4, 'Eta:', 1.181716280858097, 'Lamda:', 9.2129835569177862e-06, 'Activation:', <class 'pybrain.structure.modules.sigmoidlayer.SigmoidLayer'>)"
       ]
      },
      {
       "output_type": "stream",
       "stream": "stdout",
       "text": [
        "\n",
        "('Epochs:', 10, 'Hidden_size:', 22, 'Eta:', 0.14726113108081909, 'Lamda:', 0.0, 'Activation:', <class 'pybrain.structure.modules.softmax.SoftmaxLayer'>)"
       ]
      },
      {
       "output_type": "stream",
       "stream": "stdout",
       "text": [
        "\n",
        "('Epochs:', 10, 'Hidden_size:', 5, 'Eta:', 0.014216281767396742, 'Lamda:', 0.0, 'Activation:', <class 'pybrain.structure.modules.sigmoidlayer.SigmoidLayer'>)"
       ]
      },
      {
       "output_type": "stream",
       "stream": "stdout",
       "text": [
        "\n",
        "('Epochs:', 10, 'Hidden_size:', 4, 'Eta:', 0.071865784319391599, 'Lamda:', 1.6597454224340432e-07, 'Activation:', <class 'pybrain.structure.modules.sigmoidlayer.SigmoidLayer'>)"
       ]
      },
      {
       "output_type": "stream",
       "stream": "stdout",
       "text": [
        "\n",
        "('Epochs:', 10, 'Hidden_size:', 17, 'Eta:', 0.012122021595048339, 'Lamda:', 1.0673363921327786e-06, 'Activation:', <class 'pybrain.structure.modules.sigmoidlayer.SigmoidLayer'>)"
       ]
      },
      {
       "output_type": "stream",
       "stream": "stdout",
       "text": [
        "\n",
        "('Epochs:', 10, 'Hidden_size:', 6, 'Eta:', 0.9288928020785836, 'Lamda:', 0.0, 'Activation:', <class 'pybrain.structure.modules.sigmoidlayer.SigmoidLayer'>)"
       ]
      },
      {
       "output_type": "stream",
       "stream": "stdout",
       "text": [
        "\n",
        "('Epochs:', 10, 'Hidden_size:', 7, 'Eta:', 0.00010967404582882929, 'Lamda:', 0.0, 'Activation:', <class 'pybrain.structure.modules.softmax.SoftmaxLayer'>)"
       ]
      },
      {
       "output_type": "stream",
       "stream": "stdout",
       "text": [
        "\n",
        "('Epochs:', 10, 'Hidden_size:', 6, 'Eta:', 0.00073120806589177599, 'Lamda:', 0.0, 'Activation:', <class 'pybrain.structure.modules.softmax.SoftmaxLayer'>)"
       ]
      },
      {
       "output_type": "stream",
       "stream": "stdout",
       "text": [
        "\n",
        "('Epochs:', 10, 'Hidden_size:', 4, 'Eta:', 0.15925979737855048, 'Lamda:', 2.488555544890461e-06, 'Activation:', <class 'pybrain.structure.modules.softmax.SoftmaxLayer'>)"
       ]
      },
      {
       "output_type": "stream",
       "stream": "stdout",
       "text": [
        "\n",
        "('Epochs:', 10, 'Hidden_size:', 16, 'Eta:', 4.5607551786450733, 'Lamda:', 0.0, 'Activation:', <class 'pybrain.structure.modules.softmax.SoftmaxLayer'>)"
       ]
      },
      {
       "output_type": "stream",
       "stream": "stdout",
       "text": [
        "\n",
        "('Epochs:', 10, 'Hidden_size:', 8, 'Eta:', 1.0565498063119518, 'Lamda:', 1.272707603293844e-06, 'Activation:', <class 'pybrain.structure.modules.softmax.SoftmaxLayer'>)"
       ]
      },
      {
       "output_type": "stream",
       "stream": "stdout",
       "text": [
        "\n",
        "('Epochs:', 10, 'Hidden_size:', 5, 'Eta:', 0.015945355924524091, 'Lamda:', 0.0, 'Activation:', <class 'pybrain.structure.modules.sigmoidlayer.SigmoidLayer'>)"
       ]
      },
      {
       "output_type": "stream",
       "stream": "stdout",
       "text": [
        "\n",
        "('Epochs:', 10, 'Hidden_size:', 5, 'Eta:', 0.54777303676820488, 'Lamda:', 0.0, 'Activation:', <class 'pybrain.structure.modules.sigmoidlayer.SigmoidLayer'>)"
       ]
      },
      {
       "output_type": "stream",
       "stream": "stdout",
       "text": [
        "\n",
        "('Epochs:', 10, 'Hidden_size:', 15, 'Eta:', 4.4132481170356614, 'Lamda:', 0.0, 'Activation:', <class 'pybrain.structure.modules.softmax.SoftmaxLayer'>)"
       ]
      },
      {
       "output_type": "stream",
       "stream": "stdout",
       "text": [
        "\n",
        "('Epochs:', 10, 'Hidden_size:', 25, 'Eta:', 0.0021177913671511926, 'Lamda:', 0.0, 'Activation:', <class 'pybrain.structure.modules.softmax.SoftmaxLayer'>)"
       ]
      },
      {
       "output_type": "stream",
       "stream": "stdout",
       "text": [
        "\n",
        "('Epochs:', 10, 'Hidden_size:', 21, 'Eta:', 0.41620882446830065, 'Lamda:', 0.0, 'Activation:', <class 'pybrain.structure.modules.softmax.SoftmaxLayer'>)"
       ]
      },
      {
       "output_type": "stream",
       "stream": "stdout",
       "text": [
        "\n",
        "('Epochs:', 10, 'Hidden_size:', 10, 'Eta:', 0.00015499307920955013, 'Lamda:', 4.1703777765800132e-06, 'Activation:', <class 'pybrain.structure.modules.softmax.SoftmaxLayer'>)"
       ]
      },
      {
       "output_type": "stream",
       "stream": "stdout",
       "text": [
        "\n",
        "('Epochs:', 10, 'Hidden_size:', 25, 'Eta:', 0.00063207359114275728, 'Lamda:', 0.0, 'Activation:', <class 'pybrain.structure.modules.sigmoidlayer.SigmoidLayer'>)"
       ]
      },
      {
       "output_type": "stream",
       "stream": "stdout",
       "text": [
        "\n",
        "('Epochs:', 10, 'Hidden_size:', 7, 'Eta:', 0.065720584909955845, 'Lamda:', 2.5004377225296015e-06, 'Activation:', <class 'pybrain.structure.modules.softmax.SoftmaxLayer'>)"
       ]
      },
      {
       "output_type": "stream",
       "stream": "stdout",
       "text": [
        "\n",
        "('Epochs:', 10, 'Hidden_size:', 12, 'Eta:', 8.4852960120946914, 'Lamda:', 5.4331480395543757e-07, 'Activation:', <class 'pybrain.structure.modules.softmax.SoftmaxLayer'>)"
       ]
      },
      {
       "output_type": "stream",
       "stream": "stdout",
       "text": [
        "\n",
        "('Epochs:', 10, 'Hidden_size:', 28, 'Eta:', 0.01524248167525836, 'Lamda:', 0.0, 'Activation:', <class 'pybrain.structure.modules.sigmoidlayer.SigmoidLayer'>)"
       ]
      },
      {
       "output_type": "stream",
       "stream": "stdout",
       "text": [
        "\n",
        "('Epochs:', 10, 'Hidden_size:', 9, 'Eta:', 0.0060873137443917943, 'Lamda:', 0.0, 'Activation:', <class 'pybrain.structure.modules.sigmoidlayer.SigmoidLayer'>)"
       ]
      },
      {
       "output_type": "stream",
       "stream": "stdout",
       "text": [
        "\n",
        "('Epochs:', 10, 'Hidden_size:', 6, 'Eta:', 0.72599190202187602, 'Lamda:', 2.4125714555495561e-06, 'Activation:', <class 'pybrain.structure.modules.softmax.SoftmaxLayer'>)"
       ]
      },
      {
       "output_type": "stream",
       "stream": "stdout",
       "text": [
        "\n",
        "('Epochs:', 10, 'Hidden_size:', 23, 'Eta:', 0.018048652370385405, 'Lamda:', 1.4452071085049163e-07, 'Activation:', <class 'pybrain.structure.modules.sigmoidlayer.SigmoidLayer'>)"
       ]
      },
      {
       "output_type": "stream",
       "stream": "stdout",
       "text": [
        "\n",
        "('Epochs:', 10, 'Hidden_size:', 4, 'Eta:', 0.00014403945108059372, 'Lamda:', 4.4961530708248041e-07, 'Activation:', <class 'pybrain.structure.modules.sigmoidlayer.SigmoidLayer'>)"
       ]
      },
      {
       "output_type": "stream",
       "stream": "stdout",
       "text": [
        "\n",
        "('Epochs:', 10, 'Hidden_size:', 24, 'Eta:', 5.9917530951501856, 'Lamda:', 0.0, 'Activation:', <class 'pybrain.structure.modules.sigmoidlayer.SigmoidLayer'>)"
       ]
      },
      {
       "output_type": "stream",
       "stream": "stdout",
       "text": [
        "\n",
        "('Epochs:', 10, 'Hidden_size:', 5, 'Eta:', 1.8718670528527772, 'Lamda:', 0.0, 'Activation:', <class 'pybrain.structure.modules.sigmoidlayer.SigmoidLayer'>)"
       ]
      },
      {
       "output_type": "stream",
       "stream": "stdout",
       "text": [
        "\n",
        "('Epochs:', 10, 'Hidden_size:', 13, 'Eta:', 7.4152364905274801, 'Lamda:', 8.1308918351433041e-07, 'Activation:', <class 'pybrain.structure.modules.sigmoidlayer.SigmoidLayer'>)"
       ]
      },
      {
       "output_type": "stream",
       "stream": "stdout",
       "text": [
        "\n",
        "('Epochs:', 10, 'Hidden_size:', 30, 'Eta:', 5.3474262317742376, 'Lamda:', 0.0, 'Activation:', <class 'pybrain.structure.modules.sigmoidlayer.SigmoidLayer'>)"
       ]
      },
      {
       "output_type": "stream",
       "stream": "stdout",
       "text": [
        "\n",
        "('Epochs:', 10, 'Hidden_size:', 4, 'Eta:', 0.017419395549899672, 'Lamda:', 2.3791520956862542e-06, 'Activation:', <class 'pybrain.structure.modules.sigmoidlayer.SigmoidLayer'>)"
       ]
      },
      {
       "output_type": "stream",
       "stream": "stdout",
       "text": [
        "\n",
        "('Epochs:', 10, 'Hidden_size:', 18, 'Eta:', 0.00097206619441982296, 'Lamda:', 8.3850998794808738e-07, 'Activation:', <class 'pybrain.structure.modules.softmax.SoftmaxLayer'>)"
       ]
      },
      {
       "output_type": "stream",
       "stream": "stdout",
       "text": [
        "\n",
        "('Epochs:', 10, 'Hidden_size:', 7, 'Eta:', 0.0083702304303137215, 'Lamda:', 0.0, 'Activation:', <class 'pybrain.structure.modules.sigmoidlayer.SigmoidLayer'>)"
       ]
      },
      {
       "output_type": "stream",
       "stream": "stdout",
       "text": [
        "\n",
        "('Epochs:', 10, 'Hidden_size:', 4, 'Eta:', 0.0041550003085787275, 'Lamda:', 4.1201319211466119e-07, 'Activation:', <class 'pybrain.structure.modules.sigmoidlayer.SigmoidLayer'>)"
       ]
      },
      {
       "output_type": "stream",
       "stream": "stdout",
       "text": [
        "\n",
        "('Epochs:', 10, 'Hidden_size:', 25, 'Eta:', 0.057034558894808282, 'Lamda:', 0.0, 'Activation:', <class 'pybrain.structure.modules.softmax.SoftmaxLayer'>)"
       ]
      },
      {
       "output_type": "stream",
       "stream": "stdout",
       "text": [
        "\n",
        "('Epochs:', 10, 'Hidden_size:', 11, 'Eta:', 8.9438932689503172, 'Lamda:', 0.0, 'Activation:', <class 'pybrain.structure.modules.softmax.SoftmaxLayer'>)"
       ]
      },
      {
       "output_type": "stream",
       "stream": "stdout",
       "text": [
        "\n",
        "('Epochs:', 10, 'Hidden_size:', 30, 'Eta:', 0.0042945695976928317, 'Lamda:', 2.0511044995240456e-07, 'Activation:', <class 'pybrain.structure.modules.softmax.SoftmaxLayer'>)"
       ]
      },
      {
       "output_type": "stream",
       "stream": "stdout",
       "text": [
        "\n",
        "('Epochs:', 10, 'Hidden_size:', 5, 'Eta:', 0.00024139817675452371, 'Lamda:', 1.4879628473521867e-07, 'Activation:', <class 'pybrain.structure.modules.softmax.SoftmaxLayer'>)"
       ]
      },
      {
       "output_type": "stream",
       "stream": "stdout",
       "text": [
        "\n",
        "('Epochs:', 10, 'Hidden_size:', 31, 'Eta:', 1.2339315339337451, 'Lamda:', 3.293046978335592e-07, 'Activation:', <class 'pybrain.structure.modules.softmax.SoftmaxLayer'>)"
       ]
      },
      {
       "output_type": "stream",
       "stream": "stdout",
       "text": [
        "\n",
        "('Epochs:', 10, 'Hidden_size:', 4, 'Eta:', 0.11382032532959377, 'Lamda:', 3.0209176530784062e-06, 'Activation:', <class 'pybrain.structure.modules.sigmoidlayer.SigmoidLayer'>)"
       ]
      },
      {
       "output_type": "stream",
       "stream": "stdout",
       "text": [
        "\n",
        "('Epochs:', 10, 'Hidden_size:', 4, 'Eta:', 0.0094905193560816409, 'Lamda:', 0.0, 'Activation:', <class 'pybrain.structure.modules.sigmoidlayer.SigmoidLayer'>)"
       ]
      },
      {
       "output_type": "stream",
       "stream": "stdout",
       "text": [
        "\n",
        "('Epochs:', 10, 'Hidden_size:', 10, 'Eta:', 0.55156032729596871, 'Lamda:', 2.2169065503156787e-06, 'Activation:', <class 'pybrain.structure.modules.sigmoidlayer.SigmoidLayer'>)"
       ]
      },
      {
       "output_type": "stream",
       "stream": "stdout",
       "text": [
        "\n",
        "('Epochs:', 10, 'Hidden_size:', 31, 'Eta:', 0.2897080905218285, 'Lamda:', 0.0, 'Activation:', <class 'pybrain.structure.modules.softmax.SoftmaxLayer'>)"
       ]
      },
      {
       "output_type": "stream",
       "stream": "stdout",
       "text": [
        "\n",
        "('Epochs:', 10, 'Hidden_size:', 5, 'Eta:', 0.00032909345392328072, 'Lamda:', 6.6832010766771587e-07, 'Activation:', <class 'pybrain.structure.modules.softmax.SoftmaxLayer'>)"
       ]
      },
      {
       "output_type": "stream",
       "stream": "stdout",
       "text": [
        "\n",
        "('Epochs:', 10, 'Hidden_size:', 25, 'Eta:', 0.00013936085398460975, 'Lamda:', 0.0, 'Activation:', <class 'pybrain.structure.modules.sigmoidlayer.SigmoidLayer'>)"
       ]
      },
      {
       "output_type": "stream",
       "stream": "stdout",
       "text": [
        "\n",
        "('Epochs:', 10, 'Hidden_size:', 5, 'Eta:', 0.0003711852629272286, 'Lamda:', 0.0, 'Activation:', <class 'pybrain.structure.modules.softmax.SoftmaxLayer'>)"
       ]
      },
      {
       "output_type": "stream",
       "stream": "stdout",
       "text": [
        "\n",
        "('Epochs:', 10, 'Hidden_size:', 20, 'Eta:', 5.1044093851491912, 'Lamda:', 8.2482704275078774e-06, 'Activation:', <class 'pybrain.structure.modules.softmax.SoftmaxLayer'>)"
       ]
      },
      {
       "output_type": "stream",
       "stream": "stdout",
       "text": [
        "\n",
        "('Epochs:', 10, 'Hidden_size:', 7, 'Eta:', 1.7799236533891452, 'Lamda:', 0.0, 'Activation:', <class 'pybrain.structure.modules.softmax.SoftmaxLayer'>)"
       ]
      },
      {
       "output_type": "stream",
       "stream": "stdout",
       "text": [
        "\n",
        "('Epochs:', 10, 'Hidden_size:', 6, 'Eta:', 0.00019857901716295923, 'Lamda:', 5.985539164966506e-06, 'Activation:', <class 'pybrain.structure.modules.sigmoidlayer.SigmoidLayer'>)"
       ]
      },
      {
       "output_type": "stream",
       "stream": "stdout",
       "text": [
        "\n",
        "('Epochs:', 10, 'Hidden_size:', 8, 'Eta:', 0.039151054286480552, 'Lamda:', 6.177404270631042e-07, 'Activation:', <class 'pybrain.structure.modules.sigmoidlayer.SigmoidLayer'>)"
       ]
      },
      {
       "output_type": "stream",
       "stream": "stdout",
       "text": [
        "\n",
        "('Epochs:', 10, 'Hidden_size:', 24, 'Eta:', 0.011920581441579831, 'Lamda:', 0.0, 'Activation:', <class 'pybrain.structure.modules.softmax.SoftmaxLayer'>)"
       ]
      },
      {
       "output_type": "stream",
       "stream": "stdout",
       "text": [
        "\n",
        "('Epochs:', 10, 'Hidden_size:', 25, 'Eta:', 0.00097796739898559667, 'Lamda:', 3.4947825408503899e-06, 'Activation:', <class 'pybrain.structure.modules.sigmoidlayer.SigmoidLayer'>)"
       ]
      },
      {
       "output_type": "stream",
       "stream": "stdout",
       "text": [
        "\n",
        "('Epochs:', 10, 'Hidden_size:', 17, 'Eta:', 0.29959989080658994, 'Lamda:', 0.0, 'Activation:', <class 'pybrain.structure.modules.softmax.SoftmaxLayer'>)"
       ]
      },
      {
       "output_type": "stream",
       "stream": "stdout",
       "text": [
        "\n",
        "('Epochs:', 10, 'Hidden_size:', 7, 'Eta:', 3.5455634178105462, 'Lamda:', 1.7934857926339298e-06, 'Activation:', <class 'pybrain.structure.modules.sigmoidlayer.SigmoidLayer'>)"
       ]
      },
      {
       "output_type": "stream",
       "stream": "stdout",
       "text": [
        "\n",
        "('Epochs:', 10, 'Hidden_size:', 10, 'Eta:', 0.036072294065870252, 'Lamda:', 0.0, 'Activation:', <class 'pybrain.structure.modules.sigmoidlayer.SigmoidLayer'>)"
       ]
      },
      {
       "output_type": "stream",
       "stream": "stdout",
       "text": [
        "\n",
        "('Epochs:', 10, 'Hidden_size:', 6, 'Eta:', 0.033272499898332912, 'Lamda:', 0.0, 'Activation:', <class 'pybrain.structure.modules.sigmoidlayer.SigmoidLayer'>)"
       ]
      },
      {
       "output_type": "stream",
       "stream": "stdout",
       "text": [
        "\n",
        "('Epochs:', 10, 'Hidden_size:', 8, 'Eta:', 0.00024796421507707772, 'Lamda:', 0.0, 'Activation:', <class 'pybrain.structure.modules.sigmoidlayer.SigmoidLayer'>)"
       ]
      },
      {
       "output_type": "stream",
       "stream": "stdout",
       "text": [
        "\n",
        "('Epochs:', 10, 'Hidden_size:', 8, 'Eta:', 0.012849675102680119, 'Lamda:', 7.6064122089348982e-06, 'Activation:', <class 'pybrain.structure.modules.sigmoidlayer.SigmoidLayer'>)"
       ]
      },
      {
       "output_type": "stream",
       "stream": "stdout",
       "text": [
        "\n",
        "('Epochs:', 10, 'Hidden_size:', 21, 'Eta:', 0.030479003878578128, 'Lamda:', 3.2615799901186463e-06, 'Activation:', <class 'pybrain.structure.modules.softmax.SoftmaxLayer'>)"
       ]
      },
      {
       "output_type": "stream",
       "stream": "stdout",
       "text": [
        "\n",
        "('Epochs:', 10, 'Hidden_size:', 13, 'Eta:', 3.4060347268738718, 'Lamda:', 0.0, 'Activation:', <class 'pybrain.structure.modules.softmax.SoftmaxLayer'>)"
       ]
      },
      {
       "output_type": "stream",
       "stream": "stdout",
       "text": [
        "\n",
        "('Epochs:', 10, 'Hidden_size:', 10, 'Eta:', 0.0013015372000902197, 'Lamda:', 0.0, 'Activation:', <class 'pybrain.structure.modules.softmax.SoftmaxLayer'>)"
       ]
      },
      {
       "output_type": "stream",
       "stream": "stdout",
       "text": [
        "\n",
        "('Epochs:', 10, 'Hidden_size:', 14, 'Eta:', 6.7107678846915331, 'Lamda:', 7.1534704986461207e-06, 'Activation:', <class 'pybrain.structure.modules.softmax.SoftmaxLayer'>)"
       ]
      },
      {
       "output_type": "stream",
       "stream": "stdout",
       "text": [
        "\n",
        "('Epochs:', 10, 'Hidden_size:', 8, 'Eta:', 0.13036075270598227, 'Lamda:', 1.14993151293732e-07, 'Activation:', <class 'pybrain.structure.modules.softmax.SoftmaxLayer'>)"
       ]
      },
      {
       "output_type": "stream",
       "stream": "stdout",
       "text": [
        "\n",
        "('Epochs:', 10, 'Hidden_size:', 14, 'Eta:', 0.00040862132026787024, 'Lamda:', 2.132425542553532e-06, 'Activation:', <class 'pybrain.structure.modules.sigmoidlayer.SigmoidLayer'>)"
       ]
      },
      {
       "output_type": "stream",
       "stream": "stdout",
       "text": [
        "\n",
        "('Epochs:', 10, 'Hidden_size:', 4, 'Eta:', 1.1801407203379748, 'Lamda:', 6.6309023409911581e-06, 'Activation:', <class 'pybrain.structure.modules.sigmoidlayer.SigmoidLayer'>)"
       ]
      },
      {
       "output_type": "stream",
       "stream": "stdout",
       "text": [
        "\n",
        "('Epochs:', 10, 'Hidden_size:', 20, 'Eta:', 0.0097717533651195797, 'Lamda:', 3.4906670436704621e-07, 'Activation:', <class 'pybrain.structure.modules.softmax.SoftmaxLayer'>)"
       ]
      },
      {
       "output_type": "stream",
       "stream": "stdout",
       "text": [
        "\n",
        "('Epochs:', 10, 'Hidden_size:', 4, 'Eta:', 0.026459321376847887, 'Lamda:', 3.3836574168695445e-07, 'Activation:', <class 'pybrain.structure.modules.sigmoidlayer.SigmoidLayer'>)"
       ]
      },
      {
       "output_type": "stream",
       "stream": "stdout",
       "text": [
        "\n",
        "('Epochs:', 10, 'Hidden_size:', 14, 'Eta:', 0.12199081212953215, 'Lamda:', 1.1228246396044073e-06, 'Activation:', <class 'pybrain.structure.modules.softmax.SoftmaxLayer'>)"
       ]
      },
      {
       "output_type": "stream",
       "stream": "stdout",
       "text": [
        "\n",
        "('Epochs:', 10, 'Hidden_size:', 16, 'Eta:', 0.011473737612699812, 'Lamda:', 3.6069392170138819e-07, 'Activation:', <class 'pybrain.structure.modules.softmax.SoftmaxLayer'>)"
       ]
      },
      {
       "output_type": "stream",
       "stream": "stdout",
       "text": [
        "\n",
        "('Epochs:', 10, 'Hidden_size:', 16, 'Eta:', 0.08957652070183518, 'Lamda:', 1.1660255429798545e-06, 'Activation:', <class 'pybrain.structure.modules.sigmoidlayer.SigmoidLayer'>)"
       ]
      },
      {
       "output_type": "stream",
       "stream": "stdout",
       "text": [
        "\n",
        "('Epochs:', 10, 'Hidden_size:', 18, 'Eta:', 0.0014970912545141772, 'Lamda:', 0.0, 'Activation:', <class 'pybrain.structure.modules.softmax.SoftmaxLayer'>)"
       ]
      },
      {
       "output_type": "stream",
       "stream": "stdout",
       "text": [
        "\n",
        "('Epochs:', 10, 'Hidden_size:', 14, 'Eta:', 2.7426646868205489, 'Lamda:', 0.0, 'Activation:', <class 'pybrain.structure.modules.sigmoidlayer.SigmoidLayer'>)"
       ]
      },
      {
       "output_type": "stream",
       "stream": "stdout",
       "text": [
        "\n",
        "('Epochs:', 10, 'Hidden_size:', 4, 'Eta:', 1.2741381728728485, 'Lamda:', 1.54318035059831e-06, 'Activation:', <class 'pybrain.structure.modules.softmax.SoftmaxLayer'>)"
       ]
      },
      {
       "output_type": "stream",
       "stream": "stdout",
       "text": [
        "\n",
        "('Epochs:', 10, 'Hidden_size:', 8, 'Eta:', 0.96014470504731231, 'Lamda:', 0.0, 'Activation:', <class 'pybrain.structure.modules.softmax.SoftmaxLayer'>)"
       ]
      },
      {
       "output_type": "stream",
       "stream": "stdout",
       "text": [
        "\n",
        "('Epochs:', 10, 'Hidden_size:', 10, 'Eta:', 0.0035442246095820926, 'Lamda:', 1.1117207652253058e-06, 'Activation:', <class 'pybrain.structure.modules.sigmoidlayer.SigmoidLayer'>)"
       ]
      },
      {
       "output_type": "stream",
       "stream": "stdout",
       "text": [
        "\n",
        "('Epochs:', 10, 'Hidden_size:', 11, 'Eta:', 2.7486041107798127, 'Lamda:', 0.0, 'Activation:', <class 'pybrain.structure.modules.softmax.SoftmaxLayer'>)"
       ]
      },
      {
       "output_type": "stream",
       "stream": "stdout",
       "text": [
        "\n",
        "('Epochs:', 10, 'Hidden_size:', 17, 'Eta:', 0.022444386047541263, 'Lamda:', 6.9740168358682399e-06, 'Activation:', <class 'pybrain.structure.modules.sigmoidlayer.SigmoidLayer'>)"
       ]
      },
      {
       "output_type": "stream",
       "stream": "stdout",
       "text": [
        "\n",
        "('Epochs:', 10, 'Hidden_size:', 20, 'Eta:', 0.27146134961502483, 'Lamda:', 0.0, 'Activation:', <class 'pybrain.structure.modules.sigmoidlayer.SigmoidLayer'>)"
       ]
      },
      {
       "output_type": "stream",
       "stream": "stdout",
       "text": [
        "\n",
        "('Epochs:', 10, 'Hidden_size:', 30, 'Eta:', 0.0022463724342676426, 'Lamda:', 5.6654422583418506e-07, 'Activation:', <class 'pybrain.structure.modules.softmax.SoftmaxLayer'>)"
       ]
      },
      {
       "output_type": "stream",
       "stream": "stdout",
       "text": [
        "\n",
        "('Epochs:', 10, 'Hidden_size:', 9, 'Eta:', 0.18123898000848465, 'Lamda:', 3.5769636386807666e-07, 'Activation:', <class 'pybrain.structure.modules.softmax.SoftmaxLayer'>)"
       ]
      },
      {
       "output_type": "stream",
       "stream": "stdout",
       "text": [
        "\n",
        "('Epochs:', 10, 'Hidden_size:', 19, 'Eta:', 0.68793416360784809, 'Lamda:', 1.9337971441661138e-07, 'Activation:', <class 'pybrain.structure.modules.sigmoidlayer.SigmoidLayer'>)"
       ]
      },
      {
       "output_type": "stream",
       "stream": "stdout",
       "text": [
        "\n",
        "('Epochs:', 10, 'Hidden_size:', 12, 'Eta:', 3.9836300489087142, 'Lamda:', 0.0, 'Activation:', <class 'pybrain.structure.modules.sigmoidlayer.SigmoidLayer'>)"
       ]
      },
      {
       "output_type": "stream",
       "stream": "stdout",
       "text": [
        "\n",
        "('Epochs:', 10, 'Hidden_size:', 13, 'Eta:', 0.29285523201388275, 'Lamda:', 0.0, 'Activation:', <class 'pybrain.structure.modules.softmax.SoftmaxLayer'>)"
       ]
      },
      {
       "output_type": "stream",
       "stream": "stdout",
       "text": [
        "\n",
        "('Epochs:', 10, 'Hidden_size:', 16, 'Eta:', 0.0016900763651896938, 'Lamda:', 2.7711659807686885e-07, 'Activation:', <class 'pybrain.structure.modules.sigmoidlayer.SigmoidLayer'>)"
       ]
      },
      {
       "output_type": "stream",
       "stream": "stdout",
       "text": [
        "\n",
        "('Epochs:', 10, 'Hidden_size:', 8, 'Eta:', 0.036865442105461721, 'Lamda:', 0.0, 'Activation:', <class 'pybrain.structure.modules.sigmoidlayer.SigmoidLayer'>)"
       ]
      },
      {
       "output_type": "stream",
       "stream": "stdout",
       "text": [
        "\n",
        "('Epochs:', 10, 'Hidden_size:', 9, 'Eta:', 0.0025013098703330623, 'Lamda:', 0.0, 'Activation:', <class 'pybrain.structure.modules.softmax.SoftmaxLayer'>)"
       ]
      },
      {
       "output_type": "stream",
       "stream": "stdout",
       "text": [
        "\n",
        "('Epochs:', 10, 'Hidden_size:', 4, 'Eta:', 0.39804526759102604, 'Lamda:', 0.0, 'Activation:', <class 'pybrain.structure.modules.sigmoidlayer.SigmoidLayer'>)"
       ]
      },
      {
       "output_type": "stream",
       "stream": "stdout",
       "text": [
        "\n",
        "('Epochs:', 10, 'Hidden_size:', 15, 'Eta:', 0.0033718112525015966, 'Lamda:', 0.0, 'Activation:', <class 'pybrain.structure.modules.softmax.SoftmaxLayer'>)"
       ]
      },
      {
       "output_type": "stream",
       "stream": "stdout",
       "text": [
        "\n",
        "('Epochs:', 10, 'Hidden_size:', 22, 'Eta:', 0.00030275535909888532, 'Lamda:', 3.9185981518581789e-06, 'Activation:', <class 'pybrain.structure.modules.softmax.SoftmaxLayer'>)"
       ]
      },
      {
       "output_type": "stream",
       "stream": "stdout",
       "text": [
        "\n",
        "('Epochs:', 10, 'Hidden_size:', 27, 'Eta:', 0.022426807620945607, 'Lamda:', 0.0, 'Activation:', <class 'pybrain.structure.modules.sigmoidlayer.SigmoidLayer'>)"
       ]
      },
      {
       "output_type": "stream",
       "stream": "stdout",
       "text": [
        "\n",
        "('Epochs:', 10, 'Hidden_size:', 5, 'Eta:', 0.0010648709369712479, 'Lamda:', 0.0, 'Activation:', <class 'pybrain.structure.modules.sigmoidlayer.SigmoidLayer'>)"
       ]
      },
      {
       "output_type": "stream",
       "stream": "stdout",
       "text": [
        "\n",
        "('Epochs:', 10, 'Hidden_size:', 4, 'Eta:', 0.0046644122674113263, 'Lamda:', 0.0, 'Activation:', <class 'pybrain.structure.modules.softmax.SoftmaxLayer'>)"
       ]
      },
      {
       "output_type": "stream",
       "stream": "stdout",
       "text": [
        "\n",
        "('Epochs:', 10, 'Hidden_size:', 9, 'Eta:', 0.0073661438399771966, 'Lamda:', 0.0, 'Activation:', <class 'pybrain.structure.modules.sigmoidlayer.SigmoidLayer'>)"
       ]
      },
      {
       "output_type": "stream",
       "stream": "stdout",
       "text": [
        "\n",
        "('Epochs:', 10, 'Hidden_size:', 4, 'Eta:', 5.5462338310397712, 'Lamda:', 0.0, 'Activation:', <class 'pybrain.structure.modules.sigmoidlayer.SigmoidLayer'>)"
       ]
      },
      {
       "output_type": "stream",
       "stream": "stdout",
       "text": [
        "\n",
        "('Epochs:', 10, 'Hidden_size:', 4, 'Eta:', 0.16395785444394534, 'Lamda:', 0.0, 'Activation:', <class 'pybrain.structure.modules.softmax.SoftmaxLayer'>)"
       ]
      },
      {
       "output_type": "stream",
       "stream": "stdout",
       "text": [
        "\n",
        "('Epochs:', 10, 'Hidden_size:', 14, 'Eta:', 5.818063059787006, 'Lamda:', 4.7817357578986637e-07, 'Activation:', <class 'pybrain.structure.modules.sigmoidlayer.SigmoidLayer'>)"
       ]
      },
      {
       "output_type": "stream",
       "stream": "stdout",
       "text": [
        "\n",
        "('Epochs:', 10, 'Hidden_size:', 7, 'Eta:', 0.00012343285752881587, 'Lamda:', 0.0, 'Activation:', <class 'pybrain.structure.modules.softmax.SoftmaxLayer'>)"
       ]
      },
      {
       "output_type": "stream",
       "stream": "stdout",
       "text": [
        "\n",
        "('Epochs:', 10, 'Hidden_size:', 25, 'Eta:', 0.51881746475801627, 'Lamda:', 1.3711498239835548e-06, 'Activation:', <class 'pybrain.structure.modules.softmax.SoftmaxLayer'>)"
       ]
      },
      {
       "output_type": "stream",
       "stream": "stdout",
       "text": [
        "\n",
        "('Epochs:', 10, 'Hidden_size:', 19, 'Eta:', 0.025531986772011597, 'Lamda:', 1.186274427082931e-07, 'Activation:', <class 'pybrain.structure.modules.sigmoidlayer.SigmoidLayer'>)"
       ]
      },
      {
       "output_type": "stream",
       "stream": "stdout",
       "text": [
        "\n",
        "('Epochs:', 10, 'Hidden_size:', 16, 'Eta:', 9.8498158760600187, 'Lamda:', 5.3984627128962622e-07, 'Activation:', <class 'pybrain.structure.modules.sigmoidlayer.SigmoidLayer'>)"
       ]
      },
      {
       "output_type": "stream",
       "stream": "stdout",
       "text": [
        "\n",
        "('Epochs:', 10, 'Hidden_size:', 20, 'Eta:', 1.2565938082849788, 'Lamda:', 0.0, 'Activation:', <class 'pybrain.structure.modules.sigmoidlayer.SigmoidLayer'>)"
       ]
      },
      {
       "output_type": "stream",
       "stream": "stdout",
       "text": [
        "\n",
        "('Epochs:', 10, 'Hidden_size:', 9, 'Eta:', 0.051631211326648274, 'Lamda:', 4.5813193353596027e-07, 'Activation:', <class 'pybrain.structure.modules.softmax.SoftmaxLayer'>)"
       ]
      },
      {
       "output_type": "stream",
       "stream": "stdout",
       "text": [
        "\n",
        "('Epochs:', 10, 'Hidden_size:', 7, 'Eta:', 3.1841650660164591, 'Lamda:', 0.0, 'Activation:', <class 'pybrain.structure.modules.softmax.SoftmaxLayer'>)"
       ]
      },
      {
       "output_type": "stream",
       "stream": "stdout",
       "text": [
        "\n",
        "('Epochs:', 10, 'Hidden_size:', 30, 'Eta:', 0.0029376968470625989, 'Lamda:', 1.9879130904752832e-07, 'Activation:', <class 'pybrain.structure.modules.softmax.SoftmaxLayer'>)"
       ]
      },
      {
       "output_type": "stream",
       "stream": "stdout",
       "text": [
        "\n",
        "('Epochs:', 10, 'Hidden_size:', 17, 'Eta:', 0.01466076308053325, 'Lamda:', 4.3430143645644371e-06, 'Activation:', <class 'pybrain.structure.modules.sigmoidlayer.SigmoidLayer'>)"
       ]
      },
      {
       "output_type": "stream",
       "stream": "stdout",
       "text": [
        "\n",
        "('Epochs:', 10, 'Hidden_size:', 22, 'Eta:', 0.0001317174443603493, 'Lamda:', 5.2071521067793487e-06, 'Activation:', <class 'pybrain.structure.modules.sigmoidlayer.SigmoidLayer'>)"
       ]
      },
      {
       "output_type": "stream",
       "stream": "stdout",
       "text": [
        "\n",
        "('Epochs:', 10, 'Hidden_size:', 16, 'Eta:', 0.0014138492410447866, 'Lamda:', 2.0348398639786231e-07, 'Activation:', <class 'pybrain.structure.modules.softmax.SoftmaxLayer'>)"
       ]
      },
      {
       "output_type": "stream",
       "stream": "stdout",
       "text": [
        "\n",
        "('Epochs:', 10, 'Hidden_size:', 29, 'Eta:', 0.0060815738533092963, 'Lamda:', 0.0, 'Activation:', <class 'pybrain.structure.modules.sigmoidlayer.SigmoidLayer'>)"
       ]
      },
      {
       "output_type": "stream",
       "stream": "stdout",
       "text": [
        "\n",
        "('Epochs:', 10, 'Hidden_size:', 18, 'Eta:', 7.3309086172377391, 'Lamda:', 1.3056285150897248e-06, 'Activation:', <class 'pybrain.structure.modules.sigmoidlayer.SigmoidLayer'>)"
       ]
      },
      {
       "output_type": "stream",
       "stream": "stdout",
       "text": [
        "\n",
        "('Epochs:', 10, 'Hidden_size:', 23, 'Eta:', 0.043229402472389759, 'Lamda:', 0.0, 'Activation:', <class 'pybrain.structure.modules.sigmoidlayer.SigmoidLayer'>)"
       ]
      },
      {
       "output_type": "stream",
       "stream": "stdout",
       "text": [
        "\n",
        "('Epochs:', 10, 'Hidden_size:', 20, 'Eta:', 0.0026750682971163832, 'Lamda:', 0.0, 'Activation:', <class 'pybrain.structure.modules.sigmoidlayer.SigmoidLayer'>)"
       ]
      },
      {
       "output_type": "stream",
       "stream": "stdout",
       "text": [
        "\n",
        "('Epochs:', 10, 'Hidden_size:', 18, 'Eta:', 0.028141748661904265, 'Lamda:', 9.4731862469487473e-07, 'Activation:', <class 'pybrain.structure.modules.sigmoidlayer.SigmoidLayer'>)"
       ]
      },
      {
       "output_type": "stream",
       "stream": "stdout",
       "text": [
        "\n",
        "('Epochs:', 10, 'Hidden_size:', 17, 'Eta:', 0.030776231589232234, 'Lamda:', 8.7526297958346602e-07, 'Activation:', <class 'pybrain.structure.modules.sigmoidlayer.SigmoidLayer'>)"
       ]
      },
      {
       "output_type": "stream",
       "stream": "stdout",
       "text": [
        "\n",
        "('Epochs:', 10, 'Hidden_size:', 7, 'Eta:', 0.00012906039303768268, 'Lamda:', 0.0, 'Activation:', <class 'pybrain.structure.modules.softmax.SoftmaxLayer'>)"
       ]
      },
      {
       "output_type": "stream",
       "stream": "stdout",
       "text": [
        "\n",
        "('Epochs:', 10, 'Hidden_size:', 21, 'Eta:', 0.11232448182199012, 'Lamda:', 3.2156828336841518e-06, 'Activation:', <class 'pybrain.structure.modules.sigmoidlayer.SigmoidLayer'>)"
       ]
      },
      {
       "output_type": "stream",
       "stream": "stdout",
       "text": [
        "\n",
        "('Epochs:', 10, 'Hidden_size:', 16, 'Eta:', 0.0069784724242373903, 'Lamda:', 2.5401182725330792e-06, 'Activation:', <class 'pybrain.structure.modules.softmax.SoftmaxLayer'>)"
       ]
      },
      {
       "output_type": "stream",
       "stream": "stdout",
       "text": [
        "\n",
        "('Epochs:', 10, 'Hidden_size:', 19, 'Eta:', 0.0063824759828410224, 'Lamda:', 4.2041733626264207e-07, 'Activation:', <class 'pybrain.structure.modules.sigmoidlayer.SigmoidLayer'>)"
       ]
      },
      {
       "output_type": "stream",
       "stream": "stdout",
       "text": [
        "\n",
        "('Epochs:', 10, 'Hidden_size:', 7, 'Eta:', 0.12065111201896209, 'Lamda:', 0.0, 'Activation:', <class 'pybrain.structure.modules.sigmoidlayer.SigmoidLayer'>)"
       ]
      },
      {
       "output_type": "stream",
       "stream": "stdout",
       "text": [
        "\n",
        "('Epochs:', 10, 'Hidden_size:', 11, 'Eta:', 1.1339427958414463, 'Lamda:', 8.5313177873347241e-07, 'Activation:', <class 'pybrain.structure.modules.sigmoidlayer.SigmoidLayer'>)"
       ]
      },
      {
       "output_type": "stream",
       "stream": "stdout",
       "text": [
        "\n",
        "('Epochs:', 10, 'Hidden_size:', 8, 'Eta:', 0.29215063116257978, 'Lamda:', 0.0, 'Activation:', <class 'pybrain.structure.modules.sigmoidlayer.SigmoidLayer'>)"
       ]
      },
      {
       "output_type": "stream",
       "stream": "stdout",
       "text": [
        "\n",
        "('Epochs:', 10, 'Hidden_size:', 6, 'Eta:', 0.028013981159449478, 'Lamda:', 0.0, 'Activation:', <class 'pybrain.structure.modules.sigmoidlayer.SigmoidLayer'>)"
       ]
      },
      {
       "output_type": "stream",
       "stream": "stdout",
       "text": [
        "\n",
        "('Epochs:', 10, 'Hidden_size:', 25, 'Eta:', 0.00011518463699659069, 'Lamda:', 1.1586396341564173e-06, 'Activation:', <class 'pybrain.structure.modules.softmax.SoftmaxLayer'>)"
       ]
      },
      {
       "output_type": "stream",
       "stream": "stdout",
       "text": [
        "\n",
        "('Epochs:', 10, 'Hidden_size:', 6, 'Eta:', 0.0035660845485872995, 'Lamda:', 1.7632788061598687e-07, 'Activation:', <class 'pybrain.structure.modules.sigmoidlayer.SigmoidLayer'>)"
       ]
      },
      {
       "output_type": "stream",
       "stream": "stdout",
       "text": [
        "\n",
        "('Epochs:', 10, 'Hidden_size:', 5, 'Eta:', 0.1059988304946328, 'Lamda:', 0.0, 'Activation:', <class 'pybrain.structure.modules.sigmoidlayer.SigmoidLayer'>)"
       ]
      },
      {
       "output_type": "stream",
       "stream": "stdout",
       "text": [
        "\n",
        "('Epochs:', 10, 'Hidden_size:', 16, 'Eta:', 0.51784309528298611, 'Lamda:', 5.5288179541265091e-07, 'Activation:', <class 'pybrain.structure.modules.softmax.SoftmaxLayer'>)"
       ]
      },
      {
       "output_type": "stream",
       "stream": "stdout",
       "text": [
        "\n",
        "('Epochs:', 10, 'Hidden_size:', 13, 'Eta:', 4.2796115208190084, 'Lamda:', 0.0, 'Activation:', <class 'pybrain.structure.modules.sigmoidlayer.SigmoidLayer'>)"
       ]
      },
      {
       "output_type": "stream",
       "stream": "stdout",
       "text": [
        "\n",
        "('Epochs:', 10, 'Hidden_size:', 6, 'Eta:', 0.10526189870089102, 'Lamda:', 1.5982885902220427e-07, 'Activation:', <class 'pybrain.structure.modules.softmax.SoftmaxLayer'>)"
       ]
      },
      {
       "output_type": "stream",
       "stream": "stdout",
       "text": [
        "\n",
        "('Epochs:', 10, 'Hidden_size:', 4, 'Eta:', 0.00019111499038729294, 'Lamda:', 3.9864716738970188e-06, 'Activation:', <class 'pybrain.structure.modules.softmax.SoftmaxLayer'>)"
       ]
      },
      {
       "output_type": "stream",
       "stream": "stdout",
       "text": [
        "\n",
        "('Epochs:', 10, 'Hidden_size:', 16, 'Eta:', 1.6539931484450652, 'Lamda:', 8.740065099543736e-06, 'Activation:', <class 'pybrain.structure.modules.softmax.SoftmaxLayer'>)"
       ]
      },
      {
       "output_type": "stream",
       "stream": "stdout",
       "text": [
        "\n",
        "('Epochs:', 10, 'Hidden_size:', 15, 'Eta:', 1.7373028109554336, 'Lamda:', 0.0, 'Activation:', <class 'pybrain.structure.modules.sigmoidlayer.SigmoidLayer'>)"
       ]
      },
      {
       "output_type": "stream",
       "stream": "stdout",
       "text": [
        "\n",
        "('Epochs:', 10, 'Hidden_size:', 8, 'Eta:', 0.0004773325475803596, 'Lamda:', 0.0, 'Activation:', <class 'pybrain.structure.modules.sigmoidlayer.SigmoidLayer'>)"
       ]
      },
      {
       "output_type": "stream",
       "stream": "stdout",
       "text": [
        "\n",
        "('Epochs:', 10, 'Hidden_size:', 5, 'Eta:', 0.62373352667778537, 'Lamda:', 1.2674766091151294e-07, 'Activation:', <class 'pybrain.structure.modules.softmax.SoftmaxLayer'>)"
       ]
      },
      {
       "output_type": "stream",
       "stream": "stdout",
       "text": [
        "\n",
        "('Epochs:', 10, 'Hidden_size:', 20, 'Eta:', 0.20622859550525188, 'Lamda:', 2.7716148886850272e-07, 'Activation:', <class 'pybrain.structure.modules.sigmoidlayer.SigmoidLayer'>)"
       ]
      },
      {
       "output_type": "stream",
       "stream": "stdout",
       "text": [
        "\n",
        "('Epochs:', 10, 'Hidden_size:', 5, 'Eta:', 2.7674567892119883, 'Lamda:', 5.6412759764280038e-06, 'Activation:', <class 'pybrain.structure.modules.sigmoidlayer.SigmoidLayer'>)"
       ]
      },
      {
       "output_type": "stream",
       "stream": "stdout",
       "text": [
        "\n",
        "('Epochs:', 10, 'Hidden_size:', 13, 'Eta:', 0.067194171441778347, 'Lamda:', 0.0, 'Activation:', <class 'pybrain.structure.modules.sigmoidlayer.SigmoidLayer'>)"
       ]
      },
      {
       "output_type": "stream",
       "stream": "stdout",
       "text": [
        "\n",
        "('Epochs:', 10, 'Hidden_size:', 12, 'Eta:', 0.54331240772888723, 'Lamda:', 0.0, 'Activation:', <class 'pybrain.structure.modules.softmax.SoftmaxLayer'>)"
       ]
      },
      {
       "output_type": "stream",
       "stream": "stdout",
       "text": [
        "\n",
        "('Epochs:', 10, 'Hidden_size:', 7, 'Eta:', 0.92087992834248489, 'Lamda:', 0.0, 'Activation:', <class 'pybrain.structure.modules.softmax.SoftmaxLayer'>)"
       ]
      },
      {
       "output_type": "stream",
       "stream": "stdout",
       "text": [
        "\n",
        "('Epochs:', 10, 'Hidden_size:', 5, 'Eta:', 0.0051297669645942959, 'Lamda:', 0.0, 'Activation:', <class 'pybrain.structure.modules.sigmoidlayer.SigmoidLayer'>)"
       ]
      },
      {
       "output_type": "stream",
       "stream": "stdout",
       "text": [
        "\n",
        "('Epochs:', 10, 'Hidden_size:', 7, 'Eta:', 1.4955325106186741, 'Lamda:', 0.0, 'Activation:', <class 'pybrain.structure.modules.sigmoidlayer.SigmoidLayer'>)"
       ]
      },
      {
       "output_type": "stream",
       "stream": "stdout",
       "text": [
        "\n",
        "('Epochs:', 10, 'Hidden_size:', 19, 'Eta:', 0.10031672204664431, 'Lamda:', 3.0600780800606834e-06, 'Activation:', <class 'pybrain.structure.modules.sigmoidlayer.SigmoidLayer'>)"
       ]
      },
      {
       "output_type": "stream",
       "stream": "stdout",
       "text": [
        "\n",
        "('Epochs:', 10, 'Hidden_size:', 7, 'Eta:', 2.1435933052940523, 'Lamda:', 3.2916537101995649e-07, 'Activation:', <class 'pybrain.structure.modules.sigmoidlayer.SigmoidLayer'>)"
       ]
      },
      {
       "output_type": "stream",
       "stream": "stdout",
       "text": [
        "\n",
        "('Epochs:', 10, 'Hidden_size:', 10, 'Eta:', 0.00050537369180957072, 'Lamda:', 0.0, 'Activation:', <class 'pybrain.structure.modules.sigmoidlayer.SigmoidLayer'>)"
       ]
      },
      {
       "output_type": "stream",
       "stream": "stdout",
       "text": [
        "\n",
        "('Epochs:', 10, 'Hidden_size:', 6, 'Eta:', 0.001294176405966621, 'Lamda:', 1.3323427896854816e-06, 'Activation:', <class 'pybrain.structure.modules.sigmoidlayer.SigmoidLayer'>)"
       ]
      },
      {
       "output_type": "stream",
       "stream": "stdout",
       "text": [
        "\n"
       ]
      }
     ],
     "prompt_number": 5
    },
    {
     "cell_type": "code",
     "collapsed": false,
     "input": [
      "print besthparams"
     ],
     "language": "python",
     "metadata": {},
     "outputs": [
      {
       "output_type": "stream",
       "stream": "stdout",
       "text": [
        "[]\n"
       ]
      }
     ],
     "prompt_number": 9
    },
    {
     "cell_type": "code",
     "collapsed": false,
     "input": [
      "net = bestnet\n",
      "pred = net.activateOnDataset(trainds)\n",
      "plt.plot(trainds['target'])\n",
      "plt.plot(pred)"
     ],
     "language": "python",
     "metadata": {},
     "outputs": [
      {
       "metadata": {},
       "output_type": "pyout",
       "prompt_number": 8,
       "text": [
        "[<matplotlib.lines.Line2D at 0x3124190>]"
       ]
      },
      {
       "metadata": {},
       "output_type": "display_data",
       "png": "[encoded data removed]",
       "text": [
        "<matplotlib.figure.Figure at 0x734a530>"
       ]
      }
     ],
     "prompt_number": 8
    }
   ],
   "metadata": {}
  }
 ]
}