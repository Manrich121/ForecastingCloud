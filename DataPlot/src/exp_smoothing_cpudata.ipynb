{
 "metadata": {
  "name": "",
  "signature": "sha256:59b8686b77e1308bf9b2353b2af3a4f68be91ec4a5e5b187f4f26fc8319847b9"
 },
 "nbformat": 3,
 "nbformat_minor": 0,
 "worksheets": [
  {
   "cells": [
    {
     "cell_type": "code",
     "collapsed": false,
     "input": [
      "%matplotlib inline\n",
      "import fileutils\n",
      "import numpy as np\n",
      "import matplotlib.pyplot as plt\n",
      "import holtwinters as hw\n",
      "from scipy import fft, arange, sqrt, cov, mean\n",
      "from sklearn.metrics import mean_squared_error, r2_score\n",
      "import pandas as pd\n",
      "import statsmodels as sm\n",
      "import HW_model"
     ],
     "language": "python",
     "metadata": {},
     "outputs": [],
     "prompt_number": 1
    },
    {
     "cell_type": "code",
     "collapsed": false,
     "input": [
      "def performsSlidingWindowForecast(filename, input_window=3000, predic_window=60):\n",
      "    '''\n",
      "    Input window = 250 hours = 250*12 = 3000 \n",
      "    look ahead window 60 samples =  5 hours = 720min/5 = 60\n",
      "    '''\n",
      "    data = pd.read_csv(filename)\n",
      "    N = len(data.Cpu)\n",
      "    forecastRmse = []\n",
      "    \n",
      "    print filename \n",
      "    \n",
      "    for strIndex in range(0,N-input_window - predic_window,predic_window):\n",
      "        \n",
      "        y = data.Cpu[strIndex:strIndex + input_window].tolist()\n",
      "        y_true = data.Cpu[strIndex + input_window:strIndex + input_window+predic_window]\n",
      "\n",
      "        model = HW_model.HW_model(y, 'additive')\n",
      "        params, rmse = model.fit()\n",
      "                \n",
      "        y_pred = model.predict(fc=predic_window)\n",
      "        forecastRmse.append(mean_squared_error(y_true, y_pred))\n",
      "    return forecastRmse"
     ],
     "language": "python",
     "metadata": {},
     "outputs": [],
     "prompt_number": 2
    },
    {
     "cell_type": "code",
     "collapsed": false,
     "input": [
      "forecastRmse = performsSlidingWindowForecast(\"d:/data/cpuRate/cpu_660404.csv\")"
     ],
     "language": "python",
     "metadata": {},
     "outputs": [
      {
       "output_type": "stream",
       "stream": "stdout",
       "text": [
        "d:/data/cpuRate/cpu_660404.csv\n"
       ]
      }
     ],
     "prompt_number": 3
    },
    {
     "cell_type": "code",
     "collapsed": false,
     "input": [
      "plt.boxplot(forecastRmse);"
     ],
     "language": "python",
     "metadata": {},
     "outputs": [
      {
       "metadata": {},
       "output_type": "display_data",
       "png": "[encoded data removed]",
       "text": [
        "<matplotlib.figure.Figure at 0x306f7b0>"
       ]
      }
     ],
     "prompt_number": 4
    }
   ],
   "metadata": {}
  }
 ]
}