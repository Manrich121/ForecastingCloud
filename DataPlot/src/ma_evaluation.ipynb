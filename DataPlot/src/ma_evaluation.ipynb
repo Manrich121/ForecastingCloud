{
 "metadata": {
  "name": "",
  "signature": "sha256:cdce4c736fd1889802056384505b86f30dfcf72ddefbbaa5e7b81239e598bb6e"
 },
 "nbformat": 3,
 "nbformat_minor": 0,
 "worksheets": [
  {
   "cells": [
    {
     "cell_type": "code",
     "collapsed": false,
     "input": [
      "# %matplotlib inline\n",
      "import fileutils\n",
      "import tsutils\n",
      "import numpy as np\n",
      "import matplotlib.pyplot as plt\n",
      "import evaluation as eval\n",
      "import MA_model\n",
      "\n",
      "train_window = 3000\n",
      "\n",
      "truevals = np.genfromtxt(\"d:/data/memory2/memory_1331993.csv\", delimiter=',',skip_header=1,usecols=(1))\n",
      "forecasts = np.genfromtxt(\"d:/data/memory2_ma/memory_1331993.csv\", delimiter=',',usecols=range(0,30)).ravel()\n",
      "threshold =  np.percentile(truevals, 70)\n",
      "\n",
      "plt.figure(figsize=(12,8))\n",
      "plt.plot(truevals)\n",
      "plt.plot(range(3000,3000+len(forecasts)), forecasts, linewidth=1.5)\n",
      "plt.hlines(threshold,0,len(truevals))\n",
      "plt.title(\"Moving Average (MA)\", size='large')\n",
      "plt.show()"
     ],
     "language": "python",
     "metadata": {},
     "outputs": [],
     "prompt_number": 1
    },
    {
     "cell_type": "code",
     "collapsed": false,
     "input": [
      "upper10 = (1+0.1) * truevals[train_window:train_window+100]\n",
      "lower10 = (1-0.1) * truevals[train_window:train_window+100]\n",
      "\n",
      "plt.plot(truevals[train_window:train_window+100])\n",
      "plt.plot(upper10)\n",
      "plt.plot(lower10)\n",
      "plt.show()"
     ],
     "language": "python",
     "metadata": {},
     "outputs": [],
     "prompt_number": 10
    }
   ],
   "metadata": {}
  }
 ]
}