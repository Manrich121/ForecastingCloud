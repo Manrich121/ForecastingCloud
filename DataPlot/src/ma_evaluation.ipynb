{
 "metadata": {
  "name": "",
  "signature": "sha256:f986f7273a828c45cbc776383be1f0bd205ee663678a287e723fb21c88b0226c"
 },
 "nbformat": 3,
 "nbformat_minor": 0,
 "worksheets": [
  {
   "cells": [
    {
     "cell_type": "code",
     "collapsed": false,
     "input": [
      "# %matplotlib inline\n",
      "import fileutils\n",
      "import tsutils\n",
      "import numpy as np\n",
      "import matplotlib.pyplot as plt\n",
      "import evaluation as eval\n",
      "import MA_model\n",
      "\n",
      "train_window = 3000\n",
      "\n",
      "truevals = np.genfromtxt(\"d:/data/cpu/cpu_660404.csv\", delimiter=',',skip_header=1,usecols=(1))\n",
      "forecasts = np.genfromtxt(\"d:/data/cpu_ma1/cpu_660404.csv\", delimiter=',',usecols=range(0,30)).ravel()\n",
      "threshold =  np.percentile(truevals, 70)\n",
      "\n",
      "plt.figure(figsize=(12,8))\n",
      "plt.plot(truevals)\n",
      "plt.plot(range(3000,3000+len(forecasts)), forecasts, linewidth=2)\n",
      "plt.hlines(threshold,0,len(truevals))\n",
      "plt.title(\"Moving Average (MA)\", size='large')\n",
      "plt.show()"
     ],
     "language": "python",
     "metadata": {},
     "outputs": [],
     "prompt_number": 1
    },
    {
     "cell_type": "code",
     "collapsed": false,
     "input": [
      "upper10 = (1+0.1) * truevals[train_window:train_window+100]\n",
      "lower10 = (1-0.1) * truevals[train_window:train_window+100]\n",
      "\n",
      "plt.plot(truevals[train_window:train_window+100])\n",
      "plt.plot(upper10)\n",
      "plt.plot(lower10)\n",
      "plt.show()"
     ],
     "language": "python",
     "metadata": {},
     "outputs": [],
     "prompt_number": 10
    }
   ],
   "metadata": {}
  }
 ]
}