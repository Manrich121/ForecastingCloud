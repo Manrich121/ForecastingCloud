{
 "metadata": {
  "name": "",
  "signature": "sha256:32c279679d0b048a6af66e003e6b198719ef17720774b31750b81f8539557e28"
 },
 "nbformat": 3,
 "nbformat_minor": 0,
 "worksheets": [
  {
   "cells": [
    {
     "cell_type": "code",
     "collapsed": false,
     "input": [
      "# %matplotlib inline\n",
      "import fileutils\n",
      "import tsutils\n",
      "import numpy as np\n",
      "import matplotlib.pyplot as plt\n",
      "import evaluation as eval\n",
      "\n",
      "overload_dur = 5 #samples\n",
      "train_window = 3000\n",
      "\n",
      "forecasts = np.genfromtxt(\"d:/data/memory2_ar/memory_1331993.csv\",delimiter=',',usecols=range(0,30)).ravel()\n",
      "truevals = np.genfromtxt(\"d:/data/memory2/memory_1331993.csv\", delimiter=',',skip_header=1,usecols=(1))\n",
      "threshold =  np.percentile(truevals, 70)\n",
      "\n",
      "plt.figure(figsize=(12,8))\n",
      "plt.plot(truevals)\n",
      "plt.plot(range(3000,3000+len(forecasts)),forecasts,linewidth=1.5)\n",
      "plt.hlines(threshold,0,len(truevals))\n",
      "plt.title(\"Auto-Regression AR(30)\", size='large')\n",
      "plt.show()"
     ],
     "language": "python",
     "metadata": {},
     "outputs": [],
     "prompt_number": 2
    },
    {
     "cell_type": "code",
     "collapsed": false,
     "input": [
      "rmse = eval.calc_RMSE(truevals[train_window:],forecasts, print_=True)"
     ],
     "language": "python",
     "metadata": {},
     "outputs": [
      {
       "output_type": "stream",
       "stream": "stdout",
       "text": [
        "RMSE =  0.0968488191844\n"
       ]
      }
     ],
     "prompt_number": 2
    },
    {
     "cell_type": "code",
     "collapsed": false,
     "input": [
      "correct, overest, underest = eval.calc_upper_lower_acc(truevals[train_window:], forecasts, print_=True)"
     ],
     "language": "python",
     "metadata": {},
     "outputs": [
      {
       "output_type": "stream",
       "stream": "stdout",
       "text": [
        "Correct prediction rate = 0.117041198502\n",
        "Over-estimation rate = 0.727528089888\n",
        "Under-estimation rate = 0.15543071161\n"
       ]
      }
     ],
     "prompt_number": 3
    },
    {
     "cell_type": "code",
     "collapsed": false,
     "input": [
      "TPR, FPR = eval.calc_persample_accuracy(truevals[train_window:], forecasts, threshold, print_=True)"
     ],
     "language": "python",
     "metadata": {},
     "outputs": [
      {
       "output_type": "stream",
       "stream": "stdout",
       "text": [
        " ------------\n",
        "| 1729 | 899 |\n",
        "-----------\n",
        "| 258 | 2454 |\n",
        " ------------\n",
        "TPR =  0.870156014092\n",
        "FPR =  0.268118103191\n"
       ]
      }
     ],
     "prompt_number": 4
    },
    {
     "cell_type": "code",
     "collapsed": false,
     "input": [
      "TPR, FPR = eval.calc_overload_states_acc(truevals[train_window:], forecasts, threshold, print_=True)"
     ],
     "language": "python",
     "metadata": {},
     "outputs": [
      {
       "output_type": "stream",
       "stream": "stdout",
       "text": [
        " ------------\n",
        "| 10 | 50 |\n",
        "-----------\n",
        "| 53 | 7 |\n",
        " ------------\n",
        "TPR =  0.15873015873\n",
        "FPR =  0.877192982456\n"
       ]
      }
     ],
     "prompt_number": 5
    }
   ],
   "metadata": {}
  }
 ]
}