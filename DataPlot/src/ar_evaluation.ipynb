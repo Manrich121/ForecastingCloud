{
 "metadata": {
  "name": "",
  "signature": "sha256:f24f1aa17a3ac0048b9c64b973c71174c373a4dadc6cdee09cb61a3313e4204b"
 },
 "nbformat": 3,
 "nbformat_minor": 0,
 "worksheets": [
  {
   "cells": [
    {
     "cell_type": "code",
     "collapsed": false,
     "input": [
      "# %matplotlib inline\n",
      "import fileutils\n",
      "import tsutils\n",
      "import numpy as np\n",
      "import matplotlib.pyplot as plt\n",
      "import evaluation as eval\n",
      "\n",
      "overload_dur = 5 #samples\n",
      "train_window = 3000\n",
      "\n",
      "forecasts = np.genfromtxt(\"D:\\data\\cpu_ar8\\cpu_4469213375.csv\",delimiter=',',usecols=range(0,30)).ravel()\n",
      "truevals = np.genfromtxt(\"D:\\data\\cpu\\cpu_4469213375.csv\", delimiter=',',skip_header=1,usecols=(1))\n",
      "threshold =  np.percentile(truevals, 70)\n",
      "\n",
      "plt.figure(figsize=(12,8))\n",
      "plt.plot(truevals)\n",
      "plt.plot(range(3000,3000+len(forecasts)),forecasts,linewidth=1.5)\n",
      "plt.hlines(threshold,0,len(truevals))\n",
      "plt.title(\"Auto-Regression AR(8)\", size='large')\n"
     ],
     "language": "python",
     "metadata": {},
     "outputs": [
      {
       "metadata": {},
       "output_type": "pyout",
       "prompt_number": 6,
       "text": [
        "<matplotlib.text.Text at 0x9f1c050>"
       ]
      }
     ],
     "prompt_number": 6
    },
    {
     "cell_type": "code",
     "collapsed": false,
     "input": [
      "forecasts = np.genfromtxt(\"D:\\data\\cpu2_ar8\\cpu_4304743890.csv\",delimiter=',',usecols=range(0,30)).ravel()\n",
      "truevals = np.genfromtxt(\"D:\\data\\cpu2\\cpu_4304743890.csv\", delimiter=',',skip_header=1,usecols=(1))\n",
      "# truevals = truevals/np.max(truevals)\n",
      "threshold =  np.percentile(truevals, 70)\n",
      "\n",
      "plt.figure(figsize=(12,8))\n",
      "plt.plot(truevals)\n",
      "plt.plot(range(3000,3000+len(forecasts)),forecasts,linewidth=1.5)\n",
      "plt.hlines(threshold,0,len(truevals))\n",
      "plt.title(\"Auto-Regression AR(8)\", size='large')\n",
      "plt.show()"
     ],
     "language": "python",
     "metadata": {},
     "outputs": [],
     "prompt_number": 7
    },
    {
     "cell_type": "code",
     "collapsed": false,
     "input": [
      "plt.plot(forecasts)\n",
      "plt.show()"
     ],
     "language": "python",
     "metadata": {},
     "outputs": [],
     "prompt_number": 25
    },
    {
     "cell_type": "code",
     "collapsed": false,
     "input": [
      "rmse = eval.calc_RMSE(truevals[train_window:],forecasts, print_=True)"
     ],
     "language": "python",
     "metadata": {},
     "outputs": [
      {
       "output_type": "stream",
       "stream": "stdout",
       "text": [
        "RMSE =  0.0968488191844\n"
       ]
      }
     ],
     "prompt_number": 2
    },
    {
     "cell_type": "code",
     "collapsed": false,
     "input": [
      "correct, overest, underest = eval.calc_upper_lower_acc(truevals[train_window:], forecasts, print_=True)"
     ],
     "language": "python",
     "metadata": {},
     "outputs": [
      {
       "output_type": "stream",
       "stream": "stdout",
       "text": [
        "Correct prediction rate = 0.117041198502\n",
        "Over-estimation rate = 0.727528089888\n",
        "Under-estimation rate = 0.15543071161\n"
       ]
      }
     ],
     "prompt_number": 3
    },
    {
     "cell_type": "code",
     "collapsed": false,
     "input": [
      "TPR, FPR = eval.calc_persample_accuracy(truevals[train_window:], forecasts, threshold, print_=True)"
     ],
     "language": "python",
     "metadata": {},
     "outputs": [
      {
       "output_type": "stream",
       "stream": "stdout",
       "text": [
        " ------------\n",
        "| 1729 | 899 |\n",
        "-----------\n",
        "| 258 | 2454 |\n",
        " ------------\n",
        "TPR =  0.870156014092\n",
        "FPR =  0.268118103191\n"
       ]
      }
     ],
     "prompt_number": 4
    },
    {
     "cell_type": "code",
     "collapsed": false,
     "input": [
      "TPR, FPR = eval.calc_overload_states_acc(truevals[train_window:], forecasts, threshold, print_=True)"
     ],
     "language": "python",
     "metadata": {},
     "outputs": [
      {
       "output_type": "stream",
       "stream": "stdout",
       "text": [
        " ------------\n",
        "| 10 | 50 |\n",
        "-----------\n",
        "| 53 | 7 |\n",
        " ------------\n",
        "TPR =  0.15873015873\n",
        "FPR =  0.877192982456\n"
       ]
      }
     ],
     "prompt_number": 5
    }
   ],
   "metadata": {}
  }
 ]
}