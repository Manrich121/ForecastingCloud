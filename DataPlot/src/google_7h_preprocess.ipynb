{
 "metadata": {
  "name": "",
  "signature": "sha256:5879c65f8fa0aea146cbf667d76462d797f7345126b8d495d05fd0fd22977c64"
 },
 "nbformat": 3,
 "nbformat_minor": 0,
 "worksheets": [
  {
   "cells": [
    {
     "cell_type": "code",
     "collapsed": false,
     "input": [
      "%matplotlib inline\n",
      "import numpy as np\n",
      "import scipy\n",
      "import matplotlib.pyplot as plt\n",
      "import random\n",
      "import fileutils"
     ],
     "language": "python",
     "metadata": {},
     "outputs": [],
     "prompt_number": 1
    },
    {
     "cell_type": "code",
     "collapsed": false,
     "input": [
      "data = np.genfromtxt(\"D:\\googleClusterData\\google-cluster-data-1.csv\", delimiter=' ',skiprows=1, dtype=str)\n",
      "machineIDs =  np.unique(data[:,1])\n",
      "strTime = 90000\n",
      "endTime = 112500\n",
      "step = 300"
     ],
     "language": "python",
     "metadata": {},
     "outputs": [],
     "prompt_number": 2
    },
    {
     "cell_type": "code",
     "collapsed": false,
     "input": [
      "curTasks = data[data[:,0]==str(90300)]\n",
      "selectedMachines = random.sample(np.unique(curTasks[:,1]),500)"
     ],
     "language": "python",
     "metadata": {},
     "outputs": [],
     "prompt_number": 3
    },
    {
     "cell_type": "code",
     "collapsed": false,
     "input": [
      "VMusage = {}\n",
      "for m in selectedMachines:\n",
      "    VMusage[m] = []"
     ],
     "language": "python",
     "metadata": {},
     "outputs": [],
     "prompt_number": 32
    },
    {
     "cell_type": "code",
     "collapsed": false,
     "input": [
      "for t in range(strTime,endTime,step):\n",
      "    curTasks = data[data[:,0]==str(t)]\n",
      "    for m in selectedMachines:\n",
      "        VMusage[m].append(np.sum(np.float_(curTasks[curTasks[:,1] == m][:,4])))"
     ],
     "language": "python",
     "metadata": {},
     "outputs": [],
     "prompt_number": 33
    },
    {
     "cell_type": "code",
     "collapsed": false,
     "input": [
      "goodVM = []\n",
      "for m in selectedMachines:\n",
      "    if np.count_nonzero(VMusage[m]) > 25:\n",
      "        goodVM.append(m)"
     ],
     "language": "python",
     "metadata": {},
     "outputs": [],
     "prompt_number": 6
    },
    {
     "cell_type": "code",
     "collapsed": false,
     "input": [
      "print goodVM[:100]"
     ],
     "language": "python",
     "metadata": {},
     "outputs": [
      {
       "output_type": "stream",
       "stream": "stdout",
       "text": [
        "['669859832', '1213244700', '1476464696', '1306989694', '1468730940', '1471235741', '1484777989', '1257791809', '861735298', '1485961372', '1277583173', '1263925604', '1330616271', '1484735954', '1291488310', '1485900901', '1458270745', '1396595389', '1263655480', '1455723298', '1443380054', '1446216930', '1386873561', '1291488372', '1462566712', '1446217936', '1291524260', '1441600720', '889056390', '493348794', '1487573482', '1446216493', '1444028995', '1458411965', '1484736273', '1444028989', '866809712', '1213243701', '631357838', '889138104', '1334244686', '1486188375', '1265981990', '1415936603', '1334821278', '1487932766', '1446216722', '1291523060', '836615420', '1446216571', '1486551281', '1243630894', '1291522879', '1414940795', '1487094655', '1247252712', '1302968880', '1486551300', '1488300826', '867675247', '1234267689', '1285546066', '1460884982', '1277584274', '1485961553', '1471235660', '1403474653', '1347093922', '1421066376', '1461174775', '1485950733', '1434479967', '1434479974', '1485579654', '826511280', '1209862618', '1474368909', '1446217511', '1476613509', '589233023', '420480162', '927960225', '1462566816', '1461175067', '1484736255', '1446217083', '561009354', '1446217033', '1474368915', '1295342892', '1462566763', '1458465122', '899455788', '722366581', '1294063134', '1446217681', '1342777954', '1330617280', '1443017562', '1286587575']\n"
       ]
      }
     ],
     "prompt_number": 9
    },
    {
     "cell_type": "code",
     "collapsed": false,
     "input": [
      "selectedMachines = ['669859832', '1213244700', '1476464696', '1306989694', '1468730940', '1471235741', '1484777989', '1257791809', '861735298', '1485961372', '1277583173', '1263925604', '1330616271', '1484735954', '1291488310', '1485900901', '1458270745', '1396595389', '1263655480', '1455723298', '1443380054', '1446216930', '1386873561', '1291488372', '1462566712', '1446217936', '1291524260', '1441600720', '889056390', '493348794', '1487573482', '1446216493', '1444028995', '1458411965', '1484736273', '1444028989', '866809712', '1213243701', '631357838', '889138104', '1334244686', '1486188375', '1265981990', '1415936603', '1334821278', '1487932766', '1446216722', '1291523060', '836615420', '1446216571', '1486551281', '1243630894', '1291522879', '1414940795', '1487094655', '1247252712', '1302968880', '1486551300', '1488300826', '867675247', '1234267689', '1285546066', '1460884982', '1277584274', '1485961553', '1471235660', '1403474653', '1347093922', '1421066376', '1461174775', '1485950733', '1434479967', '1434479974', '1485579654', '826511280', '1209862618', '1474368909', '1446217511', '1476613509', '589233023', '420480162', '927960225', '1462566816', '1461175067', '1484736255', '1446217083', '561009354', '1446217033', '1474368915', '1295342892', '1462566763', '1458465122', '899455788', '722366581', '1294063134', '1446217681', '1342777954', '1330617280', '1443017562', '1286587575']"
     ],
     "language": "python",
     "metadata": {},
     "outputs": [],
     "prompt_number": 10
    },
    {
     "cell_type": "code",
     "collapsed": false,
     "input": [
      "for m in selectedMachines:\n",
      "    fileutils.writeCSV(\"D:\\\\google_7h_mem\\\\\"+m+\".csv\", np.atleast_2d(VMusage[m]).T)"
     ],
     "language": "python",
     "metadata": {},
     "outputs": [],
     "prompt_number": 30
    },
    {
     "cell_type": "code",
     "collapsed": false,
     "input": [
      "plt.plot(VMusage[selectedMachines[22]])\n",
      "print selectedMachines[0]"
     ],
     "language": "python",
     "metadata": {},
     "outputs": [
      {
       "output_type": "stream",
       "stream": "stdout",
       "text": [
        "669859832\n"
       ]
      },
      {
       "metadata": {},
       "output_type": "display_data",
       "png": "[encoded data removed]",
       "text": [
        "<matplotlib.figure.Figure at 0x47304190>"
       ]
      }
     ],
     "prompt_number": 36
    }
   ],
   "metadata": {}
  }
 ]
}