{
 "metadata": {
  "name": "",
  "signature": "sha256:8eb4d290b2145c420101d25c25340a33d6b3c5c183c62fefe2932d4324702f58"
 },
 "nbformat": 3,
 "nbformat_minor": 0,
 "worksheets": [
  {
   "cells": [
    {
     "cell_type": "code",
     "collapsed": false,
     "input": [
      "%matplotlib inline\n",
      "import numpy as np\n",
      "import scipy\n",
      "import matplotlib.pyplot as plt\n",
      "import random\n",
      "import fileutils"
     ],
     "language": "python",
     "metadata": {},
     "outputs": [],
     "prompt_number": 26
    },
    {
     "cell_type": "code",
     "collapsed": false,
     "input": [
      "data = np.genfromtxt(\"D:\\googleClusterData\\google-cluster-data-1.csv\", delimiter=' ',skiprows=1, dtype=str)\n",
      "machineIDs =  np.unique(data[:,1])\n",
      "taskIDs = np.unique(data[:,2])"
     ],
     "language": "python",
     "metadata": {},
     "outputs": [],
     "prompt_number": 2
    },
    {
     "cell_type": "code",
     "collapsed": false,
     "input": [
      "print taskIDs.shape"
     ],
     "language": "python",
     "metadata": {},
     "outputs": [
      {
       "output_type": "stream",
       "stream": "stdout",
       "text": [
        "(176580,)\n"
       ]
      }
     ],
     "prompt_number": 3
    },
    {
     "cell_type": "code",
     "collapsed": false,
     "input": [
      "taskUsage = {}\n",
      "for t in taskIDs:\n",
      "    taskUsage[t] = []"
     ],
     "language": "python",
     "metadata": {},
     "outputs": [],
     "prompt_number": 4
    },
    {
     "cell_type": "code",
     "collapsed": false,
     "input": [
      "for row in data[:]:\n",
      "    taskUsage[row[2]].append(np.float_(row[4]))"
     ],
     "language": "python",
     "metadata": {},
     "outputs": [],
     "prompt_number": 5
    },
    {
     "cell_type": "code",
     "collapsed": false,
     "input": [
      "taskLen = np.array([len(x) for x in taskUsage.itervalues()])"
     ],
     "language": "python",
     "metadata": {},
     "outputs": [],
     "prompt_number": 6
    },
    {
     "cell_type": "code",
     "collapsed": false,
     "input": [
      "longTaskID = np.array(taskUsage.keys())[np.argwhere(taskLen==75)]"
     ],
     "language": "python",
     "metadata": {},
     "outputs": [],
     "prompt_number": 7
    },
    {
     "cell_type": "code",
     "collapsed": false,
     "input": [
      "usableTasts = []\n",
      "for t in longTasks:\n",
      "    if np.count_nonzero(taskUsage[t]) > 50:\n",
      "        usableTasts.append(t)"
     ],
     "language": "python",
     "metadata": {},
     "outputs": [],
     "prompt_number": 24
    },
    {
     "cell_type": "code",
     "collapsed": false,
     "input": [
      "for t in usableTasts:\n",
      "    fileutils.writeCSV(\"D:/data/google_7h_tasks/\"+t+\".csv\", np.atleast_2d(taskUsage[t]).T)"
     ],
     "language": "python",
     "metadata": {},
     "outputs": [],
     "prompt_number": 29
    },
    {
     "cell_type": "code",
     "collapsed": false,
     "input": [
      "mx = max(len(x) for x in taskUsage.itervalues())\n",
      "[k for k, v in taskUsage.iteritems() if len(v)==mx]"
     ],
     "language": "python",
     "metadata": {},
     "outputs": [
      {
       "metadata": {},
       "output_type": "pyout",
       "prompt_number": 15,
       "text": [
        "['1488529902']"
       ]
      }
     ],
     "prompt_number": 15
    },
    {
     "cell_type": "code",
     "collapsed": false,
     "input": [
      "machines = random.sample(parentIDs,100)\n",
      "machineUsage = {}"
     ],
     "language": "python",
     "metadata": {},
     "outputs": [],
     "prompt_number": 3
    },
    {
     "cell_type": "code",
     "collapsed": false,
     "input": [
      "strTime = 90000\n",
      "step = 300\n",
      "endTime = strTime + step\n",
      "globalEnd = 112500\n",
      "\n",
      "for m in machines:\n",
      "    machineUsage[m] = []\n",
      "\n",
      "for t in range(strTime, globalEnd, step):\n",
      "    window = data[data[:,0]==str(t)]\n",
      "    for m in machines:\n",
      "        aggregated = np.sum(np.float_(window[window[:,1]==m,2]))\n",
      "        machineUsage[m].append(aggregated)"
     ],
     "language": "python",
     "metadata": {},
     "outputs": [],
     "prompt_number": 4
    },
    {
     "cell_type": "code",
     "collapsed": false,
     "input": [
      "print len(machineUsage[machines[5]])"
     ],
     "language": "python",
     "metadata": {},
     "outputs": [
      {
       "output_type": "stream",
       "stream": "stdout",
       "text": [
        "75\n"
       ]
      }
     ],
     "prompt_number": 16
    }
   ],
   "metadata": {}
  }
 ]
}