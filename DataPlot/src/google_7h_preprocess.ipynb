{
 "metadata": {
  "name": "",
  "signature": "sha256:54cd276e003141cb25f07e1fa58d03c0c8ceadce50a2848d8b347d0010f51dce"
 },
 "nbformat": 3,
 "nbformat_minor": 0,
 "worksheets": [
  {
   "cells": [
    {
     "cell_type": "code",
     "collapsed": false,
     "input": [
      "%matplotlib inline\n",
      "import numpy as np\n",
      "import scipy\n",
      "import matplotlib.pyplot as plt\n",
      "import random\n",
      "import fileutils"
     ],
     "language": "python",
     "metadata": {},
     "outputs": [],
     "prompt_number": 1
    },
    {
     "cell_type": "code",
     "collapsed": false,
     "input": [
      "data = np.genfromtxt(\"D:\\googleClusterData\\google-cluster-data-1.csv\", delimiter=' ',skiprows=1, dtype=str)\n",
      "machineIDs =  np.unique(data[:,1])\n",
      "taskIDs = np.unique(data[:,2])"
     ],
     "language": "python",
     "metadata": {},
     "outputs": [],
     "prompt_number": 2
    },
    {
     "cell_type": "code",
     "collapsed": false,
     "input": [
      "print taskIDs.shape"
     ],
     "language": "python",
     "metadata": {},
     "outputs": [
      {
       "output_type": "stream",
       "stream": "stdout",
       "text": [
        "(176580,)\n"
       ]
      }
     ],
     "prompt_number": 7
    },
    {
     "cell_type": "code",
     "collapsed": false,
     "input": [
      "taskUsage = {}\n",
      "for t in taskIDs:\n",
      "    taskUsage[t] = []"
     ],
     "language": "python",
     "metadata": {},
     "outputs": [],
     "prompt_number": 8
    },
    {
     "cell_type": "code",
     "collapsed": false,
     "input": [
      "for row in data[:]:\n",
      "    taskUsage[row[2]].append(np.float_(row[4]))"
     ],
     "language": "python",
     "metadata": {},
     "outputs": [],
     "prompt_number": 9
    },
    {
     "cell_type": "code",
     "collapsed": false,
     "input": [
      "taskLen = np.array([len(x) for x in taskUsage.itervalues()])"
     ],
     "language": "python",
     "metadata": {},
     "outputs": [],
     "prompt_number": 10
    },
    {
     "cell_type": "code",
     "collapsed": false,
     "input": [
      "longTaskID = np.array(taskUsage.keys())[np.argwhere(taskLen==75)]"
     ],
     "language": "python",
     "metadata": {},
     "outputs": [],
     "prompt_number": 12
    },
    {
     "cell_type": "code",
     "collapsed": false,
     "input": [
      "print longTaskID[:,0]"
     ],
     "language": "python",
     "metadata": {},
     "outputs": [
      {
       "output_type": "stream",
       "stream": "stdout",
       "text": [
        "['1432240324' '1421742397' '1476999786' ..., '1480971921' '1480971924'\n",
        " '1480971927']\n"
       ]
      }
     ],
     "prompt_number": 42
    },
    {
     "cell_type": "code",
     "collapsed": false,
     "input": [
      "usableTasts = []\n",
      "for t in longTaskID[:,0]:\n",
      "    if np.count_nonzero(taskUsage[t]) > 50:\n",
      "        usableTasts.append(t)"
     ],
     "language": "python",
     "metadata": {},
     "outputs": [],
     "prompt_number": 43
    },
    {
     "cell_type": "code",
     "collapsed": false,
     "input": [
      "print usableTasts"
     ],
     "language": "python",
     "metadata": {},
     "outputs": [
      {
       "output_type": "stream",
       "stream": "stdout",
       "text": [
        "['1485932346', '1486210173', '1484849613', '1487789980', '1476614058', '1486203959', '1486489746', '1486203260', '1486210428', '1488246335', '1484864407', '1484863870', '1486209442', '1484864352', '1485770580', '1486865818', '1486203053', '1484863861', '1488424505', '1486204028', '1484856836', '1485770574', '1484863859', '1486202981', '1484864043', '1486202702', '1484863948', '1486203896', '1484849375', '1487789965', '1484847573', '1488418793', '1484864245', '1486209119', '1487466517', '1486205192', '1486204076', '1486203851']\n"
       ]
      }
     ],
     "prompt_number": 45
    },
    {
     "cell_type": "code",
     "collapsed": false,
     "input": [
      "for t in usableTasts:\n",
      "    fileutils.writeCSV(\"D:\\\\google_7h_tasks\\\\\"+t+\".csv\", np.atleast_2d(taskUsage[t]).T)"
     ],
     "language": "python",
     "metadata": {},
     "outputs": [],
     "prompt_number": 47
    },
    {
     "cell_type": "code",
     "collapsed": false,
     "input": [
      "mx = max(len(x) for x in taskUsage.itervalues())\n",
      "[k for k, v in taskUsage.iteritems() if len(v)==mx]"
     ],
     "language": "python",
     "metadata": {},
     "outputs": []
    },
    {
     "cell_type": "code",
     "collapsed": false,
     "input": [
      "machines = random.sample(parentIDs,100)\n",
      "machineUsage = {}"
     ],
     "language": "python",
     "metadata": {},
     "outputs": []
    },
    {
     "cell_type": "code",
     "collapsed": false,
     "input": [
      "strTime = 90000\n",
      "step = 300\n",
      "endTime = strTime + step\n",
      "globalEnd = 112500\n",
      "\n",
      "for m in machines:\n",
      "    machineUsage[m] = []\n",
      "\n",
      "for t in range(strTime, globalEnd, step):\n",
      "    window = data[data[:,0]==str(t)]\n",
      "    for m in machines:\n",
      "        aggregated = np.sum(np.float_(window[window[:,1]==m,2]))\n",
      "        machineUsage[m].append(aggregated)"
     ],
     "language": "python",
     "metadata": {},
     "outputs": []
    },
    {
     "cell_type": "code",
     "collapsed": false,
     "input": [
      "print len(machineUsage[machines[5]])"
     ],
     "language": "python",
     "metadata": {},
     "outputs": [
      {
       "output_type": "stream",
       "stream": "stdout",
       "text": [
        "75\n"
       ]
      }
     ],
     "prompt_number": 16
    }
   ],
   "metadata": {}
  }
 ]
}