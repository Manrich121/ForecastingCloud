{
 "metadata": {
  "name": "",
  "signature": "sha256:4727de56a556364fe397c268323370ac05449a7a40e2f110d80f1b924dbac0ba"
 },
 "nbformat": 3,
 "nbformat_minor": 0,
 "worksheets": [
  {
   "cells": [
    {
     "cell_type": "code",
     "collapsed": false,
     "input": [
      "%matplotlib inline\n",
      "# from __future__ import print_function\n",
      "\n",
      "import numpy as np\n",
      "import scipy\n",
      "from matplotlib import pyplot as plt\n",
      "import evaluation as eval\n",
      "import fileutils\n",
      "\n",
      "from pybrain.datasets import SupervisedDataSet\n",
      "from pybrain.tools.shortcuts import buildNetwork\n",
      "from pybrain.supervised.trainers import BackpropTrainer\n",
      "from pybrain.structure.modules import SigmoidLayer, LinearLayer\n",
      "\n",
      "WINDOW = 3000\n",
      "LOOK = 30\n",
      "TYPE = \"cpu\"\n",
      "FILENAME = TYPE+\"_3938826162\""
     ],
     "language": "python",
     "metadata": {},
     "outputs": [],
     "prompt_number": 1
    },
    {
     "cell_type": "heading",
     "level": 3,
     "metadata": {},
     "source": [
      "FNN used to combine forecasts from models"
     ]
    },
    {
     "cell_type": "code",
     "collapsed": false,
     "input": [
      "files =  fileutils.getFilelist(\"D:/data/\"+TYPE)\n",
      "\n",
      "for f in files[:]:\n",
      "    filename = f.split('/')[-1]\n",
      "    truevals = np.nan_to_num(np.genfromtxt(\"d:/data/\"+TYPE+\"/\"+filename, delimiter=',',skip_header=1, usecols=(1))[:WINDOW+5340])\n",
      "    ar_fc = np.nan_to_num(np.genfromtxt(\"d:/data/\"+TYPE+\"_ar/\"+filename, delimiter=',', usecols=range(0,30))).ravel()\n",
      "    ma_fc = np.nan_to_num(np.genfromtxt(\"d:/data/\"+TYPE+\"_ma/\"+filename, delimiter=',', usecols=range(0,30))).ravel()\n",
      "    fnn_fc = np.nan_to_num(np.genfromtxt(\"d:/data/\"+TYPE+\"_fnn/\"+filename, delimiter=',',usecols=range(0,30))).ravel()\n",
      "    agile_fc = np.nan_to_num(np.genfromtxt(\"d:/data/\"+TYPE+\"_agile/\"+filename, delimiter=',',usecols=range(0,30))).ravel()\n",
      "    \n",
      "    print filename\n",
      "    # Compare with average\n",
      "    combine_model = np.vstack((ar_fc, np.vstack((ma_fc, np.vstack((fnn_fc, agile_fc))))))\n",
      "    average_fc = np.average(combine_model, axis=0)\n",
      "    \n",
      "    training = SupervisedDataSet(4, 1)\n",
      "    for i in range(LOOK):\n",
      "        training.appendLinked([ar_fc[i], ma_fc[i], fnn_fc[i], agile_fc[i]], truevals[i+WINDOW])\n",
      "        \n",
      "    besterr = eval.calc_RMSE(truevals[WINDOW:WINDOW+LOOK], average_fc[:LOOK])\n",
      "    bestNet = None\n",
      "    \n",
      "    for i in range(50):\n",
      "        net = buildNetwork(4, 2, 1, hiddenclass=LinearLayer, bias=False)\n",
      "        trainer = BackpropTrainer(net, training, learningrate=0.01, shuffle=False)\n",
      "        trainer.trainEpochs(200)\n",
      "\n",
      "        err = eval.calc_RMSE(truevals[WINDOW:WINDOW+LOOK], net.activateOnDataset(training))\n",
      "#         print besterr, err\n",
      "        if err <= besterr:\n",
      "            bestNet = net\n",
      "            break\n",
      "    \n",
      "    combo_fc = average_fc[0:LOOK].tolist()\n",
      "    if bestNet == None:\n",
      "        combo_fc = average_fc\n",
      "    else:\n",
      "        for i in range(LOOK, len(ar_fc), 30):\n",
      "            training = SupervisedDataSet(3, 1)\n",
      "            for j in range(i,i+30):\n",
      "                combo_fc.append(bestNet.activate([ar_fc[j], ma_fc[j], fnn_fc[j], agile_fc[j]])[0])\n",
      "                training.appendLinked([ar_fc[j], ma_fc[j], fnn_fc[j], agile_fc[j]], truevals[j+WINDOW])\n",
      "            trainer = BackpropTrainer(bestNet, training, learningrate=0.01, shuffle=False)\n",
      "            trainer.trainEpochs(1)\n",
      "                \n",
      "                \n",
      "            \n",
      "    result  = np.atleast_2d(combo_fc).reshape([178,30])\n",
      "    minimum = np.min(truevals)\n",
      "    result[0,result[0,:] < minimum] = minimum \n",
      "    \n",
      "    fileutils.writeCSV(\"d:/data/\"+TYPE+\"_combo4/\"+filename, result)\n",
      "    print filename, \"complete\""
     ],
     "language": "python",
     "metadata": {},
     "outputs": [
      {
       "output_type": "stream",
       "stream": "stdout",
       "text": [
        "cpu_1095481.csv\n",
        "cpu_1095481.csv"
       ]
      },
      {
       "output_type": "stream",
       "stream": "stdout",
       "text": [
        " complete\n",
        "cpu_124596184.csv"
       ]
      },
      {
       "output_type": "stream",
       "stream": "stdout",
       "text": [
        "\n",
        "cpu_124596184.csv"
       ]
      },
      {
       "output_type": "stream",
       "stream": "stdout",
       "text": [
        " complete\n",
        "cpu_1268205.csv\n",
        "cpu_1268205.csv"
       ]
      },
      {
       "output_type": "stream",
       "stream": "stdout",
       "text": [
        " complete\n",
        "cpu_1269048.csv\n",
        "cpu_1269048.csv"
       ]
      },
      {
       "output_type": "stream",
       "stream": "stdout",
       "text": [
        " complete\n",
        "cpu_1301871.csv\n",
        "cpu_1301871.csv"
       ]
      },
      {
       "output_type": "stream",
       "stream": "stdout",
       "text": [
        " complete\n",
        "cpu_1303745.csv\n",
        "cpu_1303745.csv"
       ]
      },
      {
       "output_type": "stream",
       "stream": "stdout",
       "text": [
        " complete\n",
        "cpu_1331706.csv\n",
        "cpu_1331706.csv"
       ]
      },
      {
       "output_type": "stream",
       "stream": "stdout",
       "text": [
        " complete\n",
        "cpu_1335648.csv"
       ]
      },
      {
       "output_type": "stream",
       "stream": "stdout",
       "text": [
        "\n",
        "cpu_1335648.csv"
       ]
      },
      {
       "output_type": "stream",
       "stream": "stdout",
       "text": [
        " complete\n",
        "cpu_1335782.csv\n",
        "cpu_1335782.csv"
       ]
      },
      {
       "output_type": "stream",
       "stream": "stdout",
       "text": [
        " complete\n",
        "cpu_1338948.csv\n",
        "cpu_1338948.csv"
       ]
      },
      {
       "output_type": "stream",
       "stream": "stdout",
       "text": [
        " complete\n",
        "cpu_1436348411.csv\n",
        "cpu_1436348411.csv"
       ]
      },
      {
       "output_type": "stream",
       "stream": "stdout",
       "text": [
        " complete\n",
        "cpu_1437072475.csv\n",
        "cpu_1437072475.csv"
       ]
      },
      {
       "output_type": "stream",
       "stream": "stdout",
       "text": [
        " complete\n",
        "cpu_1439356567.csv\n",
        "cpu_1439356567.csv"
       ]
      },
      {
       "output_type": "stream",
       "stream": "stdout",
       "text": [
        " complete\n",
        "cpu_1442486585.csv\n",
        "cpu_1442486585.csv"
       ]
      },
      {
       "output_type": "stream",
       "stream": "stdout",
       "text": [
        " complete\n",
        "cpu_155313295.csv\n",
        "cpu_155313295.csv"
       ]
      },
      {
       "output_type": "stream",
       "stream": "stdout",
       "text": [
        " complete\n",
        "cpu_1664088958.csv\n",
        "cpu_1664088958.csv"
       ]
      },
      {
       "output_type": "stream",
       "stream": "stdout",
       "text": [
        " complete\n",
        "cpu_167553463.csv\n",
        "cpu_167553463.csv"
       ]
      },
      {
       "output_type": "stream",
       "stream": "stdout",
       "text": [
        " complete\n",
        "cpu_16915982.csv\n",
        "cpu_16915982.csv"
       ]
      },
      {
       "output_type": "stream",
       "stream": "stdout",
       "text": [
        " complete\n",
        "cpu_1695367.csv\n",
        "cpu_1695367.csv"
       ]
      },
      {
       "output_type": "stream",
       "stream": "stdout",
       "text": [
        " complete\n",
        "cpu_2055507446.csv\n",
        "cpu_2055507446.csv"
       ]
      },
      {
       "output_type": "stream",
       "stream": "stdout",
       "text": [
        " complete\n",
        "cpu_2055737168.csv\n",
        "cpu_2055737168.csv"
       ]
      },
      {
       "output_type": "stream",
       "stream": "stdout",
       "text": [
        " complete\n",
        "cpu_227414872.csv\n",
        "cpu_227414872.csv"
       ]
      },
      {
       "output_type": "stream",
       "stream": "stdout",
       "text": [
        " complete\n",
        "cpu_2274895763.csv\n",
        "cpu_2274895763.csv"
       ]
      },
      {
       "output_type": "stream",
       "stream": "stdout",
       "text": [
        " complete\n",
        "cpu_2549393774.csv\n",
        "cpu_2549393774.csv"
       ]
      },
      {
       "output_type": "stream",
       "stream": "stdout",
       "text": [
        " complete\n",
        "cpu_257348783.csv\n",
        "cpu_257348783.csv"
       ]
      },
      {
       "output_type": "stream",
       "stream": "stdout",
       "text": [
        " complete\n",
        "cpu_257395954.csv\n",
        "cpu_257395954.csv"
       ]
      },
      {
       "output_type": "stream",
       "stream": "stdout",
       "text": [
        " complete\n",
        "cpu_2595183881.csv\n",
        "cpu_2595183881.csv"
       ]
      },
      {
       "output_type": "stream",
       "stream": "stdout",
       "text": [
        " complete\n",
        "cpu_2912464652.csv\n",
        "cpu_2912464652.csv"
       ]
      },
      {
       "output_type": "stream",
       "stream": "stdout",
       "text": [
        " complete\n",
        "cpu_294771706.csv\n",
        "cpu_294771706.csv"
       ]
      },
      {
       "output_type": "stream",
       "stream": "stdout",
       "text": [
        " complete\n",
        "cpu_294887209.csv\n",
        "cpu_294887209.csv"
       ]
      },
      {
       "output_type": "stream",
       "stream": "stdout",
       "text": [
        " complete\n",
        "cpu_294973335.csv\n",
        "cpu_294973335.csv"
       ]
      },
      {
       "output_type": "stream",
       "stream": "stdout",
       "text": [
        " complete\n",
        "cpu_317488701.csv\n",
        "cpu_317488701.csv"
       ]
      },
      {
       "output_type": "stream",
       "stream": "stdout",
       "text": [
        " complete\n",
        "cpu_317499484.csv\n",
        "cpu_317499484.csv"
       ]
      },
      {
       "output_type": "stream",
       "stream": "stdout",
       "text": [
        " complete\n",
        "cpu_318418982.csv\n",
        "cpu_318418982.csv"
       ]
      },
      {
       "output_type": "stream",
       "stream": "stdout",
       "text": [
        " complete\n",
        "cpu_323143631.csv\n",
        "cpu_323143631.csv"
       ]
      },
      {
       "output_type": "stream",
       "stream": "stdout",
       "text": [
        " complete\n",
        "cpu_3233542229.csv\n",
        "cpu_3233542229.csv"
       ]
      },
      {
       "output_type": "stream",
       "stream": "stdout",
       "text": [
        " complete\n",
        "cpu_329144835.csv\n",
        "cpu_329144835.csv"
       ]
      },
      {
       "output_type": "stream",
       "stream": "stdout",
       "text": [
        " complete\n",
        "cpu_329150663.csv\n",
        "cpu_329150663.csv"
       ]
      },
      {
       "output_type": "stream",
       "stream": "stdout",
       "text": [
        " complete\n",
        "cpu_3349189108.csv\n",
        "cpu_3349189108.csv"
       ]
      },
      {
       "output_type": "stream",
       "stream": "stdout",
       "text": [
        " complete\n",
        "cpu_336021545.csv\n",
        "cpu_336021545.csv"
       ]
      },
      {
       "output_type": "stream",
       "stream": "stdout",
       "text": [
        " complete\n",
        "cpu_336025676.csv\n",
        "cpu_336025676.csv"
       ]
      },
      {
       "output_type": "stream",
       "stream": "stdout",
       "text": [
        " complete\n",
        "cpu_336030391.csv\n",
        "cpu_336030391.csv"
       ]
      },
      {
       "output_type": "stream",
       "stream": "stdout",
       "text": [
        " complete\n",
        "cpu_336036882.csv\n",
        "cpu_336036882.csv"
       ]
      },
      {
       "output_type": "stream",
       "stream": "stdout",
       "text": [
        " complete\n",
        "cpu_336045945.csv\n",
        "cpu_336045945.csv"
       ]
      },
      {
       "output_type": "stream",
       "stream": "stdout",
       "text": [
        " complete\n",
        "cpu_336055347.csv\n",
        "cpu_336055347.csv"
       ]
      },
      {
       "output_type": "stream",
       "stream": "stdout",
       "text": [
        " complete\n",
        "cpu_3405236527.csv\n",
        "cpu_3405236527.csv"
       ]
      },
      {
       "output_type": "stream",
       "stream": "stdout",
       "text": [
        " complete\n",
        "cpu_344595418.csv\n",
        "cpu_344595418.csv"
       ]
      },
      {
       "output_type": "stream",
       "stream": "stdout",
       "text": [
        " complete\n",
        "cpu_348769060.csv\n",
        "cpu_348769060.csv"
       ]
      },
      {
       "output_type": "stream",
       "stream": "stdout",
       "text": [
        " complete\n",
        "cpu_351618647.csv"
       ]
      },
      {
       "output_type": "stream",
       "stream": "stdout",
       "text": [
        "\n",
        "cpu_351618647.csv"
       ]
      },
      {
       "output_type": "stream",
       "stream": "stdout",
       "text": [
        " complete\n",
        "cpu_351621284.csv\n",
        "cpu_351621284.csv"
       ]
      },
      {
       "output_type": "stream",
       "stream": "stdout",
       "text": [
        " complete\n",
        "cpu_351635981.csv\n",
        "cpu_351635981.csv"
       ]
      },
      {
       "output_type": "stream",
       "stream": "stdout",
       "text": [
        " complete\n",
        "cpu_3550322224.csv\n",
        "cpu_3550322224.csv"
       ]
      },
      {
       "output_type": "stream",
       "stream": "stdout",
       "text": [
        " complete\n",
        "cpu_376211539.csv\n",
        "cpu_376211539.csv"
       ]
      },
      {
       "output_type": "stream",
       "stream": "stdout",
       "text": [
        " complete\n",
        "cpu_376751173.csv\n",
        "cpu_376751173.csv"
       ]
      },
      {
       "output_type": "stream",
       "stream": "stdout",
       "text": [
        " complete\n",
        "cpu_3858945898.csv\n",
        "cpu_3858945898.csv"
       ]
      },
      {
       "output_type": "stream",
       "stream": "stdout",
       "text": [
        " complete\n",
        "cpu_38655581.csv\n",
        "cpu_38655581.csv"
       ]
      },
      {
       "output_type": "stream",
       "stream": "stdout",
       "text": [
        " complete\n",
        "cpu_3894543095.csv\n",
        "cpu_3894543095.csv"
       ]
      },
      {
       "output_type": "stream",
       "stream": "stdout",
       "text": [
        " complete\n",
        "cpu_3938719206.csv\n",
        "cpu_3938719206.csv"
       ]
      },
      {
       "output_type": "stream",
       "stream": "stdout",
       "text": [
        " complete\n",
        "cpu_3938826162.csv\n",
        "cpu_3938826162.csv"
       ]
      },
      {
       "output_type": "stream",
       "stream": "stdout",
       "text": [
        " complete\n",
        "cpu_410058079.csv\n",
        "cpu_410058079.csv"
       ]
      },
      {
       "output_type": "stream",
       "stream": "stdout",
       "text": [
        " complete\n",
        "cpu_4155527081.csv\n",
        "cpu_4155527081.csv"
       ]
      },
      {
       "output_type": "stream",
       "stream": "stdout",
       "text": [
        " complete\n",
        "cpu_4217136868.csv\n",
        "cpu_4217136868.csv"
       ]
      },
      {
       "output_type": "stream",
       "stream": "stdout",
       "text": [
        " complete\n",
        "cpu_4304743890.csv\n",
        "cpu_4304743890.csv"
       ]
      },
      {
       "output_type": "stream",
       "stream": "stdout",
       "text": [
        " complete\n",
        "cpu_431038861.csv\n",
        "cpu_431038861.csv"
       ]
      },
      {
       "output_type": "stream",
       "stream": "stdout",
       "text": [
        " complete\n",
        "cpu_431052910.csv\n",
        "cpu_431052910.csv"
       ]
      },
      {
       "output_type": "stream",
       "stream": "stdout",
       "text": [
        " complete\n",
        "cpu_431081448.csv\n",
        "cpu_431081448.csv"
       ]
      },
      {
       "output_type": "stream",
       "stream": "stdout",
       "text": [
        " complete\n",
        "cpu_4469213375.csv\n",
        "cpu_4469213375.csv"
       ]
      },
      {
       "output_type": "stream",
       "stream": "stdout",
       "text": [
        " complete\n",
        "cpu_4469371300.csv\n",
        "cpu_4469371300.csv"
       ]
      },
      {
       "output_type": "stream",
       "stream": "stdout",
       "text": [
        " complete\n",
        "cpu_4802475358.csv\n",
        "cpu_4802475358.csv"
       ]
      },
      {
       "output_type": "stream",
       "stream": "stdout",
       "text": [
        " complete\n",
        "cpu_4815459946.csv\n",
        "cpu_4815459946.csv"
       ]
      },
      {
       "output_type": "stream",
       "stream": "stdout",
       "text": [
        " complete\n",
        "cpu_4820238819.csv\n",
        "cpu_4820238819.csv"
       ]
      },
      {
       "output_type": "stream",
       "stream": "stdout",
       "text": [
        " complete\n",
        "cpu_564444639.csv\n",
        "cpu_564444639.csv"
       ]
      },
      {
       "output_type": "stream",
       "stream": "stdout",
       "text": [
        " complete\n",
        "cpu_5655258253.csv\n",
        "cpu_5655258253.csv"
       ]
      },
      {
       "output_type": "stream",
       "stream": "stdout",
       "text": [
        " complete\n",
        "cpu_5656207113.csv\n",
        "cpu_5656207113.csv"
       ]
      },
      {
       "output_type": "stream",
       "stream": "stdout",
       "text": [
        " complete\n",
        "cpu_5781488.csv\n",
        "cpu_5781488.csv"
       ]
      },
      {
       "output_type": "stream",
       "stream": "stdout",
       "text": [
        " complete\n",
        "cpu_5782232.csv\n",
        "cpu_5782232.csv"
       ]
      },
      {
       "output_type": "stream",
       "stream": "stdout",
       "text": [
        " complete\n",
        "cpu_5796442.csv\n",
        "cpu_5796442.csv"
       ]
      },
      {
       "output_type": "stream",
       "stream": "stdout",
       "text": [
        " complete\n",
        "cpu_621588868.csv\n",
        "cpu_621588868.csv"
       ]
      },
      {
       "output_type": "stream",
       "stream": "stdout",
       "text": [
        " complete\n",
        "cpu_6567274.csv\n",
        "cpu_6567274.csv"
       ]
      },
      {
       "output_type": "stream",
       "stream": "stdout",
       "text": [
        " complete\n",
        "cpu_6567284.csv\n",
        "cpu_6567284.csv"
       ]
      },
      {
       "output_type": "stream",
       "stream": "stdout",
       "text": [
        " complete\n",
        "cpu_6570572.csv\n",
        "cpu_6570572.csv"
       ]
      },
      {
       "output_type": "stream",
       "stream": "stdout",
       "text": [
        " complete\n",
        "cpu_660404.csv\n",
        "cpu_660404.csv"
       ]
      },
      {
       "output_type": "stream",
       "stream": "stdout",
       "text": [
        " complete\n",
        "cpu_6608763.csv\n",
        "cpu_6608763.csv"
       ]
      },
      {
       "output_type": "stream",
       "stream": "stdout",
       "text": [
        " complete\n",
        "cpu_662205.csv\n",
        "cpu_662205.csv"
       ]
      },
      {
       "output_type": "stream",
       "stream": "stdout",
       "text": [
        " complete\n",
        "cpu_6640087.csv\n",
        "cpu_6640087.csv"
       ]
      },
      {
       "output_type": "stream",
       "stream": "stdout",
       "text": [
        " complete\n",
        "cpu_6640648.csv\n",
        "cpu_6640648.csv"
       ]
      },
      {
       "output_type": "stream",
       "stream": "stdout",
       "text": [
        " complete\n",
        "cpu_672515.csv\n",
        "cpu_672515.csv"
       ]
      },
      {
       "output_type": "stream",
       "stream": "stdout",
       "text": [
        " complete\n",
        "cpu_6955600.csv\n",
        "cpu_6955600.csv"
       ]
      },
      {
       "output_type": "stream",
       "stream": "stdout",
       "text": [
        " complete\n",
        "cpu_711355.csv\n",
        "cpu_711355.csv"
       ]
      },
      {
       "output_type": "stream",
       "stream": "stdout",
       "text": [
        " complete\n",
        "cpu_717319.csv\n",
        "cpu_717319.csv"
       ]
      },
      {
       "output_type": "stream",
       "stream": "stdout",
       "text": [
        " complete\n",
        "cpu_7753127.csv\n",
        "cpu_7753127.csv"
       ]
      },
      {
       "output_type": "stream",
       "stream": "stdout",
       "text": [
        " complete\n",
        "cpu_778602858.csv\n",
        "cpu_778602858.csv"
       ]
      },
      {
       "output_type": "stream",
       "stream": "stdout",
       "text": [
        " complete\n",
        "cpu_82732361.csv\n",
        "cpu_82732361.csv"
       ]
      },
      {
       "output_type": "stream",
       "stream": "stdout",
       "text": [
        " complete\n",
        "cpu_84847796.csv\n",
        "cpu_84847796.csv"
       ]
      },
      {
       "output_type": "stream",
       "stream": "stdout",
       "text": [
        " complete\n",
        "cpu_84899647.csv\n",
        "cpu_84899647.csv"
       ]
      },
      {
       "output_type": "stream",
       "stream": "stdout",
       "text": [
        " complete\n",
        "cpu_866746667.csv\n",
        "cpu_866746667.csv"
       ]
      },
      {
       "output_type": "stream",
       "stream": "stdout",
       "text": [
        " complete\n",
        "cpu_904514.csv\n",
        "cpu_904514.csv"
       ]
      },
      {
       "output_type": "stream",
       "stream": "stdout",
       "text": [
        " complete\n",
        "cpu_905062.csv\n",
        "cpu_905062.csv"
       ]
      },
      {
       "output_type": "stream",
       "stream": "stdout",
       "text": [
        " complete\n",
        "cpu_905814.csv\n",
        "cpu_905814.csv"
       ]
      },
      {
       "output_type": "stream",
       "stream": "stdout",
       "text": [
        " complete\n",
        "cpu_907812.csv\n",
        "cpu_907812.csv"
       ]
      },
      {
       "output_type": "stream",
       "stream": "stdout",
       "text": [
        " complete\n"
       ]
      }
     ],
     "prompt_number": 2
    },
    {
     "cell_type": "heading",
     "level": 3,
     "metadata": {},
     "source": [
      "Combine using average"
     ]
    },
    {
     "cell_type": "code",
     "collapsed": false,
     "input": [
      "files =  fileutils.getFilelist(\"D:/data/\"+TYPE)\n",
      "\n",
      "for f in files:\n",
      "    filename = f.split('/')[-1]\n",
      "    truevals = np.genfromtxt(\"d:/data/\"+TYPE+\"/\"+filename, delimiter=',',skip_header=1, usecols=(1))[:WINDOW+5340]\n",
      "    ar_fc = np.genfromtxt(\"d:/data/\"+TYPE+\"_ar_forecasts/\"+filename, delimiter=',', usecols=range(0,30)).ravel()\n",
      "    wavelet_fc = np.genfromtxt(\"d:/data/\"+TYPE+\"_wavelet_forecasts/\"+filename, delimiter=',', usecols=range(0,30)).ravel()\n",
      "    fnn_fc = np.genfromtxt(\"d:/data/\"+TYPE+\"_fnn_forecasts/\"+filename, delimiter=',')\n",
      "    agile_fc = np.nan_to_num(np.genfromtxt(\"d:/data/\"+TYPE+\"_agile/\"+filename, delimiter=',',usecols=range(0,30))).ravel()\n",
      "    \n",
      "    combine_model = np.vstack((ar_fc, np.vstack((ma_fc, np.vstack((fnn_fc, agile_fc))))))\n",
      "    average_fc = np.average(combine_model, axis=0)\n",
      "    \n",
      "    fileutils.writeCSV(\"d:/data/\"+TYPE+\"_avg4/\"+filename, np.atleast_2d(average_fc))\n",
      "    print filename, \"complete\""
     ],
     "language": "python",
     "metadata": {},
     "outputs": [
      {
       "ename": "IOError",
       "evalue": "d:/data/cpu_ar_forecasts/cpu_1095481.csv not found.",
       "output_type": "pyerr",
       "traceback": [
        "\u001b[1;31m---------------------------------------------------------------------------\u001b[0m\n\u001b[1;31mIOError\u001b[0m                                   Traceback (most recent call last)",
        "\u001b[1;32m<ipython-input-2-a13f94abeadd>\u001b[0m in \u001b[0;36m<module>\u001b[1;34m()\u001b[0m\n\u001b[0;32m      4\u001b[0m     \u001b[0mfilename\u001b[0m \u001b[1;33m=\u001b[0m \u001b[0mf\u001b[0m\u001b[1;33m.\u001b[0m\u001b[0msplit\u001b[0m\u001b[1;33m(\u001b[0m\u001b[1;34m'/'\u001b[0m\u001b[1;33m)\u001b[0m\u001b[1;33m[\u001b[0m\u001b[1;33m-\u001b[0m\u001b[1;36m1\u001b[0m\u001b[1;33m]\u001b[0m\u001b[1;33m\u001b[0m\u001b[0m\n\u001b[0;32m      5\u001b[0m     \u001b[0mtruevals\u001b[0m \u001b[1;33m=\u001b[0m \u001b[0mnp\u001b[0m\u001b[1;33m.\u001b[0m\u001b[0mgenfromtxt\u001b[0m\u001b[1;33m(\u001b[0m\u001b[1;34m\"d:/data/\"\u001b[0m\u001b[1;33m+\u001b[0m\u001b[0mTYPE\u001b[0m\u001b[1;33m+\u001b[0m\u001b[1;34m\"/\"\u001b[0m\u001b[1;33m+\u001b[0m\u001b[0mfilename\u001b[0m\u001b[1;33m,\u001b[0m \u001b[0mdelimiter\u001b[0m\u001b[1;33m=\u001b[0m\u001b[1;34m','\u001b[0m\u001b[1;33m,\u001b[0m\u001b[0mskip_header\u001b[0m\u001b[1;33m=\u001b[0m\u001b[1;36m1\u001b[0m\u001b[1;33m,\u001b[0m \u001b[0musecols\u001b[0m\u001b[1;33m=\u001b[0m\u001b[1;33m(\u001b[0m\u001b[1;36m1\u001b[0m\u001b[1;33m)\u001b[0m\u001b[1;33m)\u001b[0m\u001b[1;33m[\u001b[0m\u001b[1;33m:\u001b[0m\u001b[0mWINDOW\u001b[0m\u001b[1;33m+\u001b[0m\u001b[1;36m5340\u001b[0m\u001b[1;33m]\u001b[0m\u001b[1;33m\u001b[0m\u001b[0m\n\u001b[1;32m----> 6\u001b[1;33m     \u001b[0mar_fc\u001b[0m \u001b[1;33m=\u001b[0m \u001b[0mnp\u001b[0m\u001b[1;33m.\u001b[0m\u001b[0mgenfromtxt\u001b[0m\u001b[1;33m(\u001b[0m\u001b[1;34m\"d:/data/\"\u001b[0m\u001b[1;33m+\u001b[0m\u001b[0mTYPE\u001b[0m\u001b[1;33m+\u001b[0m\u001b[1;34m\"_ar_forecasts/\"\u001b[0m\u001b[1;33m+\u001b[0m\u001b[0mfilename\u001b[0m\u001b[1;33m,\u001b[0m \u001b[0mdelimiter\u001b[0m\u001b[1;33m=\u001b[0m\u001b[1;34m','\u001b[0m\u001b[1;33m,\u001b[0m \u001b[0musecols\u001b[0m\u001b[1;33m=\u001b[0m\u001b[0mrange\u001b[0m\u001b[1;33m(\u001b[0m\u001b[1;36m0\u001b[0m\u001b[1;33m,\u001b[0m\u001b[1;36m30\u001b[0m\u001b[1;33m)\u001b[0m\u001b[1;33m)\u001b[0m\u001b[1;33m.\u001b[0m\u001b[0mravel\u001b[0m\u001b[1;33m(\u001b[0m\u001b[1;33m)\u001b[0m\u001b[1;33m\u001b[0m\u001b[0m\n\u001b[0m\u001b[0;32m      7\u001b[0m     \u001b[0mwavelet_fc\u001b[0m \u001b[1;33m=\u001b[0m \u001b[0mnp\u001b[0m\u001b[1;33m.\u001b[0m\u001b[0mgenfromtxt\u001b[0m\u001b[1;33m(\u001b[0m\u001b[1;34m\"d:/data/\"\u001b[0m\u001b[1;33m+\u001b[0m\u001b[0mTYPE\u001b[0m\u001b[1;33m+\u001b[0m\u001b[1;34m\"_wavelet_forecasts/\"\u001b[0m\u001b[1;33m+\u001b[0m\u001b[0mfilename\u001b[0m\u001b[1;33m,\u001b[0m \u001b[0mdelimiter\u001b[0m\u001b[1;33m=\u001b[0m\u001b[1;34m','\u001b[0m\u001b[1;33m,\u001b[0m \u001b[0musecols\u001b[0m\u001b[1;33m=\u001b[0m\u001b[0mrange\u001b[0m\u001b[1;33m(\u001b[0m\u001b[1;36m0\u001b[0m\u001b[1;33m,\u001b[0m\u001b[1;36m30\u001b[0m\u001b[1;33m)\u001b[0m\u001b[1;33m)\u001b[0m\u001b[1;33m.\u001b[0m\u001b[0mravel\u001b[0m\u001b[1;33m(\u001b[0m\u001b[1;33m)\u001b[0m\u001b[1;33m\u001b[0m\u001b[0m\n\u001b[0;32m      8\u001b[0m     \u001b[0mfnn_fc\u001b[0m \u001b[1;33m=\u001b[0m \u001b[0mnp\u001b[0m\u001b[1;33m.\u001b[0m\u001b[0mgenfromtxt\u001b[0m\u001b[1;33m(\u001b[0m\u001b[1;34m\"d:/data/\"\u001b[0m\u001b[1;33m+\u001b[0m\u001b[0mTYPE\u001b[0m\u001b[1;33m+\u001b[0m\u001b[1;34m\"_fnn_forecasts/\"\u001b[0m\u001b[1;33m+\u001b[0m\u001b[0mfilename\u001b[0m\u001b[1;33m,\u001b[0m \u001b[0mdelimiter\u001b[0m\u001b[1;33m=\u001b[0m\u001b[1;34m','\u001b[0m\u001b[1;33m)\u001b[0m\u001b[1;33m\u001b[0m\u001b[0m\n",
        "\u001b[1;32mC:\\Utils\\Portable Python 2.7.6.1\\App\\lib\\site-packages\\numpy\\lib\\npyio.pyc\u001b[0m in \u001b[0;36mgenfromtxt\u001b[1;34m(fname, dtype, comments, delimiter, skiprows, skip_header, skip_footer, converters, missing, missing_values, filling_values, usecols, names, excludelist, deletechars, replace_space, autostrip, case_sensitive, defaultfmt, unpack, usemask, loose, invalid_raise)\u001b[0m\n\u001b[0;32m   1342\u001b[0m         \u001b[1;32mif\u001b[0m \u001b[0misinstance\u001b[0m\u001b[1;33m(\u001b[0m\u001b[0mfname\u001b[0m\u001b[1;33m,\u001b[0m \u001b[0mbasestring\u001b[0m\u001b[1;33m)\u001b[0m\u001b[1;33m:\u001b[0m\u001b[1;33m\u001b[0m\u001b[0m\n\u001b[0;32m   1343\u001b[0m             \u001b[1;32mif\u001b[0m \u001b[0msys\u001b[0m\u001b[1;33m.\u001b[0m\u001b[0mversion_info\u001b[0m\u001b[1;33m[\u001b[0m\u001b[1;36m0\u001b[0m\u001b[1;33m]\u001b[0m \u001b[1;33m==\u001b[0m \u001b[1;36m2\u001b[0m\u001b[1;33m:\u001b[0m\u001b[1;33m\u001b[0m\u001b[0m\n\u001b[1;32m-> 1344\u001b[1;33m                 \u001b[0mfhd\u001b[0m \u001b[1;33m=\u001b[0m \u001b[0miter\u001b[0m\u001b[1;33m(\u001b[0m\u001b[0mnp\u001b[0m\u001b[1;33m.\u001b[0m\u001b[0mlib\u001b[0m\u001b[1;33m.\u001b[0m\u001b[0m_datasource\u001b[0m\u001b[1;33m.\u001b[0m\u001b[0mopen\u001b[0m\u001b[1;33m(\u001b[0m\u001b[0mfname\u001b[0m\u001b[1;33m,\u001b[0m \u001b[1;34m'rbU'\u001b[0m\u001b[1;33m)\u001b[0m\u001b[1;33m)\u001b[0m\u001b[1;33m\u001b[0m\u001b[0m\n\u001b[0m\u001b[0;32m   1345\u001b[0m             \u001b[1;32melse\u001b[0m\u001b[1;33m:\u001b[0m\u001b[1;33m\u001b[0m\u001b[0m\n\u001b[0;32m   1346\u001b[0m                 \u001b[0mfhd\u001b[0m \u001b[1;33m=\u001b[0m \u001b[0miter\u001b[0m\u001b[1;33m(\u001b[0m\u001b[0mnp\u001b[0m\u001b[1;33m.\u001b[0m\u001b[0mlib\u001b[0m\u001b[1;33m.\u001b[0m\u001b[0m_datasource\u001b[0m\u001b[1;33m.\u001b[0m\u001b[0mopen\u001b[0m\u001b[1;33m(\u001b[0m\u001b[0mfname\u001b[0m\u001b[1;33m,\u001b[0m \u001b[1;34m'rb'\u001b[0m\u001b[1;33m)\u001b[0m\u001b[1;33m)\u001b[0m\u001b[1;33m\u001b[0m\u001b[0m\n",
        "\u001b[1;32mC:\\Utils\\Portable Python 2.7.6.1\\App\\lib\\site-packages\\numpy\\lib\\_datasource.pyc\u001b[0m in \u001b[0;36mopen\u001b[1;34m(path, mode, destpath)\u001b[0m\n\u001b[0;32m    145\u001b[0m \u001b[1;33m\u001b[0m\u001b[0m\n\u001b[0;32m    146\u001b[0m     \u001b[0mds\u001b[0m \u001b[1;33m=\u001b[0m \u001b[0mDataSource\u001b[0m\u001b[1;33m(\u001b[0m\u001b[0mdestpath\u001b[0m\u001b[1;33m)\u001b[0m\u001b[1;33m\u001b[0m\u001b[0m\n\u001b[1;32m--> 147\u001b[1;33m     \u001b[1;32mreturn\u001b[0m \u001b[0mds\u001b[0m\u001b[1;33m.\u001b[0m\u001b[0mopen\u001b[0m\u001b[1;33m(\u001b[0m\u001b[0mpath\u001b[0m\u001b[1;33m,\u001b[0m \u001b[0mmode\u001b[0m\u001b[1;33m)\u001b[0m\u001b[1;33m\u001b[0m\u001b[0m\n\u001b[0m\u001b[0;32m    148\u001b[0m \u001b[1;33m\u001b[0m\u001b[0m\n\u001b[0;32m    149\u001b[0m \u001b[1;33m\u001b[0m\u001b[0m\n",
        "\u001b[1;32mC:\\Utils\\Portable Python 2.7.6.1\\App\\lib\\site-packages\\numpy\\lib\\_datasource.pyc\u001b[0m in \u001b[0;36mopen\u001b[1;34m(self, path, mode)\u001b[0m\n\u001b[0;32m    494\u001b[0m             \u001b[1;32mreturn\u001b[0m \u001b[0m_file_openers\u001b[0m\u001b[1;33m[\u001b[0m\u001b[0mext\u001b[0m\u001b[1;33m]\u001b[0m\u001b[1;33m(\u001b[0m\u001b[0mfound\u001b[0m\u001b[1;33m,\u001b[0m \u001b[0mmode\u001b[0m\u001b[1;33m=\u001b[0m\u001b[0mmode\u001b[0m\u001b[1;33m)\u001b[0m\u001b[1;33m\u001b[0m\u001b[0m\n\u001b[0;32m    495\u001b[0m         \u001b[1;32melse\u001b[0m\u001b[1;33m:\u001b[0m\u001b[1;33m\u001b[0m\u001b[0m\n\u001b[1;32m--> 496\u001b[1;33m             \u001b[1;32mraise\u001b[0m \u001b[0mIOError\u001b[0m\u001b[1;33m(\u001b[0m\u001b[1;34m\"%s not found.\"\u001b[0m \u001b[1;33m%\u001b[0m \u001b[0mpath\u001b[0m\u001b[1;33m)\u001b[0m\u001b[1;33m\u001b[0m\u001b[0m\n\u001b[0m\u001b[0;32m    497\u001b[0m \u001b[1;33m\u001b[0m\u001b[0m\n\u001b[0;32m    498\u001b[0m \u001b[1;33m\u001b[0m\u001b[0m\n",
        "\u001b[1;31mIOError\u001b[0m: d:/data/cpu_ar_forecasts/cpu_1095481.csv not found."
       ]
      }
     ],
     "prompt_number": 2
    },
    {
     "cell_type": "code",
     "collapsed": false,
     "input": [
      "combine_model = np.vstack((ar_fc, np.vstack((wavelet_fc, fnn_fc))))\n",
      "print combine_model.shape\n",
      "average_fc = np.average(combine_model, axis=0)\n",
      "print average_fc.shape"
     ],
     "language": "python",
     "metadata": {},
     "outputs": [
      {
       "output_type": "stream",
       "stream": "stdout",
       "text": [
        "(3, 5340)\n",
        "(5340,)\n"
       ]
      }
     ],
     "prompt_number": 4
    },
    {
     "cell_type": "code",
     "collapsed": false,
     "input": [
      "plt.figure(figsize=(12,8))\n",
      "plt.plot(truevals)\n",
      "plt.plot(range(WINDOW,WINDOW+len(average_fc)),average_fc, linewidth=1.5)"
     ],
     "language": "python",
     "metadata": {},
     "outputs": [
      {
       "metadata": {},
       "output_type": "pyout",
       "prompt_number": 5,
       "text": [
        "[<matplotlib.lines.Line2D at 0x72815f0>]"
       ]
      },
      {
       "metadata": {},
       "output_type": "display_data",
       "png": "[encoded data removed]",
       "text": [
        "<matplotlib.figure.Figure at 0x6deb070>"
       ]
      }
     ],
     "prompt_number": 5
    },
    {
     "cell_type": "code",
     "collapsed": false,
     "input": [
      "training = SupervisedDataSet(3, 1)\n",
      "\n",
      "for i in range(30):\n",
      "    training.appendLinked([ar_fc[i], wavelet_fc[i], fnn_fc[i]], truevals[i+WINDOW])"
     ],
     "language": "python",
     "metadata": {},
     "outputs": [],
     "prompt_number": 6
    },
    {
     "cell_type": "code",
     "collapsed": false,
     "input": [
      "besterr = eval.calc_RMSE(truevals[WINDOW:WINDOW+30], average_fc[:30])*.9\n",
      "bestNet = None\n",
      "print \"Best error: \" , besterr\n",
      "for i in range(10):\n",
      "    net = buildNetwork(3, 1, 1, hiddenclass=LinearLayer, bias=False)\n",
      "    trainer = BackpropTrainer(net, training, shuffle=False)\n",
      "    trainer.trainEpochs(150)\n",
      "    \n",
      "    err = eval.calc_RMSE(truevals[WINDOW:WINDOW+30], net.activateOnDataset(training))\n",
      "    print err\n",
      "    if err <= besterr:\n",
      "        bestNet = net\n",
      "        break\n",
      "    \n",
      "if bestNet == None:\n",
      "    bestNet = net\n",
      "combo_fc = []\n",
      "for i in range(30, len(ar_fc)):\n",
      "    combo_fc.append(bestNet.activate([ar_fc[i], wavelet_fc[i], fnn_fc[i]])[0])\n",
      "    \n",
      "    \n",
      "plt.figure(figsize=(12,8))\n",
      "plt.plot(truevals)\n",
      "plt.plot(range(WINDOW+30,WINDOW+30+len(combo_fc)), combo_fc, linewidth=1.5)\n",
      "print \"Average\"\n",
      "eval.calc_RMSE(truevals[WINDOW:WINDOW  + len(average_fc)], average_fc, print_=True)\n",
      "print \"Network\"\n",
      "eval.calc_RMSE(truevals[WINDOW:WINDOW + len(combo_fc)], combo_fc, print_=True)"
     ],
     "language": "python",
     "metadata": {},
     "outputs": [
      {
       "output_type": "stream",
       "stream": "stdout",
       "text": [
        "Best error:  0.0965225665456\n",
        "0.100082420105"
       ]
      },
      {
       "output_type": "stream",
       "stream": "stdout",
       "text": [
        "\n",
        "0.10881527716"
       ]
      },
      {
       "output_type": "stream",
       "stream": "stdout",
       "text": [
        "\n",
        "0.0956850596635"
       ]
      },
      {
       "output_type": "stream",
       "stream": "stdout",
       "text": [
        "\n",
        "Average"
       ]
      },
      {
       "output_type": "stream",
       "stream": "stdout",
       "text": [
        "\n",
        "RMSE =  0.0756657942948\n",
        "Network\n",
        "RMSE =  0.0680626561727\n"
       ]
      },
      {
       "metadata": {},
       "output_type": "pyout",
       "prompt_number": 35,
       "text": [
        "0.068062656172674513"
       ]
      },
      {
       "metadata": {},
       "output_type": "display_data",
       "png": "[encoded data removed]",
       "text": [
        "<matplotlib.figure.Figure at 0x86e5e10>"
       ]
      }
     ],
     "prompt_number": 35
    },
    {
     "cell_type": "code",
     "collapsed": false,
     "input": [
      "print bestNet.params"
     ],
     "language": "python",
     "metadata": {},
     "outputs": [
      {
       "output_type": "stream",
       "stream": "stdout",
       "text": [
        "[-1.33488471  0.46410916 -0.13597013 -1.19210584]\n"
       ]
      }
     ],
     "prompt_number": 29
    },
    {
     "cell_type": "code",
     "collapsed": false,
     "input": [
      "plt.plot(truevals[WINDOW:WINDOW+30])\n",
      "plt.plot(average_fc[:30])\n",
      "plt.plot(combo_fc[:30])"
     ],
     "language": "python",
     "metadata": {},
     "outputs": [
      {
       "metadata": {},
       "output_type": "pyout",
       "prompt_number": 30,
       "text": [
        "[<matplotlib.lines.Line2D at 0x728a6b0>]"
       ]
      },
      {
       "metadata": {},
       "output_type": "display_data",
       "png": "[encoded data removed]",
       "text": [
        "<matplotlib.figure.Figure at 0x9774d50>"
       ]
      }
     ],
     "prompt_number": 30
    }
   ],
   "metadata": {}
  }
 ]
}