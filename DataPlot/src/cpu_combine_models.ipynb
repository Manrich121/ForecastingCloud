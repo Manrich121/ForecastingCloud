{
 "metadata": {
  "name": "",
  "signature": "sha256:2774eeb76d73ecc72a4e82c32b8ba006535bda01e92222e13006fe861cfb6e58"
 },
 "nbformat": 3,
 "nbformat_minor": 0,
 "worksheets": [
  {
   "cells": [
    {
     "cell_type": "code",
     "collapsed": false,
     "input": [
      "%matplotlib inline\n",
      "# from __future__ import print_function\n",
      "\n",
      "import numpy as np\n",
      "import scipy\n",
      "from matplotlib import pyplot as plt\n",
      "import evaluation as eval\n",
      "import fileutils\n",
      "\n",
      "from pybrain.datasets import SupervisedDataSet\n",
      "from pybrain.tools.shortcuts import buildNetwork\n",
      "from pybrain.supervised.trainers import BackpropTrainer\n",
      "from pybrain.structure.modules import SigmoidLayer\n",
      "\n",
      "FILENAME = \"cpu_5782232\"\n",
      "WINDOW = 3000"
     ],
     "language": "python",
     "metadata": {},
     "outputs": [],
     "prompt_number": 1
    },
    {
     "cell_type": "code",
     "collapsed": false,
     "input": [
      "files =  fileutils.getFilelist(\"D:/data/cpuRate\")\n",
      "\n",
      "for f in files:\n",
      "    filename = f.split('/')[-1]\n",
      "    print filename\n",
      "    truevals = np.genfromtxt(\"d:/data/cpuRate/\"+filename, delimiter=',',skip_header=1, usecols=(1))[:WINDOW+5340]\n",
      "    ar_fc = np.genfromtxt(\"d:/data/cpu_ar_forecasts/\"+filename, delimiter=',', usecols=range(0,30)).ravel()\n",
      "    wavelet_fc = np.genfromtxt(\"d:/data/cpu_wavelet_forecasts/\"+filename, delimiter=',', usecols=range(0,30)).ravel()\n",
      "    fnn_fc = np.genfromtxt(\"d:/data/cpu_fnn_forecasts/\"+filename, delimiter=',')\n",
      "    \n",
      "    combine_model = np.vstack((ar_fc, np.vstack((wavelet_fc, fnn_fc))))\n",
      "    average_fc = np.average(combine_model, axis=0)\n",
      "    \n",
      "    fileutils.writeCSV(\"d:/data/cpu_combo_forecasts/\"+filename, np.atleast_2d(average_fc))\n",
      "    print filename, \"complete\""
     ],
     "language": "python",
     "metadata": {},
     "outputs": [
      {
       "output_type": "stream",
       "stream": "stdout",
       "text": [
        "cpu_1095481.csv\n",
        "cpu_1095481.csv"
       ]
      },
      {
       "output_type": "stream",
       "stream": "stdout",
       "text": [
        " complete\n",
        "cpu_124596184.csv\n",
        "cpu_124596184.csv"
       ]
      },
      {
       "output_type": "stream",
       "stream": "stdout",
       "text": [
        " complete\n",
        "cpu_1268205.csv\n",
        "cpu_1268205.csv"
       ]
      },
      {
       "output_type": "stream",
       "stream": "stdout",
       "text": [
        " complete\n",
        "cpu_1269048.csv\n",
        "cpu_1269048.csv"
       ]
      },
      {
       "output_type": "stream",
       "stream": "stdout",
       "text": [
        " complete\n",
        "cpu_1301871.csv\n",
        "cpu_1301871.csv"
       ]
      },
      {
       "output_type": "stream",
       "stream": "stdout",
       "text": [
        " complete\n",
        "cpu_1303745.csv\n",
        "cpu_1303745.csv"
       ]
      },
      {
       "output_type": "stream",
       "stream": "stdout",
       "text": [
        " complete\n",
        "cpu_1331706.csv\n",
        "cpu_1331706.csv"
       ]
      },
      {
       "output_type": "stream",
       "stream": "stdout",
       "text": [
        " complete\n",
        "cpu_1335648.csv\n",
        "cpu_1335648.csv"
       ]
      },
      {
       "output_type": "stream",
       "stream": "stdout",
       "text": [
        " complete\n",
        "cpu_1335782.csv\n",
        "cpu_1335782.csv"
       ]
      },
      {
       "output_type": "stream",
       "stream": "stdout",
       "text": [
        " complete\n",
        "cpu_1338948.csv\n",
        "cpu_1338948.csv"
       ]
      },
      {
       "output_type": "stream",
       "stream": "stdout",
       "text": [
        " complete\n",
        "cpu_1436348411.csv\n",
        "cpu_1436348411.csv"
       ]
      },
      {
       "output_type": "stream",
       "stream": "stdout",
       "text": [
        " complete\n",
        "cpu_1437072475.csv\n",
        "cpu_1437072475.csv"
       ]
      },
      {
       "output_type": "stream",
       "stream": "stdout",
       "text": [
        " complete\n",
        "cpu_1439356567.csv\n",
        "cpu_1439356567.csv"
       ]
      },
      {
       "output_type": "stream",
       "stream": "stdout",
       "text": [
        " complete\n",
        "cpu_1442486585.csv\n",
        "cpu_1442486585.csv"
       ]
      },
      {
       "output_type": "stream",
       "stream": "stdout",
       "text": [
        " complete\n",
        "cpu_155313295.csv\n",
        "cpu_155313295.csv"
       ]
      },
      {
       "output_type": "stream",
       "stream": "stdout",
       "text": [
        " complete\n",
        "cpu_1664088958.csv\n",
        "cpu_1664088958.csv"
       ]
      },
      {
       "output_type": "stream",
       "stream": "stdout",
       "text": [
        " complete\n",
        "cpu_167553463.csv\n",
        "cpu_167553463.csv"
       ]
      },
      {
       "output_type": "stream",
       "stream": "stdout",
       "text": [
        " complete\n",
        "cpu_16915982.csv\n",
        "cpu_16915982.csv"
       ]
      },
      {
       "output_type": "stream",
       "stream": "stdout",
       "text": [
        " complete\n",
        "cpu_1695367.csv\n",
        "cpu_1695367.csv"
       ]
      },
      {
       "output_type": "stream",
       "stream": "stdout",
       "text": [
        " complete\n",
        "cpu_2055507446.csv\n",
        "cpu_2055507446.csv"
       ]
      },
      {
       "output_type": "stream",
       "stream": "stdout",
       "text": [
        " complete\n",
        "cpu_2055737168.csv\n",
        "cpu_2055737168.csv"
       ]
      },
      {
       "output_type": "stream",
       "stream": "stdout",
       "text": [
        " complete\n",
        "cpu_227414872.csv\n",
        "cpu_227414872.csv"
       ]
      },
      {
       "output_type": "stream",
       "stream": "stdout",
       "text": [
        " complete\n",
        "cpu_2274895763.csv\n",
        "cpu_2274895763.csv"
       ]
      },
      {
       "output_type": "stream",
       "stream": "stdout",
       "text": [
        " complete\n",
        "cpu_2549393774.csv\n",
        "cpu_2549393774.csv"
       ]
      },
      {
       "output_type": "stream",
       "stream": "stdout",
       "text": [
        " complete\n",
        "cpu_257348783.csv\n",
        "cpu_257348783.csv"
       ]
      },
      {
       "output_type": "stream",
       "stream": "stdout",
       "text": [
        " complete\n",
        "cpu_257395954.csv\n",
        "cpu_257395954.csv"
       ]
      },
      {
       "output_type": "stream",
       "stream": "stdout",
       "text": [
        " complete\n",
        "cpu_2595183881.csv\n",
        "cpu_2595183881.csv"
       ]
      },
      {
       "output_type": "stream",
       "stream": "stdout",
       "text": [
        " complete\n",
        "cpu_2912464652.csv\n",
        "cpu_2912464652.csv"
       ]
      },
      {
       "output_type": "stream",
       "stream": "stdout",
       "text": [
        " complete\n",
        "cpu_294771706.csv\n",
        "cpu_294771706.csv"
       ]
      },
      {
       "output_type": "stream",
       "stream": "stdout",
       "text": [
        " complete\n",
        "cpu_294887209.csv\n",
        "cpu_294887209.csv"
       ]
      },
      {
       "output_type": "stream",
       "stream": "stdout",
       "text": [
        " complete\n",
        "cpu_294973335.csv\n",
        "cpu_294973335.csv"
       ]
      },
      {
       "output_type": "stream",
       "stream": "stdout",
       "text": [
        " complete\n",
        "cpu_317488701.csv\n",
        "cpu_317488701.csv"
       ]
      },
      {
       "output_type": "stream",
       "stream": "stdout",
       "text": [
        " complete\n",
        "cpu_317499484.csv\n",
        "cpu_317499484.csv"
       ]
      },
      {
       "output_type": "stream",
       "stream": "stdout",
       "text": [
        " complete\n",
        "cpu_318418982.csv\n",
        "cpu_318418982.csv"
       ]
      },
      {
       "output_type": "stream",
       "stream": "stdout",
       "text": [
        " complete\n",
        "cpu_323143631.csv\n",
        "cpu_323143631.csv"
       ]
      },
      {
       "output_type": "stream",
       "stream": "stdout",
       "text": [
        " complete\n",
        "cpu_3233542229.csv\n",
        "cpu_3233542229.csv"
       ]
      },
      {
       "output_type": "stream",
       "stream": "stdout",
       "text": [
        " complete\n",
        "cpu_329144835.csv\n",
        "cpu_329144835.csv"
       ]
      },
      {
       "output_type": "stream",
       "stream": "stdout",
       "text": [
        " complete\n",
        "cpu_329150663.csv\n",
        "cpu_329150663.csv"
       ]
      },
      {
       "output_type": "stream",
       "stream": "stdout",
       "text": [
        " complete\n",
        "cpu_3349189108.csv\n",
        "cpu_3349189108.csv"
       ]
      },
      {
       "output_type": "stream",
       "stream": "stdout",
       "text": [
        " complete\n",
        "cpu_336021545.csv\n",
        "cpu_336021545.csv"
       ]
      },
      {
       "output_type": "stream",
       "stream": "stdout",
       "text": [
        " complete\n",
        "cpu_336025676.csv\n",
        "cpu_336025676.csv"
       ]
      },
      {
       "output_type": "stream",
       "stream": "stdout",
       "text": [
        " complete\n",
        "cpu_336030391.csv\n",
        "cpu_336030391.csv"
       ]
      },
      {
       "output_type": "stream",
       "stream": "stdout",
       "text": [
        " complete\n",
        "cpu_336036882.csv\n",
        "cpu_336036882.csv"
       ]
      },
      {
       "output_type": "stream",
       "stream": "stdout",
       "text": [
        " complete\n",
        "cpu_336045945.csv\n",
        "cpu_336045945.csv"
       ]
      },
      {
       "output_type": "stream",
       "stream": "stdout",
       "text": [
        " complete\n",
        "cpu_336055347.csv\n",
        "cpu_336055347.csv"
       ]
      },
      {
       "output_type": "stream",
       "stream": "stdout",
       "text": [
        " complete\n",
        "cpu_3405236527.csv\n",
        "cpu_3405236527.csv"
       ]
      },
      {
       "output_type": "stream",
       "stream": "stdout",
       "text": [
        " complete\n",
        "cpu_344595418.csv\n",
        "cpu_344595418.csv"
       ]
      },
      {
       "output_type": "stream",
       "stream": "stdout",
       "text": [
        " complete\n",
        "cpu_348769060.csv\n",
        "cpu_348769060.csv"
       ]
      },
      {
       "output_type": "stream",
       "stream": "stdout",
       "text": [
        " complete\n",
        "cpu_351618647.csv\n",
        "cpu_351618647.csv"
       ]
      },
      {
       "output_type": "stream",
       "stream": "stdout",
       "text": [
        " complete\n",
        "cpu_351621284.csv\n",
        "cpu_351621284.csv"
       ]
      },
      {
       "output_type": "stream",
       "stream": "stdout",
       "text": [
        " complete\n",
        "cpu_351635981.csv\n",
        "cpu_351635981.csv"
       ]
      },
      {
       "output_type": "stream",
       "stream": "stdout",
       "text": [
        " complete\n",
        "cpu_3550322224.csv\n",
        "cpu_3550322224.csv"
       ]
      },
      {
       "output_type": "stream",
       "stream": "stdout",
       "text": [
        " complete\n",
        "cpu_376211539.csv\n",
        "cpu_376211539.csv"
       ]
      },
      {
       "output_type": "stream",
       "stream": "stdout",
       "text": [
        " complete\n",
        "cpu_376751173.csv\n",
        "cpu_376751173.csv"
       ]
      },
      {
       "output_type": "stream",
       "stream": "stdout",
       "text": [
        " complete\n",
        "cpu_3858945898.csv\n",
        "cpu_3858945898.csv"
       ]
      },
      {
       "output_type": "stream",
       "stream": "stdout",
       "text": [
        " complete\n",
        "cpu_38655581.csv\n",
        "cpu_38655581.csv"
       ]
      },
      {
       "output_type": "stream",
       "stream": "stdout",
       "text": [
        " complete\n",
        "cpu_3894543095.csv\n",
        "cpu_3894543095.csv"
       ]
      },
      {
       "output_type": "stream",
       "stream": "stdout",
       "text": [
        " complete\n",
        "cpu_3938719206.csv\n",
        "cpu_3938719206.csv"
       ]
      },
      {
       "output_type": "stream",
       "stream": "stdout",
       "text": [
        " complete\n",
        "cpu_3938826162.csv\n",
        "cpu_3938826162.csv"
       ]
      },
      {
       "output_type": "stream",
       "stream": "stdout",
       "text": [
        " complete\n",
        "cpu_410058079.csv\n",
        "cpu_410058079.csv"
       ]
      },
      {
       "output_type": "stream",
       "stream": "stdout",
       "text": [
        " complete\n",
        "cpu_4155527081.csv\n",
        "cpu_4155527081.csv"
       ]
      },
      {
       "output_type": "stream",
       "stream": "stdout",
       "text": [
        " complete\n",
        "cpu_4217136868.csv\n",
        "cpu_4217136868.csv"
       ]
      },
      {
       "output_type": "stream",
       "stream": "stdout",
       "text": [
        " complete\n",
        "cpu_4304743890.csv\n",
        "cpu_4304743890.csv"
       ]
      },
      {
       "output_type": "stream",
       "stream": "stdout",
       "text": [
        " complete\n",
        "cpu_431038861.csv\n",
        "cpu_431038861.csv"
       ]
      },
      {
       "output_type": "stream",
       "stream": "stdout",
       "text": [
        " complete\n",
        "cpu_431052910.csv\n",
        "cpu_431052910.csv"
       ]
      },
      {
       "output_type": "stream",
       "stream": "stdout",
       "text": [
        " complete\n",
        "cpu_431081448.csv\n",
        "cpu_431081448.csv"
       ]
      },
      {
       "output_type": "stream",
       "stream": "stdout",
       "text": [
        " complete\n",
        "cpu_4469213375.csv\n",
        "cpu_4469213375.csv"
       ]
      },
      {
       "output_type": "stream",
       "stream": "stdout",
       "text": [
        " complete\n",
        "cpu_4469371300.csv\n",
        "cpu_4469371300.csv"
       ]
      },
      {
       "output_type": "stream",
       "stream": "stdout",
       "text": [
        " complete\n",
        "cpu_4802475358.csv\n",
        "cpu_4802475358.csv"
       ]
      },
      {
       "output_type": "stream",
       "stream": "stdout",
       "text": [
        " complete\n",
        "cpu_4815459946.csv\n",
        "cpu_4815459946.csv"
       ]
      },
      {
       "output_type": "stream",
       "stream": "stdout",
       "text": [
        " complete\n",
        "cpu_4820238819.csv\n",
        "cpu_4820238819.csv"
       ]
      },
      {
       "output_type": "stream",
       "stream": "stdout",
       "text": [
        " complete\n",
        "cpu_564444639.csv\n",
        "cpu_564444639.csv"
       ]
      },
      {
       "output_type": "stream",
       "stream": "stdout",
       "text": [
        " complete\n",
        "cpu_5655258253.csv\n",
        "cpu_5655258253.csv"
       ]
      },
      {
       "output_type": "stream",
       "stream": "stdout",
       "text": [
        " complete\n",
        "cpu_5656207113.csv\n",
        "cpu_5656207113.csv"
       ]
      },
      {
       "output_type": "stream",
       "stream": "stdout",
       "text": [
        " complete\n",
        "cpu_5781488.csv\n",
        "cpu_5781488.csv"
       ]
      },
      {
       "output_type": "stream",
       "stream": "stdout",
       "text": [
        " complete\n",
        "cpu_5782232.csv\n",
        "cpu_5782232.csv"
       ]
      },
      {
       "output_type": "stream",
       "stream": "stdout",
       "text": [
        " complete\n",
        "cpu_5796442.csv\n",
        "cpu_5796442.csv"
       ]
      },
      {
       "output_type": "stream",
       "stream": "stdout",
       "text": [
        " complete\n",
        "cpu_621588868.csv\n",
        "cpu_621588868.csv"
       ]
      },
      {
       "output_type": "stream",
       "stream": "stdout",
       "text": [
        " complete\n",
        "cpu_6567274.csv\n",
        "cpu_6567274.csv"
       ]
      },
      {
       "output_type": "stream",
       "stream": "stdout",
       "text": [
        " complete\n",
        "cpu_6567284.csv\n",
        "cpu_6567284.csv"
       ]
      },
      {
       "output_type": "stream",
       "stream": "stdout",
       "text": [
        " complete\n",
        "cpu_6570572.csv\n",
        "cpu_6570572.csv"
       ]
      },
      {
       "output_type": "stream",
       "stream": "stdout",
       "text": [
        " complete\n",
        "cpu_660404.csv\n",
        "cpu_660404.csv"
       ]
      },
      {
       "output_type": "stream",
       "stream": "stdout",
       "text": [
        " complete\n",
        "cpu_6608763.csv\n",
        "cpu_6608763.csv"
       ]
      },
      {
       "output_type": "stream",
       "stream": "stdout",
       "text": [
        " complete\n",
        "cpu_662205.csv\n",
        "cpu_662205.csv"
       ]
      },
      {
       "output_type": "stream",
       "stream": "stdout",
       "text": [
        " complete\n",
        "cpu_6640087.csv\n",
        "cpu_6640087.csv"
       ]
      },
      {
       "output_type": "stream",
       "stream": "stdout",
       "text": [
        " complete\n",
        "cpu_6640648.csv\n",
        "cpu_6640648.csv"
       ]
      },
      {
       "output_type": "stream",
       "stream": "stdout",
       "text": [
        " complete\n",
        "cpu_672515.csv\n",
        "cpu_672515.csv"
       ]
      },
      {
       "output_type": "stream",
       "stream": "stdout",
       "text": [
        " complete\n",
        "cpu_6955600.csv\n",
        "cpu_6955600.csv"
       ]
      },
      {
       "output_type": "stream",
       "stream": "stdout",
       "text": [
        " complete\n",
        "cpu_711355.csv\n",
        "cpu_711355.csv"
       ]
      },
      {
       "output_type": "stream",
       "stream": "stdout",
       "text": [
        " complete\n",
        "cpu_717319.csv\n",
        "cpu_717319.csv"
       ]
      },
      {
       "output_type": "stream",
       "stream": "stdout",
       "text": [
        " complete\n",
        "cpu_7753127.csv\n",
        "cpu_7753127.csv"
       ]
      },
      {
       "output_type": "stream",
       "stream": "stdout",
       "text": [
        " complete\n",
        "cpu_778602858.csv\n",
        "cpu_778602858.csv"
       ]
      },
      {
       "output_type": "stream",
       "stream": "stdout",
       "text": [
        " complete\n",
        "cpu_82732361.csv\n",
        "cpu_82732361.csv"
       ]
      },
      {
       "output_type": "stream",
       "stream": "stdout",
       "text": [
        " complete\n",
        "cpu_84847796.csv\n",
        "cpu_84847796.csv"
       ]
      },
      {
       "output_type": "stream",
       "stream": "stdout",
       "text": [
        " complete\n",
        "cpu_84899647.csv\n",
        "cpu_84899647.csv"
       ]
      },
      {
       "output_type": "stream",
       "stream": "stdout",
       "text": [
        " complete\n",
        "cpu_866746667.csv\n",
        "cpu_866746667.csv"
       ]
      },
      {
       "output_type": "stream",
       "stream": "stdout",
       "text": [
        " complete\n",
        "cpu_904514.csv\n",
        "cpu_904514.csv"
       ]
      },
      {
       "output_type": "stream",
       "stream": "stdout",
       "text": [
        " complete\n",
        "cpu_905062.csv\n",
        "cpu_905062.csv"
       ]
      },
      {
       "output_type": "stream",
       "stream": "stdout",
       "text": [
        " complete\n",
        "cpu_905814.csv\n",
        "cpu_905814.csv"
       ]
      },
      {
       "output_type": "stream",
       "stream": "stdout",
       "text": [
        " complete\n",
        "cpu_907812.csv\n",
        "cpu_907812.csv"
       ]
      },
      {
       "output_type": "stream",
       "stream": "stdout",
       "text": [
        " complete\n"
       ]
      }
     ],
     "prompt_number": 2
    },
    {
     "cell_type": "code",
     "collapsed": false,
     "input": [
      "truevals = np.genfromtxt(\"d:/data/cpuRate/\"+FILENAME+\".csv\", delimiter=',',skip_header=1, usecols=(1))[:WINDOW+5340]\n",
      "ar_fc = np.genfromtxt(\"d:/data/cpu_ar_forecasts/\"+FILENAME+\".csv\", delimiter=',', usecols=range(0,30)).ravel()\n",
      "wavelet_fc = np.genfromtxt(\"d:/data/cpu_wavelet_forecasts/\"+FILENAME+\".csv\", delimiter=',', usecols=range(0,30)).ravel()\n",
      "fnn_fc = np.genfromtxt(\"d:/data/cpu_fnn_forecasts/\"+FILENAME+\".csv\", delimiter=',')"
     ],
     "language": "python",
     "metadata": {},
     "outputs": [],
     "prompt_number": 3
    },
    {
     "cell_type": "code",
     "collapsed": false,
     "input": [
      "plt.figure(figsize=(12,8))\n",
      "plt.plot(ar_fc)\n",
      "plt.plot(wavelet_fc)\n",
      "plt.plot(fnn_fc)"
     ],
     "language": "python",
     "metadata": {},
     "outputs": [
      {
       "metadata": {},
       "output_type": "pyout",
       "prompt_number": 4,
       "text": [
        "[<matplotlib.lines.Line2D at 0x69476d0>]"
       ]
      },
      {
       "metadata": {},
       "output_type": "display_data",
       "png": "[encoded data removed]",
       "text": [
        "<matplotlib.figure.Figure at 0x6944bf0>"
       ]
      }
     ],
     "prompt_number": 4
    },
    {
     "cell_type": "code",
     "collapsed": false,
     "input": [
      "combine_model = np.vstack((ar_fc, np.vstack((wavelet_fc, fnn_fc))))\n",
      "print combine_model.shape\n",
      "average_fc = np.average(combine_model, axis=0)\n",
      "print average_fc.shape"
     ],
     "language": "python",
     "metadata": {},
     "outputs": [
      {
       "output_type": "stream",
       "stream": "stdout",
       "text": [
        "(3, 5340)\n",
        "(5340,)\n"
       ]
      }
     ],
     "prompt_number": 5
    },
    {
     "cell_type": "code",
     "collapsed": false,
     "input": [
      "plt.figure(figsize=(12,8))\n",
      "plt.plot(truevals)\n",
      "plt.plot(range(WINDOW,WINDOW+len(average_fc)),average_fc)"
     ],
     "language": "python",
     "metadata": {},
     "outputs": [
      {
       "metadata": {},
       "output_type": "pyout",
       "prompt_number": 6,
       "text": [
        "[<matplotlib.lines.Line2D at 0x6d42f70>]"
       ]
      },
      {
       "metadata": {},
       "output_type": "display_data",
       "png": "[encoded data removed]",
       "text": [
        "<matplotlib.figure.Figure at 0x6e65410>"
       ]
      }
     ],
     "prompt_number": 6
    },
    {
     "cell_type": "heading",
     "level": 3,
     "metadata": {},
     "source": [
      "FNN used to combine forecasts from models"
     ]
    },
    {
     "cell_type": "code",
     "collapsed": false,
     "input": [
      "TRAIN = 1000\n",
      "VALID = 100\n",
      "TEST = 100\n",
      "INPUT_SIZE = 30\n",
      "train, valid, test = data[:TRAIN], data[TRAIN-INPUT_SIZE:TRAIN+VALID], data[TRAIN-INPUT_SIZE+VALID:TRAIN+VALID+TEST]"
     ],
     "language": "python",
     "metadata": {},
     "outputs": [
      {
       "ename": "NameError",
       "evalue": "name 'data' is not defined",
       "output_type": "pyerr",
       "traceback": [
        "\u001b[1;31m---------------------------------------------------------------------------\u001b[0m\n\u001b[1;31mNameError\u001b[0m                                 Traceback (most recent call last)",
        "\u001b[1;32m<ipython-input-6-f0a2c50bb21d>\u001b[0m in \u001b[0;36m<module>\u001b[1;34m()\u001b[0m\n\u001b[0;32m      3\u001b[0m \u001b[0mTEST\u001b[0m \u001b[1;33m=\u001b[0m \u001b[1;36m100\u001b[0m\u001b[1;33m\u001b[0m\u001b[0m\n\u001b[0;32m      4\u001b[0m \u001b[0mINPUT_SIZE\u001b[0m \u001b[1;33m=\u001b[0m \u001b[1;36m30\u001b[0m\u001b[1;33m\u001b[0m\u001b[0m\n\u001b[1;32m----> 5\u001b[1;33m \u001b[0mtrain\u001b[0m\u001b[1;33m,\u001b[0m \u001b[0mvalid\u001b[0m\u001b[1;33m,\u001b[0m \u001b[0mtest\u001b[0m \u001b[1;33m=\u001b[0m \u001b[0mdata\u001b[0m\u001b[1;33m[\u001b[0m\u001b[1;33m:\u001b[0m\u001b[0mTRAIN\u001b[0m\u001b[1;33m]\u001b[0m\u001b[1;33m,\u001b[0m \u001b[0mdata\u001b[0m\u001b[1;33m[\u001b[0m\u001b[0mTRAIN\u001b[0m\u001b[1;33m-\u001b[0m\u001b[0mINPUT_SIZE\u001b[0m\u001b[1;33m:\u001b[0m\u001b[0mTRAIN\u001b[0m\u001b[1;33m+\u001b[0m\u001b[0mVALID\u001b[0m\u001b[1;33m]\u001b[0m\u001b[1;33m,\u001b[0m \u001b[0mdata\u001b[0m\u001b[1;33m[\u001b[0m\u001b[0mTRAIN\u001b[0m\u001b[1;33m-\u001b[0m\u001b[0mINPUT_SIZE\u001b[0m\u001b[1;33m+\u001b[0m\u001b[0mVALID\u001b[0m\u001b[1;33m:\u001b[0m\u001b[0mTRAIN\u001b[0m\u001b[1;33m+\u001b[0m\u001b[0mVALID\u001b[0m\u001b[1;33m+\u001b[0m\u001b[0mTEST\u001b[0m\u001b[1;33m]\u001b[0m\u001b[1;33m\u001b[0m\u001b[0m\n\u001b[0m",
        "\u001b[1;31mNameError\u001b[0m: name 'data' is not defined"
       ]
      }
     ],
     "prompt_number": 6
    },
    {
     "cell_type": "code",
     "collapsed": false,
     "input": [
      "plt.plot(train)"
     ],
     "language": "python",
     "metadata": {},
     "outputs": []
    },
    {
     "cell_type": "code",
     "collapsed": false,
     "input": [
      "trainds = SupervisedDataSet(INPUT_SIZE, 1)\n",
      "testds = SupervisedDataSet(INPUT_SIZE, 1)\n",
      "validds = SupervisedDataSet(INPUT_SIZE, 1)\n",
      "\n",
      "for i in range(INPUT_SIZE,train.shape[0]):\n",
      "    trainds.appendLinked(train[i-INPUT_SIZE:i],train[i])\n",
      "\n",
      "for i in range(INPUT_SIZE,test.shape[0]):\n",
      "    testds.appendLinked(test[i-INPUT_SIZE:i],test[i])\n",
      "\n",
      "for i in range(INPUT_SIZE,valid.shape[0]):\n",
      "    validds.appendLinked(valid[i-INPUT_SIZE:i],valid[i])"
     ],
     "language": "python",
     "metadata": {},
     "outputs": []
    },
    {
     "cell_type": "code",
     "collapsed": false,
     "input": [
      "HIDDEN = [5, 10, 15, 20]\n",
      "ETA = [0.0001, 0.001, 0.01, 0.1]\n",
      "LAMDA = [0.0, 0.01, 0.1, 1.0]\n",
      "EPOCHS = 25\n"
     ],
     "language": "python",
     "metadata": {},
     "outputs": []
    },
    {
     "cell_type": "code",
     "collapsed": false,
     "input": [
      "nets = []\n",
      "rmse = []\n",
      "correct = []\n",
      "hyperparams = []\n",
      "truevals = validds['target']\n",
      "for hidden in HIDDEN:\n",
      "    for eta in ETA:\n",
      "        for lmda in LAMDA:\n",
      "            epoch = EPOCHS*-1.0*np.log10(eta)\n",
      "            print hidden, eta, lmda, epoch\n",
      "            hyperparams.append([hidden, eta, lmda, epoch])\n",
      "            net = buildNetwork(INPUT_SIZE, hidden, 1,  bias=True)\n",
      "            nets.append(net)\n",
      "            trainer = BackpropTrainer(net, trainds, learningrate=eta, weightdecay=lmda, shuffle=False)\n",
      "            trainer.trainUntilConvergence(maxEpochs=epoch, validationData=validds)\n",
      "            \n",
      "            pred = net.activateOnDataset(validds)\n",
      "            rmse.append(eval.calc_RMSE(truevals, pred, print_=True))\n",
      "            correct.append(eval.calc_upper_lower_acc(truevals, pred, print_=True))"
     ],
     "language": "python",
     "metadata": {},
     "outputs": []
    },
    {
     "cell_type": "code",
     "collapsed": false,
     "input": [
      "correct = np.array(correct).reshape(64,3)"
     ],
     "language": "python",
     "metadata": {},
     "outputs": []
    },
    {
     "cell_type": "code",
     "collapsed": false,
     "input": [
      "rmse_min_idx = np.argmin(rmse)\n",
      "print hyperparams[rmse_min_idx]\n",
      "print rmse[rmse_min_idx]\n",
      "print correct[rmse_min_idx,:]\n",
      "best_rmse_net = nets[rmse_min_idx]"
     ],
     "language": "python",
     "metadata": {},
     "outputs": []
    },
    {
     "cell_type": "code",
     "collapsed": false,
     "input": [
      "correct_max_idx= np.argmax(correct[:,0])\n",
      "print hyperparams[correct_max_idx]\n",
      "print rmse[correct_max_idx]\n",
      "print correct[correct_max_idx,:]\n",
      "best_correct_net = nets[correct_max_idx]"
     ],
     "language": "python",
     "metadata": {},
     "outputs": []
    },
    {
     "cell_type": "code",
     "collapsed": false,
     "input": [
      "# trainer = BackpropTrainer(ffnet, trainds, learningrate=0.0001, weightdecay=0.01, shuffle=False)\n",
      "# train_err, valid_err = trainer.trainUntilConvergence(maxEpochs=50, validationData=validds)"
     ],
     "language": "python",
     "metadata": {},
     "outputs": []
    },
    {
     "cell_type": "code",
     "collapsed": false,
     "input": [
      "# SPLIT = 10\n",
      "# plt.figure()\n",
      "# plt.plot(train_err[:SPLIT])\n",
      "# plt.plot(valid_err[:SPLIT])\n",
      "# plt.figure()\n",
      "# plt.plot(train_err[SPLIT:])\n",
      "# plt.plot(valid_err[SPLIT:])"
     ],
     "language": "python",
     "metadata": {},
     "outputs": []
    },
    {
     "cell_type": "heading",
     "level": 2,
     "metadata": {},
     "source": [
      "Training Predictions"
     ]
    },
    {
     "cell_type": "code",
     "collapsed": false,
     "input": [
      "pred = best_corret_net.activateOnDataset(trainds)\n",
      "truevals = trainds['target']\n",
      "eval.calc_RMSE(truevals, pred, print_=True)\n",
      "eval.calc_upper_lower_acc(truevals, pred, print_=True)\n",
      "\n",
      "plt.figure(figsize=(12,8))\n",
      "plt.plot(truevals[-100:])\n",
      "plt.plot(pred[-100:], '-o')"
     ],
     "language": "python",
     "metadata": {},
     "outputs": []
    },
    {
     "cell_type": "heading",
     "level": 2,
     "metadata": {},
     "source": [
      "Validation Predictions"
     ]
    },
    {
     "cell_type": "code",
     "collapsed": false,
     "input": [
      "pred = best_rmse_net.activateOnDataset(validds)\n",
      "truevals = validds['target']\n",
      "eval.calc_RMSE(truevals, pred, print_=True)\n",
      "eval.calc_upper_lower_acc(truevals, pred, print_=True)\n",
      "\n",
      "plt.figure(figsize=(12,8))\n",
      "plt.plot(truevals)\n",
      "plt.plot(pred, '-o')"
     ],
     "language": "python",
     "metadata": {},
     "outputs": []
    },
    {
     "cell_type": "heading",
     "level": 2,
     "metadata": {},
     "source": [
      "Testing Predictions"
     ]
    },
    {
     "cell_type": "code",
     "collapsed": false,
     "input": [
      "pred = best_rmse_net.activateOnDataset(testds)\n",
      "truevals = testds['target']\n",
      "eval.calc_RMSE(truevals, pred, print_=True)\n",
      "eval.calc_upper_lower_acc(truevals, pred, print_=True)\n",
      "\n",
      "plt.figure(figsize=(12,8))\n",
      "plt.plot(truevals)\n",
      "plt.plot(pred, '-o')"
     ],
     "language": "python",
     "metadata": {},
     "outputs": []
    },
    {
     "cell_type": "code",
     "collapsed": false,
     "input": [
      "# from pybrain.tools.customxml.networkwriter import NetworkWriter\n",
      "# NetworkWriter.writeToFile(best_rmse_net, 'cpu_905814.xml')"
     ],
     "language": "python",
     "metadata": {},
     "outputs": []
    }
   ],
   "metadata": {}
  }
 ]
}