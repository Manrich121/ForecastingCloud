{
 "metadata": {
  "name": "",
  "signature": "sha256:687fa1b39d77b777bca41c695e8dec3cd898bf3263d04fbda45862139f2789b3"
 },
 "nbformat": 3,
 "nbformat_minor": 0,
 "worksheets": [
  {
   "cells": [
    {
     "cell_type": "code",
     "collapsed": false,
     "input": [
      "%matplotlib inline\n",
      "# from __future__ import print_function\n",
      "\n",
      "import numpy as np\n",
      "import scipy\n",
      "from matplotlib import pyplot as plt\n",
      "import evaluation as eval\n",
      "import fileutils\n",
      "\n",
      "from pybrain.datasets import SupervisedDataSet\n",
      "from pybrain.tools.shortcuts import buildNetwork\n",
      "from pybrain.supervised.trainers import BackpropTrainer\n",
      "from pybrain.structure.modules import SigmoidLayer\n",
      "\n",
      "WINDOW = 3000\n",
      "TYPE = \"memory\"\n",
      "FILENAME = TYPE+\"_5782232\""
     ],
     "language": "python",
     "metadata": {},
     "outputs": [],
     "prompt_number": 1
    },
    {
     "cell_type": "code",
     "collapsed": false,
     "input": [
      "files =  fileutils.getFilelist(\"D:/data/\"+TYPE)\n",
      "\n",
      "for f in files:\n",
      "    filename = f.split('/')[-1]\n",
      "    truevals = np.genfromtxt(\"d:/data/\"+TYPE+\"/\"+filename, delimiter=',',skip_header=1, usecols=(1))[:WINDOW+5340]\n",
      "    ar_fc = np.genfromtxt(\"d:/data/\"+TYPE+\"_ar_forecasts/\"+filename, delimiter=',', usecols=range(0,30)).ravel()\n",
      "    wavelet_fc = np.genfromtxt(\"d:/data/\"+TYPE+\"_wavelet_forecasts/\"+filename, delimiter=',', usecols=range(0,30)).ravel()\n",
      "    fnn_fc = np.genfromtxt(\"d:/data/\"+TYPE+\"_fnn_forecasts/\"+filename, delimiter=',')\n",
      "    \n",
      "    combine_model = np.vstack((ar_fc, np.vstack((wavelet_fc, fnn_fc))))\n",
      "    average_fc = np.average(combine_model, axis=0)\n",
      "    \n",
      "    fileutils.writeCSV(\"d:/data/\"+TYPE+\"_combo_forecasts/\"+filename, np.atleast_2d(average_fc))\n",
      "    print filename, \"complete\""
     ],
     "language": "python",
     "metadata": {},
     "outputs": [
      {
       "output_type": "stream",
       "stream": "stdout",
       "text": [
        "memory_1095481.csv complete\n",
        "memory_124596184.csv"
       ]
      },
      {
       "output_type": "stream",
       "stream": "stdout",
       "text": [
        " complete\n",
        "memory_1268205.csv"
       ]
      },
      {
       "output_type": "stream",
       "stream": "stdout",
       "text": [
        " complete\n",
        "memory_1269048.csv"
       ]
      },
      {
       "output_type": "stream",
       "stream": "stdout",
       "text": [
        " complete\n",
        "memory_1301871.csv"
       ]
      },
      {
       "output_type": "stream",
       "stream": "stdout",
       "text": [
        " complete\n",
        "memory_1303745.csv"
       ]
      },
      {
       "output_type": "stream",
       "stream": "stdout",
       "text": [
        " complete\n",
        "memory_1331706.csv"
       ]
      },
      {
       "output_type": "stream",
       "stream": "stdout",
       "text": [
        " complete\n",
        "memory_1335648.csv"
       ]
      },
      {
       "output_type": "stream",
       "stream": "stdout",
       "text": [
        " complete\n",
        "memory_1335782.csv"
       ]
      },
      {
       "output_type": "stream",
       "stream": "stdout",
       "text": [
        " complete\n",
        "memory_1338948.csv"
       ]
      },
      {
       "output_type": "stream",
       "stream": "stdout",
       "text": [
        " complete\n",
        "memory_1436348411.csv"
       ]
      },
      {
       "output_type": "stream",
       "stream": "stdout",
       "text": [
        " complete\n",
        "memory_1437072475.csv"
       ]
      },
      {
       "output_type": "stream",
       "stream": "stdout",
       "text": [
        " complete\n",
        "memory_1439356567.csv"
       ]
      },
      {
       "output_type": "stream",
       "stream": "stdout",
       "text": [
        " complete\n",
        "memory_1442486585.csv"
       ]
      },
      {
       "output_type": "stream",
       "stream": "stdout",
       "text": [
        " complete\n",
        "memory_155313295.csv"
       ]
      },
      {
       "output_type": "stream",
       "stream": "stdout",
       "text": [
        " complete\n",
        "memory_1664088958.csv"
       ]
      },
      {
       "output_type": "stream",
       "stream": "stdout",
       "text": [
        " complete\n",
        "memory_167553463.csv"
       ]
      },
      {
       "output_type": "stream",
       "stream": "stdout",
       "text": [
        " complete\n",
        "memory_16915982.csv"
       ]
      },
      {
       "output_type": "stream",
       "stream": "stdout",
       "text": [
        " complete\n",
        "memory_1695367.csv"
       ]
      },
      {
       "output_type": "stream",
       "stream": "stdout",
       "text": [
        " complete\n",
        "memory_2055507446.csv"
       ]
      },
      {
       "output_type": "stream",
       "stream": "stdout",
       "text": [
        " complete\n",
        "memory_2055737168.csv"
       ]
      },
      {
       "output_type": "stream",
       "stream": "stdout",
       "text": [
        " complete\n",
        "memory_227414872.csv"
       ]
      },
      {
       "output_type": "stream",
       "stream": "stdout",
       "text": [
        " complete\n",
        "memory_2274895763.csv"
       ]
      },
      {
       "output_type": "stream",
       "stream": "stdout",
       "text": [
        " complete\n",
        "memory_2549393774.csv"
       ]
      },
      {
       "output_type": "stream",
       "stream": "stdout",
       "text": [
        " complete\n",
        "memory_257348783.csv"
       ]
      },
      {
       "output_type": "stream",
       "stream": "stdout",
       "text": [
        " complete\n",
        "memory_257395954.csv"
       ]
      },
      {
       "output_type": "stream",
       "stream": "stdout",
       "text": [
        " complete\n",
        "memory_2595183881.csv"
       ]
      },
      {
       "output_type": "stream",
       "stream": "stdout",
       "text": [
        " complete\n",
        "memory_2912464652.csv"
       ]
      },
      {
       "output_type": "stream",
       "stream": "stdout",
       "text": [
        " complete\n",
        "memory_294771706.csv"
       ]
      },
      {
       "output_type": "stream",
       "stream": "stdout",
       "text": [
        " complete\n",
        "memory_294887209.csv"
       ]
      },
      {
       "output_type": "stream",
       "stream": "stdout",
       "text": [
        " complete\n",
        "memory_294973335.csv"
       ]
      },
      {
       "output_type": "stream",
       "stream": "stdout",
       "text": [
        " complete\n",
        "memory_317488701.csv"
       ]
      },
      {
       "output_type": "stream",
       "stream": "stdout",
       "text": [
        " complete\n",
        "memory_317499484.csv"
       ]
      },
      {
       "output_type": "stream",
       "stream": "stdout",
       "text": [
        " complete\n",
        "memory_318418982.csv"
       ]
      },
      {
       "output_type": "stream",
       "stream": "stdout",
       "text": [
        " complete\n",
        "memory_323143631.csv"
       ]
      },
      {
       "output_type": "stream",
       "stream": "stdout",
       "text": [
        " complete\n",
        "memory_3233542229.csv"
       ]
      },
      {
       "output_type": "stream",
       "stream": "stdout",
       "text": [
        " complete\n",
        "memory_329144835.csv"
       ]
      },
      {
       "output_type": "stream",
       "stream": "stdout",
       "text": [
        " complete\n",
        "memory_329150663.csv"
       ]
      },
      {
       "output_type": "stream",
       "stream": "stdout",
       "text": [
        " complete\n",
        "memory_3349189108.csv"
       ]
      },
      {
       "output_type": "stream",
       "stream": "stdout",
       "text": [
        " complete\n",
        "memory_336021545.csv"
       ]
      },
      {
       "output_type": "stream",
       "stream": "stdout",
       "text": [
        " complete\n",
        "memory_336025676.csv"
       ]
      },
      {
       "output_type": "stream",
       "stream": "stdout",
       "text": [
        " complete\n",
        "memory_336030391.csv"
       ]
      },
      {
       "output_type": "stream",
       "stream": "stdout",
       "text": [
        " complete\n",
        "memory_336036882.csv"
       ]
      },
      {
       "output_type": "stream",
       "stream": "stdout",
       "text": [
        " complete\n",
        "memory_336045945.csv"
       ]
      },
      {
       "output_type": "stream",
       "stream": "stdout",
       "text": [
        " complete\n",
        "memory_336055347.csv"
       ]
      },
      {
       "output_type": "stream",
       "stream": "stdout",
       "text": [
        " complete\n",
        "memory_3405236527.csv"
       ]
      },
      {
       "output_type": "stream",
       "stream": "stdout",
       "text": [
        " complete\n",
        "memory_344595418.csv"
       ]
      },
      {
       "output_type": "stream",
       "stream": "stdout",
       "text": [
        " complete\n",
        "memory_348769060.csv"
       ]
      },
      {
       "output_type": "stream",
       "stream": "stdout",
       "text": [
        " complete\n",
        "memory_351618647.csv"
       ]
      },
      {
       "output_type": "stream",
       "stream": "stdout",
       "text": [
        " complete\n",
        "memory_351621284.csv"
       ]
      },
      {
       "output_type": "stream",
       "stream": "stdout",
       "text": [
        " complete\n",
        "memory_351635981.csv"
       ]
      },
      {
       "output_type": "stream",
       "stream": "stdout",
       "text": [
        " complete\n",
        "memory_3550322224.csv"
       ]
      },
      {
       "output_type": "stream",
       "stream": "stdout",
       "text": [
        " complete\n",
        "memory_376211539.csv"
       ]
      },
      {
       "output_type": "stream",
       "stream": "stdout",
       "text": [
        " complete\n",
        "memory_376751173.csv"
       ]
      },
      {
       "output_type": "stream",
       "stream": "stdout",
       "text": [
        " complete\n",
        "memory_3858945898.csv"
       ]
      },
      {
       "output_type": "stream",
       "stream": "stdout",
       "text": [
        " complete\n",
        "memory_38655581.csv"
       ]
      },
      {
       "output_type": "stream",
       "stream": "stdout",
       "text": [
        " complete\n",
        "memory_3894543095.csv"
       ]
      },
      {
       "output_type": "stream",
       "stream": "stdout",
       "text": [
        " complete\n",
        "memory_3938719206.csv"
       ]
      },
      {
       "output_type": "stream",
       "stream": "stdout",
       "text": [
        " complete\n",
        "memory_3938826162.csv"
       ]
      },
      {
       "output_type": "stream",
       "stream": "stdout",
       "text": [
        " complete\n",
        "memory_410058079.csv"
       ]
      },
      {
       "output_type": "stream",
       "stream": "stdout",
       "text": [
        " complete\n",
        "memory_4155527081.csv"
       ]
      },
      {
       "output_type": "stream",
       "stream": "stdout",
       "text": [
        " complete\n",
        "memory_4217136868.csv"
       ]
      },
      {
       "output_type": "stream",
       "stream": "stdout",
       "text": [
        " complete\n",
        "memory_4304743890.csv"
       ]
      },
      {
       "output_type": "stream",
       "stream": "stdout",
       "text": [
        " complete\n",
        "memory_431038861.csv"
       ]
      },
      {
       "output_type": "stream",
       "stream": "stdout",
       "text": [
        " complete\n",
        "memory_431052910.csv"
       ]
      },
      {
       "output_type": "stream",
       "stream": "stdout",
       "text": [
        " complete\n",
        "memory_431081448.csv"
       ]
      },
      {
       "output_type": "stream",
       "stream": "stdout",
       "text": [
        " complete\n",
        "memory_4469213375.csv"
       ]
      },
      {
       "output_type": "stream",
       "stream": "stdout",
       "text": [
        " complete\n",
        "memory_4469371300.csv"
       ]
      },
      {
       "output_type": "stream",
       "stream": "stdout",
       "text": [
        " complete\n",
        "memory_4802475358.csv"
       ]
      },
      {
       "output_type": "stream",
       "stream": "stdout",
       "text": [
        " complete\n",
        "memory_4815459946.csv"
       ]
      },
      {
       "output_type": "stream",
       "stream": "stdout",
       "text": [
        " complete\n",
        "memory_4820238819.csv"
       ]
      },
      {
       "output_type": "stream",
       "stream": "stdout",
       "text": [
        " complete\n",
        "memory_564444639.csv"
       ]
      },
      {
       "output_type": "stream",
       "stream": "stdout",
       "text": [
        " complete\n",
        "memory_5655258253.csv"
       ]
      },
      {
       "output_type": "stream",
       "stream": "stdout",
       "text": [
        " complete\n",
        "memory_5656207113.csv"
       ]
      },
      {
       "output_type": "stream",
       "stream": "stdout",
       "text": [
        " complete\n",
        "memory_5781488.csv"
       ]
      },
      {
       "output_type": "stream",
       "stream": "stdout",
       "text": [
        " complete\n",
        "memory_5782232.csv"
       ]
      },
      {
       "output_type": "stream",
       "stream": "stdout",
       "text": [
        " complete\n",
        "memory_5796442.csv"
       ]
      },
      {
       "output_type": "stream",
       "stream": "stdout",
       "text": [
        " complete\n",
        "memory_621588868.csv"
       ]
      },
      {
       "output_type": "stream",
       "stream": "stdout",
       "text": [
        " complete\n",
        "memory_6567274.csv"
       ]
      },
      {
       "output_type": "stream",
       "stream": "stdout",
       "text": [
        " complete\n",
        "memory_6567284.csv"
       ]
      },
      {
       "output_type": "stream",
       "stream": "stdout",
       "text": [
        " complete\n",
        "memory_6570572.csv"
       ]
      },
      {
       "output_type": "stream",
       "stream": "stdout",
       "text": [
        " complete\n",
        "memory_660404.csv"
       ]
      },
      {
       "output_type": "stream",
       "stream": "stdout",
       "text": [
        " complete\n",
        "memory_6608763.csv"
       ]
      },
      {
       "output_type": "stream",
       "stream": "stdout",
       "text": [
        " complete\n",
        "memory_662205.csv"
       ]
      },
      {
       "output_type": "stream",
       "stream": "stdout",
       "text": [
        " complete\n",
        "memory_6640087.csv"
       ]
      },
      {
       "output_type": "stream",
       "stream": "stdout",
       "text": [
        " complete\n",
        "memory_6640648.csv"
       ]
      },
      {
       "output_type": "stream",
       "stream": "stdout",
       "text": [
        " complete\n",
        "memory_672515.csv"
       ]
      },
      {
       "output_type": "stream",
       "stream": "stdout",
       "text": [
        " complete\n",
        "memory_6955600.csv"
       ]
      },
      {
       "output_type": "stream",
       "stream": "stdout",
       "text": [
        " complete\n",
        "memory_711355.csv"
       ]
      },
      {
       "output_type": "stream",
       "stream": "stdout",
       "text": [
        " complete\n",
        "memory_717319.csv"
       ]
      },
      {
       "output_type": "stream",
       "stream": "stdout",
       "text": [
        " complete\n",
        "memory_7753127.csv"
       ]
      },
      {
       "output_type": "stream",
       "stream": "stdout",
       "text": [
        " complete\n",
        "memory_778602858.csv"
       ]
      },
      {
       "output_type": "stream",
       "stream": "stdout",
       "text": [
        " complete\n",
        "memory_82732361.csv"
       ]
      },
      {
       "output_type": "stream",
       "stream": "stdout",
       "text": [
        " complete\n",
        "memory_84847796.csv"
       ]
      },
      {
       "output_type": "stream",
       "stream": "stdout",
       "text": [
        " complete\n",
        "memory_84899647.csv"
       ]
      },
      {
       "output_type": "stream",
       "stream": "stdout",
       "text": [
        " complete\n",
        "memory_866746667.csv"
       ]
      },
      {
       "output_type": "stream",
       "stream": "stdout",
       "text": [
        " complete\n",
        "memory_904514.csv"
       ]
      },
      {
       "output_type": "stream",
       "stream": "stdout",
       "text": [
        " complete\n",
        "memory_905062.csv"
       ]
      },
      {
       "output_type": "stream",
       "stream": "stdout",
       "text": [
        " complete\n",
        "memory_905814.csv"
       ]
      },
      {
       "output_type": "stream",
       "stream": "stdout",
       "text": [
        " complete\n",
        "memory_907812.csv"
       ]
      },
      {
       "output_type": "stream",
       "stream": "stdout",
       "text": [
        " complete\n"
       ]
      }
     ],
     "prompt_number": 6
    },
    {
     "cell_type": "code",
     "collapsed": false,
     "input": [
      "\n",
      "truevals = np.genfromtxt(\"d:/data/\"+TYPE+\"/\"+FILENAME+\".csv\", delimiter=',',skip_header=1, usecols=(1))[:WINDOW+5340]\n",
      "ar_fc = np.genfromtxt(\"d:/data/\"+TYPE+\"_ar_forecasts/\"+FILENAME+\".csv\", delimiter=',', usecols=range(0,30)).ravel()\n",
      "wavelet_fc = np.genfromtxt(\"d:/data/\"+TYPE+\"_wavelet_forecasts/\"+FILENAME+\".csv\", delimiter=',', usecols=range(0,30)).ravel()\n",
      "fnn_fc = np.genfromtxt(\"d:/data/\"+TYPE+\"_fnn_forecasts/\"+FILENAME+\".csv\", delimiter=',')"
     ],
     "language": "python",
     "metadata": {},
     "outputs": [],
     "prompt_number": 2
    },
    {
     "cell_type": "code",
     "collapsed": false,
     "input": [
      "plt.figure(figsize=(12,8))\n",
      "plt.plot(ar_fc)\n",
      "plt.plot(wavelet_fc)\n",
      "plt.plot(fnn_fc)"
     ],
     "language": "python",
     "metadata": {},
     "outputs": [
      {
       "metadata": {},
       "output_type": "pyout",
       "prompt_number": 3,
       "text": [
        "[<matplotlib.lines.Line2D at 0x6929d10>]"
       ]
      },
      {
       "metadata": {},
       "output_type": "display_data",
       "png": "[encoded data removed]",
       "text": [
        "<matplotlib.figure.Figure at 0x690c070>"
       ]
      }
     ],
     "prompt_number": 3
    },
    {
     "cell_type": "code",
     "collapsed": false,
     "input": [
      "combine_model = np.vstack((ar_fc, np.vstack((wavelet_fc, fnn_fc))))\n",
      "print combine_model.shape\n",
      "average_fc = np.average(combine_model, axis=0)\n",
      "print average_fc.shape"
     ],
     "language": "python",
     "metadata": {},
     "outputs": [
      {
       "output_type": "stream",
       "stream": "stdout",
       "text": [
        "(3, 5340)\n",
        "(5340,)\n"
       ]
      }
     ],
     "prompt_number": 4
    },
    {
     "cell_type": "code",
     "collapsed": false,
     "input": [
      "plt.figure(figsize=(12,8))\n",
      "plt.plot(truevals)\n",
      "plt.plot(range(WINDOW,WINDOW+len(average_fc)),average_fc)"
     ],
     "language": "python",
     "metadata": {},
     "outputs": [
      {
       "metadata": {},
       "output_type": "pyout",
       "prompt_number": 5,
       "text": [
        "[<matplotlib.lines.Line2D at 0x6915830>]"
       ]
      },
      {
       "metadata": {},
       "output_type": "display_data",
       "png": "[encoded data removed]",
       "text": [
        "<matplotlib.figure.Figure at 0x6936190>"
       ]
      }
     ],
     "prompt_number": 5
    },
    {
     "cell_type": "heading",
     "level": 3,
     "metadata": {},
     "source": [
      "FNN used to combine forecasts from models"
     ]
    },
    {
     "cell_type": "code",
     "collapsed": false,
     "input": [
      "TRAIN = 1000\n",
      "VALID = 100\n",
      "TEST = 100\n",
      "INPUT_SIZE = 30\n",
      "train, valid, test = data[:TRAIN], data[TRAIN-INPUT_SIZE:TRAIN+VALID], data[TRAIN-INPUT_SIZE+VALID:TRAIN+VALID+TEST]"
     ],
     "language": "python",
     "metadata": {},
     "outputs": [
      {
       "ename": "NameError",
       "evalue": "name 'data' is not defined",
       "output_type": "pyerr",
       "traceback": [
        "\u001b[1;31m---------------------------------------------------------------------------\u001b[0m\n\u001b[1;31mNameError\u001b[0m                                 Traceback (most recent call last)",
        "\u001b[1;32m<ipython-input-6-f0a2c50bb21d>\u001b[0m in \u001b[0;36m<module>\u001b[1;34m()\u001b[0m\n\u001b[0;32m      3\u001b[0m \u001b[0mTEST\u001b[0m \u001b[1;33m=\u001b[0m \u001b[1;36m100\u001b[0m\u001b[1;33m\u001b[0m\u001b[0m\n\u001b[0;32m      4\u001b[0m \u001b[0mINPUT_SIZE\u001b[0m \u001b[1;33m=\u001b[0m \u001b[1;36m30\u001b[0m\u001b[1;33m\u001b[0m\u001b[0m\n\u001b[1;32m----> 5\u001b[1;33m \u001b[0mtrain\u001b[0m\u001b[1;33m,\u001b[0m \u001b[0mvalid\u001b[0m\u001b[1;33m,\u001b[0m \u001b[0mtest\u001b[0m \u001b[1;33m=\u001b[0m \u001b[0mdata\u001b[0m\u001b[1;33m[\u001b[0m\u001b[1;33m:\u001b[0m\u001b[0mTRAIN\u001b[0m\u001b[1;33m]\u001b[0m\u001b[1;33m,\u001b[0m \u001b[0mdata\u001b[0m\u001b[1;33m[\u001b[0m\u001b[0mTRAIN\u001b[0m\u001b[1;33m-\u001b[0m\u001b[0mINPUT_SIZE\u001b[0m\u001b[1;33m:\u001b[0m\u001b[0mTRAIN\u001b[0m\u001b[1;33m+\u001b[0m\u001b[0mVALID\u001b[0m\u001b[1;33m]\u001b[0m\u001b[1;33m,\u001b[0m \u001b[0mdata\u001b[0m\u001b[1;33m[\u001b[0m\u001b[0mTRAIN\u001b[0m\u001b[1;33m-\u001b[0m\u001b[0mINPUT_SIZE\u001b[0m\u001b[1;33m+\u001b[0m\u001b[0mVALID\u001b[0m\u001b[1;33m:\u001b[0m\u001b[0mTRAIN\u001b[0m\u001b[1;33m+\u001b[0m\u001b[0mVALID\u001b[0m\u001b[1;33m+\u001b[0m\u001b[0mTEST\u001b[0m\u001b[1;33m]\u001b[0m\u001b[1;33m\u001b[0m\u001b[0m\n\u001b[0m",
        "\u001b[1;31mNameError\u001b[0m: name 'data' is not defined"
       ]
      }
     ],
     "prompt_number": 6
    },
    {
     "cell_type": "code",
     "collapsed": false,
     "input": [
      "plt.plot(train)"
     ],
     "language": "python",
     "metadata": {},
     "outputs": []
    },
    {
     "cell_type": "code",
     "collapsed": false,
     "input": [
      "trainds = SupervisedDataSet(INPUT_SIZE, 1)\n",
      "testds = SupervisedDataSet(INPUT_SIZE, 1)\n",
      "validds = SupervisedDataSet(INPUT_SIZE, 1)\n",
      "\n",
      "for i in range(INPUT_SIZE,train.shape[0]):\n",
      "    trainds.appendLinked(train[i-INPUT_SIZE:i],train[i])\n",
      "\n",
      "for i in range(INPUT_SIZE,test.shape[0]):\n",
      "    testds.appendLinked(test[i-INPUT_SIZE:i],test[i])\n",
      "\n",
      "for i in range(INPUT_SIZE,valid.shape[0]):\n",
      "    validds.appendLinked(valid[i-INPUT_SIZE:i],valid[i])"
     ],
     "language": "python",
     "metadata": {},
     "outputs": []
    },
    {
     "cell_type": "code",
     "collapsed": false,
     "input": [
      "HIDDEN = [5, 10, 15, 20]\n",
      "ETA = [0.0001, 0.001, 0.01, 0.1]\n",
      "LAMDA = [0.0, 0.01, 0.1, 1.0]\n",
      "EPOCHS = 25\n"
     ],
     "language": "python",
     "metadata": {},
     "outputs": []
    },
    {
     "cell_type": "code",
     "collapsed": false,
     "input": [
      "nets = []\n",
      "rmse = []\n",
      "correct = []\n",
      "hyperparams = []\n",
      "truevals = validds['target']\n",
      "for hidden in HIDDEN:\n",
      "    for eta in ETA:\n",
      "        for lmda in LAMDA:\n",
      "            epoch = EPOCHS*-1.0*np.log10(eta)\n",
      "            print hidden, eta, lmda, epoch\n",
      "            hyperparams.append([hidden, eta, lmda, epoch])\n",
      "            net = buildNetwork(INPUT_SIZE, hidden, 1,  bias=True)\n",
      "            nets.append(net)\n",
      "            trainer = BackpropTrainer(net, trainds, learningrate=eta, weightdecay=lmda, shuffle=False)\n",
      "            trainer.trainUntilConvergence(maxEpochs=epoch, validationData=validds)\n",
      "            \n",
      "            pred = net.activateOnDataset(validds)\n",
      "            rmse.append(eval.calc_RMSE(truevals, pred, print_=True))\n",
      "            correct.append(eval.calc_upper_lower_acc(truevals, pred, print_=True))"
     ],
     "language": "python",
     "metadata": {},
     "outputs": []
    },
    {
     "cell_type": "code",
     "collapsed": false,
     "input": [
      "correct = np.array(correct).reshape(64,3)"
     ],
     "language": "python",
     "metadata": {},
     "outputs": []
    },
    {
     "cell_type": "code",
     "collapsed": false,
     "input": [
      "rmse_min_idx = np.argmin(rmse)\n",
      "print hyperparams[rmse_min_idx]\n",
      "print rmse[rmse_min_idx]\n",
      "print correct[rmse_min_idx,:]\n",
      "best_rmse_net = nets[rmse_min_idx]"
     ],
     "language": "python",
     "metadata": {},
     "outputs": []
    },
    {
     "cell_type": "code",
     "collapsed": false,
     "input": [
      "correct_max_idx= np.argmax(correct[:,0])\n",
      "print hyperparams[correct_max_idx]\n",
      "print rmse[correct_max_idx]\n",
      "print correct[correct_max_idx,:]\n",
      "best_correct_net = nets[correct_max_idx]"
     ],
     "language": "python",
     "metadata": {},
     "outputs": []
    },
    {
     "cell_type": "code",
     "collapsed": false,
     "input": [
      "# trainer = BackpropTrainer(ffnet, trainds, learningrate=0.0001, weightdecay=0.01, shuffle=False)\n",
      "# train_err, valid_err = trainer.trainUntilConvergence(maxEpochs=50, validationData=validds)"
     ],
     "language": "python",
     "metadata": {},
     "outputs": []
    },
    {
     "cell_type": "code",
     "collapsed": false,
     "input": [
      "# SPLIT = 10\n",
      "# plt.figure()\n",
      "# plt.plot(train_err[:SPLIT])\n",
      "# plt.plot(valid_err[:SPLIT])\n",
      "# plt.figure()\n",
      "# plt.plot(train_err[SPLIT:])\n",
      "# plt.plot(valid_err[SPLIT:])"
     ],
     "language": "python",
     "metadata": {},
     "outputs": []
    },
    {
     "cell_type": "heading",
     "level": 2,
     "metadata": {},
     "source": [
      "Training Predictions"
     ]
    },
    {
     "cell_type": "code",
     "collapsed": false,
     "input": [
      "pred = best_corret_net.activateOnDataset(trainds)\n",
      "truevals = trainds['target']\n",
      "eval.calc_RMSE(truevals, pred, print_=True)\n",
      "eval.calc_upper_lower_acc(truevals, pred, print_=True)\n",
      "\n",
      "plt.figure(figsize=(12,8))\n",
      "plt.plot(truevals[-100:])\n",
      "plt.plot(pred[-100:], '-o')"
     ],
     "language": "python",
     "metadata": {},
     "outputs": []
    },
    {
     "cell_type": "heading",
     "level": 2,
     "metadata": {},
     "source": [
      "Validation Predictions"
     ]
    },
    {
     "cell_type": "code",
     "collapsed": false,
     "input": [
      "pred = best_rmse_net.activateOnDataset(validds)\n",
      "truevals = validds['target']\n",
      "eval.calc_RMSE(truevals, pred, print_=True)\n",
      "eval.calc_upper_lower_acc(truevals, pred, print_=True)\n",
      "\n",
      "plt.figure(figsize=(12,8))\n",
      "plt.plot(truevals)\n",
      "plt.plot(pred, '-o')"
     ],
     "language": "python",
     "metadata": {},
     "outputs": []
    },
    {
     "cell_type": "heading",
     "level": 2,
     "metadata": {},
     "source": [
      "Testing Predictions"
     ]
    },
    {
     "cell_type": "code",
     "collapsed": false,
     "input": [
      "pred = best_rmse_net.activateOnDataset(testds)\n",
      "truevals = testds['target']\n",
      "eval.calc_RMSE(truevals, pred, print_=True)\n",
      "eval.calc_upper_lower_acc(truevals, pred, print_=True)\n",
      "\n",
      "plt.figure(figsize=(12,8))\n",
      "plt.plot(truevals)\n",
      "plt.plot(pred, '-o')"
     ],
     "language": "python",
     "metadata": {},
     "outputs": []
    },
    {
     "cell_type": "code",
     "collapsed": false,
     "input": [
      "# from pybrain.tools.customxml.networkwriter import NetworkWriter\n",
      "# NetworkWriter.writeToFile(best_rmse_net, 'cpu_905814.xml')"
     ],
     "language": "python",
     "metadata": {},
     "outputs": []
    }
   ],
   "metadata": {}
  }
 ]
}