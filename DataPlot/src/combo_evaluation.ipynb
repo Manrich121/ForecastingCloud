{
 "metadata": {
  "name": "",
  "signature": "sha256:3c1d65b3a79ba6d901a182b9ae13f2674df21001b634325e2479594a41af0ae9"
 },
 "nbformat": 3,
 "nbformat_minor": 0,
 "worksheets": [
  {
   "cells": [
    {
     "cell_type": "code",
     "collapsed": false,
     "input": [
      "# %matplotlib inline\n",
      "import fileutils\n",
      "import tsutils\n",
      "import numpy as np\n",
      "import matplotlib.pyplot as plt\n",
      "import evaluation as eval\n",
      "\n",
      "overload_dur = 5 #samples\n",
      "train_window = 3000\n",
      "\n",
      "FILE = '1095481'\n",
      "TYPE = 'cpu'\n",
      "\n",
      "forecasts = np.genfromtxt(\"d:/data/\"+TYPE+\"_combo/\"+TYPE+\"_\"+FILE+\".csv\",delimiter=',',usecols=range(30)).ravel()\n",
      "truevals = np.genfromtxt(\"d:/data/\"+TYPE+\"/\"+TYPE+\"_\"+FILE+\".csv\", delimiter=',',skip_header=1)[:train_window+len(forecasts),1]\n",
      "\n",
      "threshold =  np.percentile(truevals, 70)\n",
      "\n",
      "plt.figure(figsize=(12,8))\n",
      "plt.plot(truevals,'grey', label='True values')\n",
      "plt.plot(range(3000,3000+len(forecasts)),forecasts, label='Forecasts')\n",
      "plt.hlines(threshold,0,len(truevals))\n",
      "plt.title(\"FFNN-combined model forecasts and True values on CPU data of a single machine\")\n",
      "plt.legend(loc='best')\n",
      "plt.grid()\n",
      "plt.ylabel('Resource usage',size='large')\n",
      "plt.xlabel('Time (sample)',size='large')\n",
      "# plt.savefig(\"D:/data/results_figs/combo_example.pdf\", type='pdf')\n",
      "# plt.show()"
     ],
     "language": "python",
     "metadata": {},
     "outputs": [
      {
       "metadata": {},
       "output_type": "pyout",
       "prompt_number": 5,
       "text": [
        "<matplotlib.text.Text at 0xae8d870>"
       ]
      }
     ],
     "prompt_number": 5
    },
    {
     "cell_type": "code",
     "collapsed": false,
     "input": [
      "# %matplotlib inline\n",
      "import fileutils\n",
      "import tsutils\n",
      "import numpy as np\n",
      "import matplotlib.pyplot as plt\n",
      "import evaluation as eval\n",
      "\n",
      "overload_dur = 5 #samples\n",
      "train_window = 3000\n",
      "\n",
      "FILE = '1095481'\n",
      "TYPE = 'cpu'\n",
      "\n",
      "forecasts = np.genfromtxt(\"d:/data/\"+TYPE+\"_avg/\"+TYPE+\"_\"+FILE+\".csv\",delimiter=',',usecols=range(30)).ravel()\n",
      "truevals = np.genfromtxt(\"d:/data/\"+TYPE+\"/\"+TYPE+\"_\"+FILE+\".csv\", delimiter=',',skip_header=1)[:train_window+len(forecasts),1]\n",
      "\n",
      "threshold =  np.percentile(truevals, 70)\n",
      "\n",
      "plt.figure(figsize=(12,8))\n",
      "plt.plot(truevals,'grey', label='True values')\n",
      "plt.plot(range(3000,3000+len(forecasts)),forecasts, label='Forecasts')\n",
      "plt.hlines(threshold,0,len(truevals))\n",
      "plt.title(\"FFNN-combined model forecasts and True values on CPU data of a single machine\")\n",
      "plt.legend(loc='best')\n",
      "plt.grid()\n",
      "plt.ylabel('Resource usage',size='large')\n",
      "plt.xlabel('Time (sample)',size='large')\n",
      "# plt.savefig(\"D:/data/results_figs/combo_example.pdf\", type='pdf')\n",
      "plt.show()"
     ],
     "language": "python",
     "metadata": {},
     "outputs": [],
     "prompt_number": 6
    },
    {
     "cell_type": "code",
     "collapsed": false,
     "input": [
      "rmse = eval.calc_RMSE(truevals[train_window:],forecasts, print_=True)"
     ],
     "language": "python",
     "metadata": {},
     "outputs": [
      {
       "output_type": "stream",
       "stream": "stdout",
       "text": [
        "RMSE =  0.0806216488925\n"
       ]
      }
     ],
     "prompt_number": 2
    },
    {
     "cell_type": "code",
     "collapsed": false,
     "input": [
      "correct, overest, underest = eval.calc_upper_lower_acc(truevals[train_window:], forecasts, print_=True)"
     ],
     "language": "python",
     "metadata": {},
     "outputs": [
      {
       "output_type": "stream",
       "stream": "stdout",
       "text": [
        "Correct prediction rate = 0.408851224105\n",
        "Over-estimation rate = 0.24934086629\n",
        "Under-estimation rate = 0.341807909605\n"
       ]
      }
     ],
     "prompt_number": 3
    },
    {
     "cell_type": "code",
     "collapsed": false,
     "input": [
      "TPR, FPR = eval.calc_persample_accuracy(truevals[train_window:], forecasts, threshold, print_=True)"
     ],
     "language": "python",
     "metadata": {},
     "outputs": [
      {
       "output_type": "stream",
       "stream": "stdout",
       "text": [
        " ------------\n",
        "| 1090 | 196 |\n",
        "-----------\n",
        "| 668 | 3356 |\n",
        " ------------\n",
        "TPR =  0.620022753129\n",
        "FPR =  0.0551801801802\n"
       ]
      }
     ],
     "prompt_number": 4
    },
    {
     "cell_type": "code",
     "collapsed": false,
     "input": [
      "TPR, FPR = eval.calc_overload_states_acc(truevals[train_window:], forecasts, threshold, print_=True)"
     ],
     "language": "python",
     "metadata": {},
     "outputs": [
      {
       "output_type": "stream",
       "stream": "stdout",
       "text": [
        " ------------\n",
        "| 6 | 76 |\n",
        "-----------\n",
        "| 76 | 6 |\n",
        " ------------\n",
        "TPR =  0.0731707317073\n",
        "FPR =  0.926829268293\n"
       ]
      }
     ],
     "prompt_number": 5
    },
    {
     "cell_type": "code",
     "collapsed": false,
     "input": [],
     "language": "python",
     "metadata": {},
     "outputs": []
    }
   ],
   "metadata": {}
  }
 ]
}