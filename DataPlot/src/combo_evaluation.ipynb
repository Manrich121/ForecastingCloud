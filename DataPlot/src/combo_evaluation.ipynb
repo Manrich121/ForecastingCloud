{
 "metadata": {
  "name": "",
  "signature": "sha256:37bb6a126abb50e32874eab76ab431ab960fba779587cc626f95abbec641ab5c"
 },
 "nbformat": 3,
 "nbformat_minor": 0,
 "worksheets": [
  {
   "cells": [
    {
     "cell_type": "code",
     "collapsed": false,
     "input": [
      "# %matplotlib inline\n",
      "import fileutils\n",
      "import tsutils\n",
      "import numpy as np\n",
      "import matplotlib.pyplot as plt\n",
      "import evaluation as eval\n",
      "\n",
      "overload_dur = 5 #samples\n",
      "train_window = 3000\n",
      "\n",
      "FILE = '1095481'\n",
      "TYPE = 'cpu'\n",
      "\n",
      "forecasts = np.genfromtxt(\"d:/data/\"+TYPE+\"_fnn/\"+TYPE+\"_\"+FILE+\".csv\",delimiter=',',usecols=range(30)).ravel()\n",
      "truevals = np.genfromtxt(\"d:/data/\"+TYPE+\"/\"+TYPE+\"_\"+FILE+\".csv\", delimiter=',',skip_header=1)[:train_window+len(forecasts),1]\n",
      "\n",
      "threshold =  np.percentile(truevals, 70)\n",
      "\n",
      "plt.figure(figsize=(12,8))\n",
      "plt.plot(truevals,'grey', label='True values')\n",
      "plt.plot(range(3000,3000+len(forecasts)),forecasts, label='Forecasts')\n",
      "plt.hlines(threshold,0,len(truevals))\n",
      "# plt.title(\"FFNN-combined model forecasts and True values on CPU data of a single machine\")\n",
      "plt.legend(loc='best')\n",
      "plt.grid()\n",
      "plt.ylabel('Resource usage',size='large')\n",
      "plt.xlabel('Time (sample)',size='large')\n",
      "# plt.savefig(\"D:/data/results_figs/combo_example.pdf\", type='pdf')\n",
      "# plt.show()"
     ],
     "language": "python",
     "metadata": {},
     "outputs": [
      {
       "metadata": {},
       "output_type": "pyout",
       "prompt_number": 11,
       "text": [
        "<matplotlib.text.Text at 0x6c5e1b0>"
       ]
      }
     ],
     "prompt_number": 11
    },
    {
     "cell_type": "code",
     "collapsed": false,
     "input": [
      "rmse = eval.calc_RMSE(truevals[train_window:],forecasts, print_=True)"
     ],
     "language": "python",
     "metadata": {},
     "outputs": [
      {
       "output_type": "stream",
       "stream": "stdout",
       "text": [
        "RMSE =  0.0684128091073\n"
       ]
      }
     ],
     "prompt_number": 2
    },
    {
     "cell_type": "code",
     "collapsed": false,
     "input": [
      "correct, overest, underest = eval.calc_upper_lower_acc(truevals[train_window:], forecasts, print_=True)"
     ],
     "language": "python",
     "metadata": {},
     "outputs": [
      {
       "output_type": "stream",
       "stream": "stdout",
       "text": [
        "Correct prediction rate = 0.261235955056\n",
        "Over-estimation rate = 0.408988764045\n",
        "Under-estimation rate = 0.329775280899\n"
       ]
      }
     ],
     "prompt_number": 3
    },
    {
     "cell_type": "code",
     "collapsed": false,
     "input": [
      "TPR, FPR = eval.calc_persample_accuracy(truevals[train_window:], forecasts, threshold, print_=True)"
     ],
     "language": "python",
     "metadata": {},
     "outputs": [
      {
       "output_type": "stream",
       "stream": "stdout",
       "text": [
        " ------------\n",
        "| 1571 | 328 |\n",
        "-----------\n",
        "| 416 | 3025 |\n",
        " ------------\n",
        "TPR =  0.790639154504\n",
        "FPR =  0.0978228452132\n"
       ]
      }
     ],
     "prompt_number": 4
    },
    {
     "cell_type": "code",
     "collapsed": false,
     "input": [
      "TPR, FPR = eval.calc_overload_states_acc(truevals[train_window:], forecasts, threshold, print_=True)"
     ],
     "language": "python",
     "metadata": {},
     "outputs": [
      {
       "output_type": "stream",
       "stream": "stdout",
       "text": [
        " ------------\n",
        "| 2 | 58 |\n",
        "-----------\n",
        "| 58 | 2 |\n",
        " ------------\n",
        "TPR =  0.0333333333333\n",
        "FPR =  0.966666666667\n"
       ]
      }
     ],
     "prompt_number": 5
    },
    {
     "cell_type": "code",
     "collapsed": false,
     "input": [
      "# %matplotlib inline\n",
      "import fileutils\n",
      "import tsutils\n",
      "import numpy as np\n",
      "import matplotlib.pyplot as plt\n",
      "import evaluation as eval\n",
      "\n",
      "overload_dur = 5 #samples\n",
      "train_window = 3000\n",
      "\n",
      "FILE = '1095481'\n",
      "TYPE = 'cpu'\n",
      "\n",
      "forecasts = np.genfromtxt(\"d:/data/\"+TYPE+\"_entwine/\"+TYPE+\"_\"+FILE+\".csv\",delimiter=',',usecols=range(30)).ravel()\n",
      "truevals = np.genfromtxt(\"d:/data/\"+TYPE+\"/\"+TYPE+\"_\"+FILE+\".csv\", delimiter=',',skip_header=1)[:train_window+len(forecasts),1]\n",
      "\n",
      "threshold =  np.percentile(truevals, 70)\n",
      "\n",
      "plt.figure(figsize=(12,8))\n",
      "plt.plot(truevals,'grey', label='True values')\n",
      "plt.plot(range(3000,3000+len(forecasts)),forecasts, label='Forecasts')\n",
      "plt.hlines(threshold,0,len(truevals))\n",
      "# plt.title(\"FFNN-combined model forecasts and True values on CPU data of a single machine\")\n",
      "plt.legend(loc='best')\n",
      "plt.grid()\n",
      "plt.ylabel('Resource usage',size='large')\n",
      "plt.xlabel('Time (sample)',size='large')\n",
      "# plt.savefig(\"D:/data/results_figs/combo_example.pdf\", type='pdf')\n",
      "plt.show()"
     ],
     "language": "python",
     "metadata": {},
     "outputs": [],
     "prompt_number": 12
    },
    {
     "cell_type": "code",
     "collapsed": false,
     "input": [
      "rmse = eval.calc_RMSE(truevals[train_window:],forecasts, print_=True)"
     ],
     "language": "python",
     "metadata": {},
     "outputs": [
      {
       "output_type": "stream",
       "stream": "stdout",
       "text": [
        "RMSE =  0.0782505161262\n"
       ]
      }
     ],
     "prompt_number": 7
    },
    {
     "cell_type": "code",
     "collapsed": false,
     "input": [
      "correct, overest, underest = eval.calc_upper_lower_acc(truevals[train_window:], forecasts, print_=True)"
     ],
     "language": "python",
     "metadata": {},
     "outputs": [
      {
       "output_type": "stream",
       "stream": "stdout",
       "text": [
        "Correct prediction rate = 0.216104868914\n",
        "Over-estimation rate = 0.41404494382\n",
        "Under-estimation rate = 0.369850187266\n"
       ]
      }
     ],
     "prompt_number": 8
    },
    {
     "cell_type": "code",
     "collapsed": false,
     "input": [
      "TPR, FPR = eval.calc_persample_accuracy(truevals[train_window:], forecasts, threshold, print_=True)"
     ],
     "language": "python",
     "metadata": {},
     "outputs": [
      {
       "output_type": "stream",
       "stream": "stdout",
       "text": [
        " ------------\n",
        "| 1497 | 314 |\n",
        "-----------\n",
        "| 490 | 3039 |\n",
        " ------------\n",
        "TPR =  0.753397081027\n",
        "FPR =  0.0936474798688\n"
       ]
      }
     ],
     "prompt_number": 9
    },
    {
     "cell_type": "code",
     "collapsed": false,
     "input": [
      "TPR, FPR = eval.calc_overload_states_acc(truevals[train_window:], forecasts, threshold, print_=True)"
     ],
     "language": "python",
     "metadata": {},
     "outputs": [
      {
       "output_type": "stream",
       "stream": "stdout",
       "text": [
        " ------------\n",
        "| 3 | 57 |\n",
        "-----------\n",
        "| 56 | 4 |\n",
        " ------------\n",
        "TPR =  0.0508474576271\n",
        "FPR =  0.934426229508\n"
       ]
      }
     ],
     "prompt_number": 10
    },
    {
     "cell_type": "code",
     "collapsed": false,
     "input": [],
     "language": "python",
     "metadata": {},
     "outputs": []
    }
   ],
   "metadata": {}
  }
 ]
}