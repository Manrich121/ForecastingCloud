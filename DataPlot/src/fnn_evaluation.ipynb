{
 "metadata": {
  "name": "",
  "signature": "sha256:d2452285b19e6ca9865f69d4bf748dff5763a6965cb90feec2c487e6cfb253d7"
 },
 "nbformat": 3,
 "nbformat_minor": 0,
 "worksheets": [
  {
   "cells": [
    {
     "cell_type": "code",
     "collapsed": false,
     "input": [
      "# %matplotlib inline\n",
      "import fileutils\n",
      "import tsutils\n",
      "import numpy as np\n",
      "import matplotlib.pyplot as plt\n",
      "import evaluation as eval\n",
      "\n",
      "overload_dur = 5 #samples\n",
      "train_window = 3000\n",
      "\n",
      "forecasts = np.genfromtxt(\"d:/data/cpu_fnn/cpu_1095481.csv\",delimiter=',').ravel()#usecols=range(0,30)\n",
      "truevals = np.genfromtxt(\"d:/data/cpu/cpu_1095481.csv\", delimiter=',',skip_header=1)[:train_window+len(forecasts),1]\n",
      "\n",
      "threshold =  np.percentile(truevals, 70)\n",
      "\n",
      "plt.figure(figsize=(12,8))\n",
      "plt.plot(truevals)\n",
      "plt.plot(range(3000,3000+len(forecasts)),forecasts)\n",
      "plt.hlines(threshold,0,len(truevals))\n",
      "plt.show()"
     ],
     "language": "python",
     "metadata": {},
     "outputs": [],
     "prompt_number": 1
    },
    {
     "cell_type": "code",
     "collapsed": false,
     "input": [
      "entwine_forecasts = np.genfromtxt(\"d:/data/cpu_entwine/cpu_1095481.csv\",delimiter=',',usecols=range(0,30)).ravel()"
     ],
     "language": "python",
     "metadata": {},
     "outputs": [],
     "prompt_number": 2
    },
    {
     "cell_type": "code",
     "collapsed": false,
     "input": [
      "plt.figure(figsize=(12,8))\n",
      "plt.plot(truevals)\n",
      "plt.plot(range(3000,3000+len(forecasts)),forecasts)\n",
      "plt.plot(range(3000,3000+len(entwine_forecasts)),entwine_forecasts)\n",
      "plt.show()"
     ],
     "language": "python",
     "metadata": {},
     "outputs": [],
     "prompt_number": 3
    },
    {
     "cell_type": "code",
     "collapsed": false,
     "input": [
      "print forecasts.shape"
     ],
     "language": "python",
     "metadata": {},
     "outputs": [
      {
       "output_type": "stream",
       "stream": "stdout",
       "text": [
        "(5340,)\n"
       ]
      }
     ],
     "prompt_number": 4
    },
    {
     "cell_type": "code",
     "collapsed": false,
     "input": [
      "rmse = eval.calc_RMSE(truevals[train_window:],forecasts, print_=True)\n",
      "print '###########  Entwine ###########'\n",
      "eval.calc_RMSE(truevals[train_window:],entwine_forecasts, print_=True);"
     ],
     "language": "python",
     "metadata": {},
     "outputs": [
      {
       "output_type": "stream",
       "stream": "stdout",
       "text": [
        "RMSE =  0.0684128091073\n",
        "###########  Entwine ###########\n",
        "RMSE =  0.0782505161262\n"
       ]
      }
     ],
     "prompt_number": 5
    },
    {
     "cell_type": "code",
     "collapsed": false,
     "input": [
      "correct, overest, underest = eval.calc_upper_lower_acc(truevals[train_window:], forecasts, print_=True)\n",
      "print '###########  Entwine ###########'\n",
      "eval.calc_upper_lower_acc(truevals[train_window:], entwine_forecasts, print_=True);"
     ],
     "language": "python",
     "metadata": {},
     "outputs": [
      {
       "output_type": "stream",
       "stream": "stdout",
       "text": [
        "Correct prediction rate = 0.261235955056\n",
        "Over-estimation rate = 0.408988764045\n",
        "Under-estimation rate = 0.329775280899\n",
        "###########  Entwine ###########\n",
        "Correct prediction rate = 0.216104868914\n",
        "Over-estimation rate = 0.41404494382\n",
        "Under-estimation rate = 0.369850187266\n"
       ]
      }
     ],
     "prompt_number": 6
    },
    {
     "cell_type": "code",
     "collapsed": false,
     "input": [
      "TPR, FPR = eval.calc_persample_accuracy(truevals[train_window:], forecasts, threshold, print_=True)\n",
      "print '###########  Entwine ###########'\n",
      "eval.calc_persample_accuracy(truevals[train_window:], entwine_forecasts, threshold, print_=True);"
     ],
     "language": "python",
     "metadata": {},
     "outputs": [
      {
       "output_type": "stream",
       "stream": "stdout",
       "text": [
        " ------------\n",
        "| 1571 | 328 |\n",
        "-----------\n",
        "| 416 | 3025 |\n",
        " ------------\n",
        "TPR =  0.790639154504\n",
        "FPR =  0.0978228452132\n",
        "###########  Entwine ###########\n",
        " ------------\n",
        "| 1497 | 314 |\n",
        "-----------\n",
        "| 490 | 3039 |\n",
        " ------------\n",
        "TPR =  0.753397081027\n",
        "FPR =  0.0936474798688\n"
       ]
      }
     ],
     "prompt_number": 7
    },
    {
     "cell_type": "code",
     "collapsed": false,
     "input": [
      "TPR, FPR = eval.calc_overload_states_acc(truevals[train_window:], forecasts, threshold, print_=True)\n",
      "print '###########  Entwine ###########'\n",
      "eval.calc_overload_states_acc(truevals[train_window:], entwine_forecasts, threshold, print_=True);"
     ],
     "language": "python",
     "metadata": {},
     "outputs": [
      {
       "output_type": "stream",
       "stream": "stdout",
       "text": [
        " ------------\n",
        "| 2 | 58 |\n",
        "-----------\n",
        "| 58 | 2 |\n",
        " ------------\n",
        "TPR =  0.0333333333333\n",
        "FPR =  0.966666666667\n",
        "###########  Entwine ###########\n",
        " ------------\n",
        "| 3 | 57 |\n",
        "-----------\n",
        "| 56 | 4 |\n",
        " ------------\n",
        "TPR =  0.0508474576271\n",
        "FPR =  0.934426229508\n"
       ]
      }
     ],
     "prompt_number": 10
    }
   ],
   "metadata": {}
  }
 ]
}