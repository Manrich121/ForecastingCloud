{
 "metadata": {
  "name": "",
  "signature": "sha256:3aaed5870550fcf023f366120fecadd99f6eba274ead5b61cbce723654597a8b"
 },
 "nbformat": 3,
 "nbformat_minor": 0,
 "worksheets": [
  {
   "cells": [
    {
     "cell_type": "code",
     "collapsed": false,
     "input": [
      "%matplotlib inline\n",
      "import numpy as np\n",
      "import scipy\n",
      "from matplotlib import pyplot as plt\n",
      "import tsutils\n",
      "import Markov_model"
     ],
     "language": "python",
     "metadata": {},
     "outputs": [],
     "prompt_number": 1
    },
    {
     "cell_type": "code",
     "collapsed": false,
     "input": [
      "# data = np.array([1, 1, 2, 2, 1, 3, 2, 1, 2, 3, 1, 2, 3, 1, 2, 3, 1, 2, 1, 2])\n",
      "data = np.array([1, 1, 2, 2, 1, 2, 1, 1, 1, 2, 1, 2, 2, 1, 2, 2, 2, 1, 2, 1, 2, 2])\n",
      "M = 2\n",
      "plt.plot(data)"
     ],
     "language": "python",
     "metadata": {},
     "outputs": [
      {
       "metadata": {},
       "output_type": "pyout",
       "prompt_number": 4,
       "text": [
        "[<matplotlib.lines.Line2D at 0x6ed1ab0>]"
       ]
      },
      {
       "metadata": {},
       "output_type": "display_data",
       "png": "[encoded data removed]",
       "text": [
        "<matplotlib.figure.Figure at 0x6c42690>"
       ]
      }
     ],
     "prompt_number": 4
    },
    {
     "cell_type": "code",
     "collapsed": false,
     "input": [
      "model = Markov_model.Markov_model(data, M=2)\n",
      "model.fit()\n",
      "model.predict(5)"
     ],
     "language": "python",
     "metadata": {},
     "outputs": [
      {
       "metadata": {},
       "output_type": "pyout",
       "prompt_number": 5,
       "text": [
        "array([[ 1.],\n",
        "       [ 2.],\n",
        "       [ 2.],\n",
        "       [ 2.],\n",
        "       [ 2.]])"
       ]
      }
     ],
     "prompt_number": 5
    },
    {
     "cell_type": "code",
     "collapsed": false,
     "input": [
      "trans = np.array([np.zeros((M,M))]*M)\n",
      "\n",
      "for i in range(1,len(data)-1):\n",
      "    x, y, z = data[i-1], data[i], data[i+1]\n",
      "    trans[x-1,y-1,z-1] += 1\n",
      "\n",
      "trans = np.divide(trans, np.array([np.tile(np.sum(trans[idx], axis=1), (M,1)).T for idx in range(M)])) \n",
      "print trans"
     ],
     "language": "python",
     "metadata": {},
     "outputs": [
      {
       "output_type": "stream",
       "stream": "stdout",
       "text": [
        "[[[ 0.33333333  0.66666667]\n",
        "  [ 0.42857143  0.57142857]]\n",
        "\n",
        " [[ 0.16666667  0.83333333]\n",
        "  [ 0.75        0.25      ]]]\n"
       ]
      }
     ],
     "prompt_number": 6
    },
    {
     "cell_type": "code",
     "collapsed": false,
     "input": [
      "prev, cur = data[-2], data[-1]\n",
      "for p in range(5):\n",
      "    print prev, cur\n",
      "    pred = np.argmax(trans[prev-1, cur-1]) +1\n",
      "    print \"Pred:\",pred\n",
      "    prev = cur\n",
      "    cur = pred"
     ],
     "language": "python",
     "metadata": {},
     "outputs": [
      {
       "output_type": "stream",
       "stream": "stdout",
       "text": [
        "2 2\n",
        "Pred: 1\n",
        "2 1\n",
        "Pred: 2\n",
        "1 2\n",
        "Pred: 2\n",
        "2 2\n",
        "Pred: 1\n",
        "2 1\n",
        "Pred: 2\n"
       ]
      }
     ],
     "prompt_number": 7
    }
   ],
   "metadata": {}
  }
 ]
}