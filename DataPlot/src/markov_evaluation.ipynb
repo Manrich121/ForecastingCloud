{
 "metadata": {
  "name": "",
  "signature": "sha256:818b063f406af6bd49f07617836ac3a47cfa8724a1582102e61ee034e270a0bc"
 },
 "nbformat": 3,
 "nbformat_minor": 0,
 "worksheets": [
  {
   "cells": [
    {
     "cell_type": "code",
     "collapsed": false,
     "input": [
      "%matplotlib inline\n",
      "import fileutils\n",
      "import tsutils\n",
      "import numpy as np\n",
      "import matplotlib.pyplot as plt\n",
      "import evaluation as eval\n",
      "from scipy import signal\n",
      "\n",
      "overload_dur = 5 #samples\n",
      "train_window = 3000\n",
      "\n",
      "forecasts = np.genfromtxt(\"d:/data/cpu_markov1_forecasts/cpu_660404.csv\",delimiter=',',usecols=range(0,30)).ravel()\n",
      "truevals = np.genfromtxt(\"d:/data/cpuRate/cpu_660404.csv\", delimiter=',',skip_header=1)[:train_window+forecasts.shape[0],1]\n",
      "\n",
      "threshold =  np.percentile(truevals, 70)\n",
      "\n",
      "plt.figure(figsize=(12,8))\n",
      "plt.plot(truevals)\n",
      "plt.plot(range(3000,3000+len(forecasts)),forecasts, linewidth=1.5)\n",
      "plt.hlines(threshold,0,len(truevals))\n",
      "# plt.show()"
     ],
     "language": "python",
     "metadata": {},
     "outputs": [],
     "prompt_number": 1
    },
    {
     "cell_type": "code",
     "collapsed": false,
     "input": [
      "rmse = eval.calc_RMSE(truevals[train_window:],forecasts, print_=True)"
     ],
     "language": "python",
     "metadata": {},
     "outputs": [
      {
       "output_type": "stream",
       "stream": "stdout",
       "text": [
        "RMSE =  0.0974613801971\n"
       ]
      }
     ],
     "prompt_number": 4
    },
    {
     "cell_type": "code",
     "collapsed": false,
     "input": [
      "correct, overest, underest = eval.calc_upper_lower_acc(truevals[train_window:], forecasts, print_=True)"
     ],
     "language": "python",
     "metadata": {},
     "outputs": [
      {
       "output_type": "stream",
       "stream": "stdout",
       "text": [
        "Correct prediction rate = 0.229400749064\n",
        "Over-estimation rate = 0.369101123596\n",
        "Under-estimation rate = 0.401498127341\n"
       ]
      }
     ],
     "prompt_number": 5
    },
    {
     "cell_type": "code",
     "collapsed": false,
     "input": [
      "TPR, FPR = eval.calc_persample_accuracy(truevals[train_window:], forecasts, threshold, print_=True)"
     ],
     "language": "python",
     "metadata": {},
     "outputs": [
      {
       "output_type": "stream",
       "stream": "stdout",
       "text": [
        " ------------\n",
        "| 881 | 310 |\n",
        "-----------\n",
        "| 945 | 3204 |\n",
        " ------------\n",
        "TPR =  0.482475355969\n",
        "FPR =  0.088218554354\n"
       ]
      }
     ],
     "prompt_number": 6
    },
    {
     "cell_type": "code",
     "collapsed": false,
     "input": [
      "TPR, FPR = eval.calc_overload_states_acc(truevals[train_window:], forecasts, threshold, print_=True)"
     ],
     "language": "python",
     "metadata": {},
     "outputs": [
      {
       "output_type": "stream",
       "stream": "stdout",
       "text": [
        " ------------\n",
        "| 5 | 62 |\n",
        "-----------\n",
        "| 62 | 5 |\n",
        " ------------\n",
        "TPR =  0.0746268656716\n",
        "FPR =  0.925373134328\n"
       ]
      }
     ],
     "prompt_number": 7
    }
   ],
   "metadata": {}
  }
 ]
}