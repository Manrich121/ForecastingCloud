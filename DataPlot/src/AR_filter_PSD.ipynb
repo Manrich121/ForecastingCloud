{
 "metadata": {
  "name": "",
  "signature": "sha256:f019a51c43bfa4ad80bc9c424785f213db23f15e1d4de0e7161e85d738a4e499"
 },
 "nbformat": 3,
 "nbformat_minor": 0,
 "worksheets": [
  {
   "cells": [
    {
     "cell_type": "code",
     "collapsed": false,
     "input": [
      "from matplotlib import mlab\n"
     ],
     "language": "python",
     "metadata": {},
     "outputs": []
    }
   ],
   "metadata": {}
  }
 ]
}