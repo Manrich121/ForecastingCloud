{
 "metadata": {
  "name": "",
  "signature": "sha256:cef1a50058978972b311620860162360969ac36d4c5975a03610265d08a9ba50"
 },
 "nbformat": 3,
 "nbformat_minor": 0,
 "worksheets": [
  {
   "cells": [
    {
     "cell_type": "code",
     "collapsed": false,
     "input": [
      "%matplotlib inline\n",
      "import fileutils\n",
      "import numpy as np\n",
      "from matplotlib import pyplot as plt\n",
      "import statsmodels.api as sm\n",
      "from pandas.tools.plotting import lag_plot"
     ],
     "language": "python",
     "metadata": {},
     "outputs": [],
     "prompt_number": 1
    },
    {
     "cell_type": "code",
     "collapsed": false,
     "input": [
      "data = np.genfromtxt(\"d:/data/cpuRate/cpuRate_660404.csv\", delimiter=',', usecols=(0,1))\n",
      "\n",
      "fig = plt.figure(figsize=(12,8))\n",
      "plt.plot(data[:,1]);\n",
      "plt.xlim(0, 8500);"
     ],
     "language": "python",
     "metadata": {},
     "outputs": []
    }
   ],
   "metadata": {}
  }
 ]
}