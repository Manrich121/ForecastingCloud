{
 "metadata": {
  "name": "",
  "signature": "sha256:e6d53786cbea8deb5f68db9fa85469cc9b2da5bbf5306cd196eeadb630751ac2"
 },
 "nbformat": 3,
 "nbformat_minor": 0,
 "worksheets": [
  {
   "cells": [
    {
     "cell_type": "heading",
     "level": 2,
     "metadata": {},
     "source": [
      "Exponential Smoothing on CPU rate, using 70th percentile"
     ]
    },
    {
     "cell_type": "markdown",
     "metadata": {},
     "source": [
      "* Overload threshold is set to 70th percentile of current machine's trace\n",
      "* Overload state when values is above threshold for Q samples (Q = 5 samples)\n",
      "* Correct prediction when overload starting time is predited withing 3*Samples of true overload state start\n",
      "* The following Accuracy metric are calculated:\n",
      "    * RMSE\n",
      "    * Over-and under estimation\n",
      "    * Per sample accuracy\n",
      "    * Overload state accuracy"
     ]
    },
    {
     "cell_type": "raw",
     "metadata": {},
     "source": [
      "-----------\n",
      "| Tp | Fp |\n",
      "-----------\n",
      "| Fn | Tn |\n",
      "-----------"
     ]
    },
    {
     "cell_type": "markdown",
     "metadata": {},
     "source": [
      "| Metric | Per sample | Overload state |\n",
      "| ------ | ---------- | -------------- |\n",
      "| Tp     | Forecast sample is overload, Real value is overload | Forecasted start of an overload state is within 3 samples of Real start\n",
      "| Fp     | Forecast sample is overload, Real value is not overload | Forecasted start of overload state is outside 3 samples of Real start\n",
      "| Tn     | Forecast sample is not overload, Real agrees | Forecasted end of overload state is within 3 samples of Real end of overload\n",
      "| Fn     | Forecast sample is not overload, Real is overload | Forecasted end of overload state is outside 3 sample of Real end of overload"
     ]
    },
    {
     "cell_type": "code",
     "collapsed": false,
     "input": [
      "# %matplotlib inline\n",
      "import fileutils\n",
      "import tsutils\n",
      "import numpy as np\n",
      "import matplotlib.pyplot as plt\n",
      "from sklearn.metrics import mean_squared_error\n",
      "overload_dur = 5 #samples\n",
      "train_window = 3000\n",
      "\n",
      "forecasts = np.genfromtxt(\"d:/data/cpu_exp_smooting_forecasts/cpu_1095481.csv\",delimiter=',',usecols=range(0,30)).ravel()\n",
      "truevals = np.genfromtxt(\"d:/data/cpuRate/cpu_1095481.csv\", delimiter=',',skip_header=1)[:train_window+len(forecasts),1]\n",
      "\n",
      "threshold =  np.percentile(truevals, 70)\n",
      "\n",
      "plt.figure(figsize=(12,8))\n",
      "plt.plot(truevals)\n",
      "plt.plot(range(3000,3000+len(forecasts)),forecasts)\n",
      "plt.hlines(threshold,0,len(truevals))"
     ],
     "language": "python",
     "metadata": {},
     "outputs": [
      {
       "metadata": {},
       "output_type": "pyout",
       "prompt_number": 1,
       "text": [
        "<matplotlib.collections.LineCollection at 0x6d39fb0>"
       ]
      }
     ],
     "prompt_number": 1
    },
    {
     "cell_type": "heading",
     "level": 3,
     "metadata": {},
     "source": [
      "RMSE"
     ]
    },
    {
     "cell_type": "code",
     "collapsed": false,
     "input": [
      "print \"RMSE =\", np.sqrt(mean_squared_error(truevals[train_window:], forecasts))"
     ],
     "language": "python",
     "metadata": {},
     "outputs": [
      {
       "output_type": "stream",
       "stream": "stdout",
       "text": [
        "RMSE = 0.107115575899\n"
       ]
      }
     ],
     "prompt_number": 2
    },
    {
     "cell_type": "heading",
     "level": 3,
     "metadata": {},
     "source": [
      "Over-under estimation, based on +-10% of the true value"
     ]
    },
    {
     "cell_type": "code",
     "collapsed": false,
     "input": [
      "def calc_upper_lower_acc(y_true, y_fc, band=0.1):\n",
      "    '''\n",
      "    Calculates the 10% under and over estimation count\n",
      "    \n",
      "    Params\n",
      "    ------\n",
      "    y_true: Real values\n",
      "    y_fc: Forecasted values\n",
      "    band: Percentage band use to calculate the upper and lower bounds\n",
      "    \n",
      "    Return\n",
      "    -------\n",
      "    The count for each [correct, over-est, under-est]\n",
      "    '''\n",
      "    \n",
      "    upper10 = (1+band) * y_true\n",
      "    lower10 = (1-band) * y_true\n",
      "\n",
      "    correct = sum(np.logical_and(np.less_equal(y_fc,upper10),np.greater_equal(y_fc,lower10)))\n",
      "    overest = sum(np.greater_equal(y_fc,upper10))\n",
      "    underest = sum(np.less_equal(y_fc,lower10))\n",
      "\n",
      "    return correct, overest, underest"
     ],
     "language": "python",
     "metadata": {},
     "outputs": [],
     "prompt_number": 3
    },
    {
     "cell_type": "code",
     "collapsed": false,
     "input": [
      "correct, overest, underest = calc_upper_lower_acc(truevals[train_window:], forecasts)\n",
      "\n",
      "print \"Correct prediction rate =\", 1.0*correct/(correct+overest+underest)\n",
      "print \"Over-estimation rate =\", 1.0*overest/(correct+overest+underest)\n",
      "print \"Under-estimation rate =\", 1.0*underest/(correct+overest+underest)"
     ],
     "language": "python",
     "metadata": {},
     "outputs": [
      {
       "output_type": "stream",
       "stream": "stdout",
       "text": [
        "Correct prediction rate = 0.111487758945\n",
        "Over-estimation rate = 0.443126177024\n",
        "Under-estimation rate = 0.44538606403\n"
       ]
      }
     ],
     "prompt_number": 4
    },
    {
     "cell_type": "heading",
     "level": 3,
     "metadata": {},
     "source": [
      "Per sample Accuracy"
     ]
    },
    {
     "cell_type": "code",
     "collapsed": false,
     "input": [
      "def calc_persample_accuracy(y_true, y_fc, print_=False):\n",
      "    '''\n",
      "    Calculates the per sample accuracy True postive, True negative, False positive, False negative\n",
      "    [Tp, Tn, Fp, Fn] respectively \n",
      "    Params:\n",
      "    ------\n",
      "    y_true: boolean array containing real overloaded samples\n",
      "    Y-fc: boolean array containing forecasted overloaded samples\n",
      "    print_: Print confusion matrix\n",
      "    Return\n",
      "    -------\n",
      "    array-like [Tp, Tn, Fp, Fn]\n",
      "    '''\n",
      "    Tp = sum(np.logical_and(r_overload_samples, fc_overload_samples))\n",
      "    Tn = sum(np.logical_and(~r_overload_samples, ~fc_overload_samples))\n",
      "    Fp = sum(np.logical_and(~r_overload_samples, fc_overload_samples))\n",
      "    Fn = sum(np.logical_and(r_overload_samples, ~fc_overload_samples))\n",
      "    \n",
      "    if print_:\n",
      "        print \" ------------\"\n",
      "        print \"|\", Tp, \"|\", Fp, \"|\"\n",
      "        print \"-----------\"\n",
      "        print \"|\", Fn, \"|\", Tn, \"|\"\n",
      "        print \" ------------\"\n",
      "    return Tp, Tn, Fp, Fn"
     ],
     "language": "python",
     "metadata": {},
     "outputs": [],
     "prompt_number": 5
    },
    {
     "cell_type": "code",
     "collapsed": false,
     "input": [
      "r_overload_samples = truevals[train_window:]>threshold\n",
      "fc_overload_samples = forecasts>threshold\n",
      "\n",
      "Tp,Tn, Fp, Fn = calc_persample_accuracy(r_overload_samples,fc_overload_samples,print_=True)\n",
      "# Calculate rates\n",
      "TPR = 1.0*Tp/(Tp+Fn)\n",
      "FPR = 1.0*Fp/(Fp+Tn)\n",
      "\n",
      "print \"TPR = \", TPR\n",
      "print \"FPR = \", FPR"
     ],
     "language": "python",
     "metadata": {},
     "outputs": [
      {
       "output_type": "stream",
       "stream": "stdout",
       "text": [
        " ------------\n",
        "| 1550 | 748 |\n",
        "-----------\n",
        "| 431 | 2581 |\n",
        " ------------\n",
        "TPR =  0.782433114589\n",
        "FPR =  0.22469209973\n"
       ]
      }
     ],
     "prompt_number": 6
    },
    {
     "cell_type": "heading",
     "level": 3,
     "metadata": {},
     "source": [
      "Overload state Accuracy"
     ]
    },
    {
     "cell_type": "code",
     "collapsed": false,
     "input": [
      "def overload_states_where(condition, dur):\n",
      "    idx = []\n",
      "    state_matrix = []\n",
      "    \n",
      "    # Find valid overload state indexes\n",
      "    for start, stop in tsutils.contiguous_regions(condition):\n",
      "        if stop - start >= dur:\n",
      "            idx.append([start,stop])\n",
      "    idx = np.array(idx)\n",
      "    \n",
      "    # Build state matrix\n",
      "    prev_index = 0\n",
      "    for i in range(idx.shape[0]):\n",
      "        state_matrix.append([0]*(idx[i,0] - prev_index))\n",
      "        state_matrix.append([1]*(idx[i,1] - idx[i,0]))\n",
      "        prev_index = idx[i,1]\n",
      "    state_matrix.append([0]*(len(condition) - prev_index))\n",
      "    \n",
      "    return np.array(sum(state_matrix,[]))"
     ],
     "language": "python",
     "metadata": {},
     "outputs": [],
     "prompt_number": 7
    },
    {
     "cell_type": "code",
     "collapsed": false,
     "input": [
      "def count_edges_within_band(true_states, fc_states, band=3, rising=True):\n",
      "    '''\n",
      "    Counts the number of rising (or falling) edges match, within a sample band\n",
      "    \n",
      "    Params\n",
      "    -------\n",
      "    a, b: Boolean arrays that will be compated\n",
      "    band: The number of samples of tolerance\n",
      "    rising: Boolean specify rising or falling edge\n",
      "    \n",
      "    Returns\n",
      "    -------\n",
      "    Count of matching edges, total true rising (or falling) edges\n",
      "    '''\n",
      "    if rising:\n",
      "        a = np.r_[true_states[0], np.diff(true_states)]>0\n",
      "        b = np.r_[fc_states[0], np.diff(fc_states)]>0\n",
      "    else:\n",
      "        a = np.r_[true_states[0], np.diff(true_states)]<0\n",
      "        b = np.r_[fc_states[0], np.diff(fc_states)]<0\n",
      "\n",
      "    total_edges = sum(b)\n",
      "    result = np.logical_and(a, b)\n",
      "    for offset in np.add(range(3),1):\n",
      "        posoff = np.r_[[0]*offset, np.logical_and(a[:-offset], b[offset:])]\n",
      "        negoff = np.r_[np.logical_and(a[offset:], b[:-offset]), [0]*offset]\n",
      "        result = np.logical_or(result, posoff)\n",
      "        result = np.logical_or(result, negoff)\n",
      "\n",
      "    return sum(result), total_edges"
     ],
     "language": "python",
     "metadata": {},
     "outputs": [],
     "prompt_number": 8
    },
    {
     "cell_type": "code",
     "collapsed": false,
     "input": [
      "a = overload_states_where(np.array([0, 1, 1, 1, 0, 0, 1, 1]), dur=3)\n",
      "b = overload_states_where(np.array([0, 0, 1, 1, 1, 0, 0, 0]), dur=3)\n",
      "print a, b\n",
      "print count_edges_within_band(a, b)\n",
      "print count_edges_within_band(a, b, rising=False)"
     ],
     "language": "python",
     "metadata": {},
     "outputs": [
      {
       "output_type": "stream",
       "stream": "stdout",
       "text": [
        "[0 1 1 1 0 0 0 0] [0 0 1 1 1 0 0 0]\n",
        "(1, 1)\n",
        "(1, 1)\n"
       ]
      }
     ],
     "prompt_number": 9
    },
    {
     "cell_type": "code",
     "collapsed": false,
     "input": [
      "r_overload_states = overload_states_where(truevals[train_window:]>threshold, overload_dur)\n",
      "fc_overload_states = overload_states_where(forecasts>threshold, overload_dur)\n",
      "\n",
      "Tp, total_p = count_edges_within_band(r_overload_states, fc_overload_states)\n",
      "Tn, total_n = count_edges_within_band(r_overload_states, fc_overload_states, rising=False)\n",
      "\n",
      "print \"[Tp, Fp, Tn, Fn] = \", Tp, total_p-Tp, Tn, total_n-Tn"
     ],
     "language": "python",
     "metadata": {},
     "outputs": [
      {
       "output_type": "stream",
       "stream": "stdout",
       "text": [
        "[Tp, Fp, Tn, Fn] =  5 40 2 43\n"
       ]
      }
     ],
     "prompt_number": 10
    },
    {
     "cell_type": "code",
     "collapsed": false,
     "input": [],
     "language": "python",
     "metadata": {},
     "outputs": []
    },
    {
     "cell_type": "code",
     "collapsed": false,
     "input": [
      "plt.figure(figsize=(20,8))\n",
      "plt.plot(r_overload_states)\n",
      "plt.plot(fc_overload_states+1.5)\n",
      "plt.ylim((0,3))\n",
      "plt.show()"
     ],
     "language": "python",
     "metadata": {},
     "outputs": [],
     "prompt_number": 15
    },
    {
     "cell_type": "code",
     "collapsed": false,
     "input": [
      "a = np.array([0, 1, 1, 1, 0, 0])\n",
      "b = np.array([1, 1, 0, 1, 1, 0])\n",
      "# calculateTP(a,b, band=1)\n",
      "\n",
      "d = np.r_[a[0], np.diff(a)]\n",
      "e = np.r_[b[0], np.diff(b)]\n",
      "print d, e"
     ],
     "language": "python",
     "metadata": {},
     "outputs": []
    },
    {
     "cell_type": "code",
     "collapsed": false,
     "input": [
      "true_starts = overload_states[:,0]\n",
      "fc_starts = fc_overload_states[:,0]\n",
      "band = 3\n",
      "tp = 0\n",
      "fp = 0\n",
      "for s in fc_starts:\n",
      "    if np.argwhere(np.logical_and(true_starts>=s-band, true_starts<=s+band)).shape[0]:\n",
      "        tp += 1\n",
      "    else:\n",
      "        fp += 1"
     ],
     "language": "python",
     "metadata": {},
     "outputs": []
    },
    {
     "cell_type": "code",
     "collapsed": false,
     "input": [
      "print tp, fp"
     ],
     "language": "python",
     "metadata": {},
     "outputs": []
    },
    {
     "cell_type": "code",
     "collapsed": false,
     "input": [
      "print overload_states.shape, fc_overload_states.shape"
     ],
     "language": "python",
     "metadata": {},
     "outputs": []
    },
    {
     "cell_type": "code",
     "collapsed": false,
     "input": [
      "true_notoverload = overload_states_where(truevals[3000:]<threshold,1)\n",
      "fc_notoverload = overload_states_where(forecasts<threshold,1)\n",
      "print true_notoverload, fc_notoverload"
     ],
     "language": "python",
     "metadata": {},
     "outputs": []
    }
   ],
   "metadata": {}
  }
 ]
}