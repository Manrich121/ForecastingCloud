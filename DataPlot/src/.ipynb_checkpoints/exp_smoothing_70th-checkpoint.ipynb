{
 "metadata": {
  "name": "",
  "signature": "sha256:fd166ef093ed9d6d673548a1f5240b6499677ea2bb46c6957e4199a5adfd79a5"
 },
 "nbformat": 3,
 "nbformat_minor": 0,
 "worksheets": [
  {
   "cells": [
    {
     "cell_type": "heading",
     "level": 2,
     "metadata": {},
     "source": [
      "Exponential Smoothing on CPU rate, using 70th percentile of data trace as overload threshold"
     ]
    },
    {
     "cell_type": "code",
     "collapsed": false,
     "input": [
      "%matplotlib inline\n",
      "import fileutils\n",
      "import numpy as np\n",
      "import matplotlib.pyplot as plt\n",
      "import holtwinters as hw\n",
      "from sklearn.metrics import mean_squared_error\n",
      "import HW_model"
     ],
     "language": "python",
     "metadata": {},
     "outputs": [],
     "prompt_number": 1
    },
    {
     "cell_type": "code",
     "collapsed": false,
     "input": [
      "# Constants\n",
      "'''\n",
      "Input window = 250 hours = 250*12 = 3000 \n",
      "look ahead window 60 samples =  5 hours = 720min/5 = 60\n",
      "'''\n",
      "input_window = 3000\n",
      "forecast_window = 60\n",
      "thres = 70"
     ],
     "language": "python",
     "metadata": {},
     "outputs": [],
     "prompt_number": 2
    },
    {
     "cell_type": "code",
     "collapsed": false,
     "input": [
      "def performsSlidingWindowForecast(filename, input_window=3000, predic_window=60):\n",
      "    \n",
      "    data = pd.read_csv(filename)\n",
      "    N = len(data.Cpu)\n",
      "    forecastRmse = []\n",
      "    \n",
      "    print filename \n",
      "    \n",
      "    for strIndex in range(0,N-input_window - predic_window,predic_window):\n",
      "        \n",
      "        y = data.Cpu[strIndex:strIndex + input_window].tolist()\n",
      "        y_true = data.Cpu[strIndex + input_window:strIndex + input_window+predic_window]\n",
      "\n",
      "        model = HW_model.HW_model(y, 'additive')\n",
      "        params, rmse = model.fit()\n",
      "                \n",
      "        y_pred = model.predict(fc=predic_window)\n",
      "        forecastRmse.append(mean_squared_error(y_true, y_pred))\n",
      "    return forecastRmse"
     ],
     "language": "python",
     "metadata": {},
     "outputs": []
    }
   ],
   "metadata": {}
  }
 ]
}