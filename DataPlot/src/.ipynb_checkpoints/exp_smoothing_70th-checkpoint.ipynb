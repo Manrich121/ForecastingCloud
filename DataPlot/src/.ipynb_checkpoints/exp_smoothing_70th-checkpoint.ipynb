{
 "metadata": {
  "name": "",
  "signature": "sha256:c35aaa622592ee18615dca1712af3b9290337d65b2423b18accd060c310aecc1"
 },
 "nbformat": 3,
 "nbformat_minor": 0,
 "worksheets": [
  {
   "cells": [
    {
     "cell_type": "heading",
     "level": 2,
     "metadata": {},
     "source": [
      "Exponential Smoothing on CPU rate, using 70th percentile of data trace as overload threshold"
     ]
    },
    {
     "cell_type": "code",
     "collapsed": false,
     "input": [
      "%matplotlib inline\n",
      "import fileutils\n",
      "import numpy as np\n",
      "import matplotlib.pyplot as plt\n",
      "import holtwinters as hw\n",
      "from sklearn.metrics import mean_squared_error"
     ],
     "language": "python",
     "metadata": {},
     "outputs": [],
     "prompt_number": 1
    }
   ],
   "metadata": {}
  }
 ]
}