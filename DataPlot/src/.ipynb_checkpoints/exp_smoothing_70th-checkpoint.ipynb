{
 "metadata": {
  "name": "",
  "signature": "sha256:aa01ccd03acc8a68dd00f48ff65507b76b851b95869df4781ffc1aa37d0c9f62"
 },
 "nbformat": 3,
 "nbformat_minor": 0,
 "worksheets": [
  {
   "cells": [
    {
     "cell_type": "heading",
     "level": 2,
     "metadata": {},
     "source": [
      "Exponential Smoothing on CPU rate, using 70th percentile"
     ]
    },
    {
     "cell_type": "markdown",
     "metadata": {},
     "source": [
      "* Overload threshold is set to 70th percentile of current machine's trace\n",
      "* Overload state when values is above threshold for Q samples (Q = 5 samples)\n",
      "* Correct prediction when overload starting time is predited withing 3*Samples of true overload state start\n",
      "* The following Accuracy metric are calculated:\n",
      "    * RMSE\n",
      "    * Over-and under estimation\n",
      "    * Per sample accuracy\n",
      "    * Overload state accuracy"
     ]
    },
    {
     "cell_type": "raw",
     "metadata": {},
     "source": [
      "-----------\n",
      "| Tp | Fp |\n",
      "-----------\n",
      "| Fn | Tn |\n",
      "-----------"
     ]
    },
    {
     "cell_type": "markdown",
     "metadata": {},
     "source": [
      "| Metric | Per sample | Overload state |\n",
      "| ------ | ---------- | -------------- |\n",
      "| Tp     | Forecast sample is overload, Real value is overload | Forecasted start of an overload state is within 3 samples of Real start\n",
      "| Fp     | Forecast sample is overload, Real value is not overload | Forecasted start of overload state is outside 3 samples of Real start\n",
      "| Tn     | Forecast sample is not overload, Real agrees | Forecasted end of overload state is within 3 samples of Real end of overload\n",
      "| Fn     | Forecast sample is not overload, Real is overload | Forecasted end of overload state is outside 3 sample of Real end of overload"
     ]
    },
    {
     "cell_type": "code",
     "collapsed": false,
     "input": [
      "# %matplotlib inline\n",
      "import fileutils\n",
      "import tsutils\n",
      "import numpy as np\n",
      "import matplotlib.pyplot as plt\n",
      "from sklearn.metrics import mean_squared_error\n",
      "overload_dur = 5 #samples\n",
      "train_window = 3000\n",
      "\n",
      "forecasts = np.genfromtxt(\"d:/data/cpu_exp_smooting_forecasts/cpu_1095481.csv\",delimiter=',',usecols=range(0,30)).ravel()\n",
      "truevals = np.genfromtxt(\"d:/data/cpuRate/cpu_1095481.csv\", delimiter=',',skip_header=1)[:train_window+len(forecasts),1]\n",
      "\n",
      "threshold =  np.percentile(truevals, 70)\n",
      "\n",
      "plt.figure(figsize=(12,8))\n",
      "plt.plot(truevals)\n",
      "plt.plot(range(3000,3000+len(forecasts)),forecasts)\n",
      "plt.hlines(threshold,0,len(truevals))"
     ],
     "language": "python",
     "metadata": {},
     "outputs": [
      {
       "metadata": {},
       "output_type": "pyout",
       "prompt_number": 1,
       "text": [
        "<matplotlib.collections.LineCollection at 0x6d19fd0>"
       ]
      }
     ],
     "prompt_number": 1
    },
    {
     "cell_type": "code",
     "collapsed": false,
     "input": [
      "def printConfusion(Tp, Fp, Tn, Fn):\n",
      "    '''\n",
      "    Prints the confusion matrix using the True positive, False positive, True negative\n",
      "    and False negative values. Also caluclates the True Positive Rate (TPR) and\n",
      "    False Positive Rate (FPR)\n",
      "    '''\n",
      "    print \" ------------\"\n",
      "    print \"|\", Tp, \"|\", Fp, \"|\"\n",
      "    print \"-----------\"\n",
      "    print \"|\", Fn, \"|\", Tn, \"|\"\n",
      "    print \" ------------\"\n",
      "    \n",
      "    # Calculate rates\n",
      "    TPR = 1.0*Tp/(Tp+Fn)\n",
      "    FPR = 1.0*Fp/(Fp+Tn)\n",
      "\n",
      "    print \"TPR = \", TPR\n",
      "    print \"FPR = \", FPR\n",
      "    return TPR, FPR"
     ],
     "language": "python",
     "metadata": {},
     "outputs": [],
     "prompt_number": 2
    },
    {
     "cell_type": "heading",
     "level": 3,
     "metadata": {},
     "source": [
      "RMSE"
     ]
    },
    {
     "cell_type": "code",
     "collapsed": false,
     "input": [
      "print \"RMSE =\", np.sqrt(mean_squared_error(truevals[train_window:], forecasts))"
     ],
     "language": "python",
     "metadata": {},
     "outputs": [
      {
       "output_type": "stream",
       "stream": "stdout",
       "text": [
        "RMSE = 0.107115575899\n"
       ]
      }
     ],
     "prompt_number": 3
    },
    {
     "cell_type": "heading",
     "level": 3,
     "metadata": {},
     "source": [
      "Over-under estimation, based on +-10% of the true value"
     ]
    },
    {
     "cell_type": "code",
     "collapsed": false,
     "input": [
      "def calc_upper_lower_acc(y_true, y_fc, band=0.1, print_=False):\n",
      "    '''\n",
      "    Calculates the 10% under and over estimation count\n",
      "    \n",
      "    Params\n",
      "    ------\n",
      "    y_true: Real values\n",
      "    y_fc: Forecasted values\n",
      "    band: Percentage band use to calculate the upper and lower bounds\n",
      "    \n",
      "    Return\n",
      "    -------\n",
      "    The count for each [correct, over-est, under-est]\n",
      "    '''\n",
      "    \n",
      "    upper10 = (1+band) * y_true\n",
      "    lower10 = (1-band) * y_true\n",
      "\n",
      "    correct = sum(np.logical_and(np.less_equal(y_fc,upper10),np.greater_equal(y_fc,lower10)))\n",
      "    overest = sum(np.greater_equal(y_fc,upper10))\n",
      "    underest = sum(np.less_equal(y_fc,lower10))\n",
      "    \n",
      "    if print_:\n",
      "        print \"Correct prediction rate =\", 1.0*correct/(correct+overest+underest)\n",
      "        print \"Over-estimation rate =\", 1.0*overest/(correct+overest+underest)\n",
      "        print \"Under-estimation rate =\", 1.0*underest/(correct+overest+underest)\n",
      "\n",
      "    return correct, overest, underest"
     ],
     "language": "python",
     "metadata": {},
     "outputs": [],
     "prompt_number": 4
    },
    {
     "cell_type": "code",
     "collapsed": false,
     "input": [
      "correct, overest, underest = calc_upper_lower_acc(truevals[train_window:], forecasts, print_=True)"
     ],
     "language": "python",
     "metadata": {},
     "outputs": [
      {
       "output_type": "stream",
       "stream": "stdout",
       "text": [
        "Correct prediction rate = 0.111487758945\n",
        "Over-estimation rate = 0.443126177024\n",
        "Under-estimation rate = 0.44538606403\n"
       ]
      }
     ],
     "prompt_number": 5
    },
    {
     "cell_type": "heading",
     "level": 3,
     "metadata": {},
     "source": [
      "Per sample Accuracy"
     ]
    },
    {
     "cell_type": "code",
     "collapsed": false,
     "input": [
      "def calc_persample_accuracy(y_true, y_fc, threshold, print_=False):\n",
      "    '''\n",
      "    Calculates the True positive rate, False postive rate per sample accuracy\n",
      "    (Using True postive, True negative, False positive, False negative [Tp, Tn, Fp, Fn] \n",
      "    respectively)\n",
      "    \n",
      "    Params:\n",
      "    ------\n",
      "    y_true: Real values\n",
      "    y_fc: Forecasted values\n",
      "    threshold: Float value, a sample is classified as overload when above threshold\n",
      "    print_: Print confusion matrix and Accuracy rates\n",
      "    \n",
      "    Return\n",
      "    -------\n",
      "    True positive rate, False postive rate\n",
      "    '''\n",
      "    r_overload_samples = y_true>threshold\n",
      "    fc_overload_samples = y_fc>threshold\n",
      "    \n",
      "    Tp = sum(np.logical_and(r_overload_samples, fc_overload_samples))\n",
      "    Tn = sum(np.logical_and(~r_overload_samples, ~fc_overload_samples))\n",
      "    Fp = sum(np.logical_and(~r_overload_samples, fc_overload_samples))\n",
      "    Fn = sum(np.logical_and(r_overload_samples, ~fc_overload_samples))\n",
      "    \n",
      "    # Calculate rates\n",
      "    TPR = 1.0*Tp/(Tp+Fn)\n",
      "    FPR = 1.0*Fp/(Fp+Tn)\n",
      "    \n",
      "    if print_:\n",
      "        printConfusion(Tp, Fp, Tn, Fn)\n",
      "    return TPR, FPR"
     ],
     "language": "python",
     "metadata": {},
     "outputs": [],
     "prompt_number": 6
    },
    {
     "cell_type": "code",
     "collapsed": false,
     "input": [
      "TPR, FPR = calc_persample_accuracy(truevals[train_window:], forecasts, threshold, print_=True)"
     ],
     "language": "python",
     "metadata": {},
     "outputs": [
      {
       "output_type": "stream",
       "stream": "stdout",
       "text": [
        " ------------\n",
        "| 1550 | 748 |\n",
        "-----------\n",
        "| 431 | 2581 |\n",
        " ------------\n",
        "TPR =  0.782433114589\n",
        "FPR =  0.22469209973\n"
       ]
      }
     ],
     "prompt_number": 9
    },
    {
     "cell_type": "heading",
     "level": 3,
     "metadata": {},
     "source": [
      "Overload state Accuracy"
     ]
    },
    {
     "cell_type": "code",
     "collapsed": false,
     "input": [
      "def overload_states_where(condition, dur):\n",
      "    '''\n",
      "    Determines where the condition is True for at least dur samples\n",
      "    \n",
      "    Params\n",
      "    ------\n",
      "    condition: Boolean array\n",
      "    dur: The least number of samples where the condition should be True\n",
      "    \n",
      "    Returns:\n",
      "    -------\n",
      "    state_matrix: A reconstructed boolean array containing only valid states length of condition\n",
      "    '''\n",
      "    idx = []\n",
      "    state_matrix = []\n",
      "    \n",
      "    # Find valid overload state indexes\n",
      "    for start, stop in tsutils.contiguous_regions(condition):\n",
      "        if stop - start >= dur:\n",
      "            idx.append([start,stop])\n",
      "    idx = np.array(idx)\n",
      "    \n",
      "    # Build state matrix\n",
      "    prev_index = 0\n",
      "    for i in range(idx.shape[0]):\n",
      "        state_matrix.append([0]*(idx[i,0] - prev_index))\n",
      "        state_matrix.append([1]*(idx[i,1] - idx[i,0]))\n",
      "        prev_index = idx[i,1]\n",
      "    state_matrix.append([0]*(len(condition) - prev_index))\n",
      "    \n",
      "    return np.array(sum(state_matrix,[]))"
     ],
     "language": "python",
     "metadata": {},
     "outputs": [],
     "prompt_number": 10
    },
    {
     "cell_type": "code",
     "collapsed": false,
     "input": [
      "def count_edges_within_band(a, b, band=3, rising=True):\n",
      "    '''\n",
      "    Counts the number of rising (or falling) edges match, within a sample band\n",
      "    \n",
      "    Params\n",
      "    -------\n",
      "    a, b: Boolean arrays that will be compated\n",
      "    band: The number of samples of tolerance\n",
      "    rising: Boolean specify rising or falling edge\n",
      "    \n",
      "    Returns\n",
      "    -------\n",
      "    Count of matching edges, total true rising (or falling) edges\n",
      "    '''\n",
      "    if rising:\n",
      "        a = np.r_[a[0], np.diff(a)]>0\n",
      "        b = np.r_[b[0], np.diff(b)]>0\n",
      "    else:\n",
      "        a = np.r_[a[0], np.diff(a)]<0\n",
      "        b = np.r_[b[0], np.diff(b)]<0\n",
      "\n",
      "    total_edges = sum(a)\n",
      "    result = np.logical_and(a, b)\n",
      "    for offset in np.add(range(3),1):\n",
      "        posoff = np.r_[[0]*offset, np.logical_and(a[:-offset], b[offset:])]\n",
      "        negoff = np.r_[np.logical_and(a[offset:], b[:-offset]), [0]*offset]\n",
      "        result = np.logical_or(result, posoff)\n",
      "        result = np.logical_or(result, negoff)\n",
      "\n",
      "    return sum(result), total_edges"
     ],
     "language": "python",
     "metadata": {},
     "outputs": [],
     "prompt_number": 11
    },
    {
     "cell_type": "code",
     "collapsed": false,
     "input": [
      "def calc_overload_states_acc(y_true, y_fc, threshold, overload_dur=5, print_=False):\n",
      "    '''\n",
      "    Calculates the Accuracy rates for the overload and not-overload states, where an overload\n",
      "    state is defined as samples being above the threshold for at least overload_dur samples\n",
      "    \n",
      "    Params:\n",
      "    -------\n",
      "    y_true: Real values\n",
      "    y_fc: Forecasted values\n",
      "    threshold: Float value, a sample is classified as overload when above threshold\n",
      "    print_: Print confusion matrix and Accuracy rates\n",
      "    \n",
      "    Return\n",
      "    -------\n",
      "    True positive rate, False postive rate\n",
      "    '''\n",
      "    r_overload_states = overload_states_where(truevals[train_window:]>threshold, overload_dur)\n",
      "    fc_overload_states = overload_states_where(forecasts>threshold, overload_dur)\n",
      "\n",
      "    Tp, total_p = count_edges_within_band(r_overload_states, fc_overload_states)\n",
      "    Tn, total_n = count_edges_within_band(r_overload_states, fc_overload_states, rising=False)\n",
      "    Fp = total_p-Tp\n",
      "    Fn = total_n-Tn\n",
      "    \n",
      "    # Calculate rates\n",
      "    TPR = 1.0*Tp/(Tp+Fn)\n",
      "    FPR = 1.0*Fp/(Fp+Tn)\n",
      "\n",
      "    if print_:\n",
      "        printConfusion(Tp, Fp, Tn, Fn)\n",
      "\n",
      "    return TPR, FPR"
     ],
     "language": "python",
     "metadata": {},
     "outputs": [],
     "prompt_number": 12
    },
    {
     "cell_type": "code",
     "collapsed": false,
     "input": [
      "calc_overload_states_acc(truevals[train_window:], forecasts, threshold, print_=True)"
     ],
     "language": "python",
     "metadata": {},
     "outputs": [
      {
       "ename": "NameError",
       "evalue": "global name 'true_states' is not defined",
       "output_type": "pyerr",
       "traceback": [
        "\u001b[1;31m---------------------------------------------------------------------------\u001b[0m\n\u001b[1;31mNameError\u001b[0m                                 Traceback (most recent call last)",
        "\u001b[1;32m<ipython-input-13-f4a496145dd0>\u001b[0m in \u001b[0;36m<module>\u001b[1;34m()\u001b[0m\n\u001b[1;32m----> 1\u001b[1;33m \u001b[0mcalc_overload_states_acc\u001b[0m\u001b[1;33m(\u001b[0m\u001b[0mtruevals\u001b[0m\u001b[1;33m[\u001b[0m\u001b[0mtrain_window\u001b[0m\u001b[1;33m:\u001b[0m\u001b[1;33m]\u001b[0m\u001b[1;33m,\u001b[0m \u001b[0mforecasts\u001b[0m\u001b[1;33m,\u001b[0m \u001b[0mthreshold\u001b[0m\u001b[1;33m,\u001b[0m \u001b[0mprint_\u001b[0m\u001b[1;33m=\u001b[0m\u001b[0mTrue\u001b[0m\u001b[1;33m)\u001b[0m\u001b[1;33m\u001b[0m\u001b[0m\n\u001b[0m",
        "\u001b[1;32m<ipython-input-12-0fdcd0a4d3bf>\u001b[0m in \u001b[0;36mcalc_overload_states_acc\u001b[1;34m(y_true, y_fc, threshold, overload_dur, print_)\u001b[0m\n\u001b[0;32m     18\u001b[0m     \u001b[0mfc_overload_states\u001b[0m \u001b[1;33m=\u001b[0m \u001b[0moverload_states_where\u001b[0m\u001b[1;33m(\u001b[0m\u001b[0mforecasts\u001b[0m\u001b[1;33m>\u001b[0m\u001b[0mthreshold\u001b[0m\u001b[1;33m,\u001b[0m \u001b[0moverload_dur\u001b[0m\u001b[1;33m)\u001b[0m\u001b[1;33m\u001b[0m\u001b[0m\n\u001b[0;32m     19\u001b[0m \u001b[1;33m\u001b[0m\u001b[0m\n\u001b[1;32m---> 20\u001b[1;33m     \u001b[0mTp\u001b[0m\u001b[1;33m,\u001b[0m \u001b[0mtotal_p\u001b[0m \u001b[1;33m=\u001b[0m \u001b[0mcount_edges_within_band\u001b[0m\u001b[1;33m(\u001b[0m\u001b[0mr_overload_states\u001b[0m\u001b[1;33m,\u001b[0m \u001b[0mfc_overload_states\u001b[0m\u001b[1;33m)\u001b[0m\u001b[1;33m\u001b[0m\u001b[0m\n\u001b[0m\u001b[0;32m     21\u001b[0m     \u001b[0mTn\u001b[0m\u001b[1;33m,\u001b[0m \u001b[0mtotal_n\u001b[0m \u001b[1;33m=\u001b[0m \u001b[0mcount_edges_within_band\u001b[0m\u001b[1;33m(\u001b[0m\u001b[0mr_overload_states\u001b[0m\u001b[1;33m,\u001b[0m \u001b[0mfc_overload_states\u001b[0m\u001b[1;33m,\u001b[0m \u001b[0mrising\u001b[0m\u001b[1;33m=\u001b[0m\u001b[0mFalse\u001b[0m\u001b[1;33m)\u001b[0m\u001b[1;33m\u001b[0m\u001b[0m\n\u001b[0;32m     22\u001b[0m     \u001b[0mFp\u001b[0m \u001b[1;33m=\u001b[0m \u001b[0mtotal_p\u001b[0m\u001b[1;33m-\u001b[0m\u001b[0mTp\u001b[0m\u001b[1;33m\u001b[0m\u001b[0m\n",
        "\u001b[1;32m<ipython-input-11-225c9b3da18e>\u001b[0m in \u001b[0;36mcount_edges_within_band\u001b[1;34m(a, b, band, rising)\u001b[0m\n\u001b[0;32m     14\u001b[0m     '''\n\u001b[0;32m     15\u001b[0m     \u001b[1;32mif\u001b[0m \u001b[0mrising\u001b[0m\u001b[1;33m:\u001b[0m\u001b[1;33m\u001b[0m\u001b[0m\n\u001b[1;32m---> 16\u001b[1;33m         \u001b[0ma\u001b[0m \u001b[1;33m=\u001b[0m \u001b[0mnp\u001b[0m\u001b[1;33m.\u001b[0m\u001b[0mr_\u001b[0m\u001b[1;33m[\u001b[0m\u001b[0mtrue_states\u001b[0m\u001b[1;33m[\u001b[0m\u001b[1;36m0\u001b[0m\u001b[1;33m]\u001b[0m\u001b[1;33m,\u001b[0m \u001b[0mnp\u001b[0m\u001b[1;33m.\u001b[0m\u001b[0mdiff\u001b[0m\u001b[1;33m(\u001b[0m\u001b[0mtrue_states\u001b[0m\u001b[1;33m)\u001b[0m\u001b[1;33m]\u001b[0m\u001b[1;33m>\u001b[0m\u001b[1;36m0\u001b[0m\u001b[1;33m\u001b[0m\u001b[0m\n\u001b[0m\u001b[0;32m     17\u001b[0m         \u001b[0mb\u001b[0m \u001b[1;33m=\u001b[0m \u001b[0mnp\u001b[0m\u001b[1;33m.\u001b[0m\u001b[0mr_\u001b[0m\u001b[1;33m[\u001b[0m\u001b[0mfc_states\u001b[0m\u001b[1;33m[\u001b[0m\u001b[1;36m0\u001b[0m\u001b[1;33m]\u001b[0m\u001b[1;33m,\u001b[0m \u001b[0mnp\u001b[0m\u001b[1;33m.\u001b[0m\u001b[0mdiff\u001b[0m\u001b[1;33m(\u001b[0m\u001b[0mfc_states\u001b[0m\u001b[1;33m)\u001b[0m\u001b[1;33m]\u001b[0m\u001b[1;33m>\u001b[0m\u001b[1;36m0\u001b[0m\u001b[1;33m\u001b[0m\u001b[0m\n\u001b[0;32m     18\u001b[0m     \u001b[1;32melse\u001b[0m\u001b[1;33m:\u001b[0m\u001b[1;33m\u001b[0m\u001b[0m\n",
        "\u001b[1;31mNameError\u001b[0m: global name 'true_states' is not defined"
       ]
      }
     ],
     "prompt_number": 13
    }
   ],
   "metadata": {}
  }
 ]
}